{
  "nbformat": 4,
  "nbformat_minor": 0,
  "metadata": {
    "colab": {
      "provenance": [],
      "authorship_tag": "ABX9TyPxykZpWdXbr5Vnbkrl4JZ5",
      "include_colab_link": true
    },
    "kernelspec": {
      "name": "python3",
      "display_name": "Python 3"
    },
    "language_info": {
      "name": "python"
    }
  },
  "cells": [
    {
      "cell_type": "markdown",
      "metadata": {
        "id": "view-in-github",
        "colab_type": "text"
      },
      "source": [
        "<a href=\"https://colab.research.google.com/github/konevenkatesh/SupplementOntologyData/blob/master/test/iprok_resource.ipynb\" target=\"_parent\"><img src=\"https://colab.research.google.com/assets/colab-badge.svg\" alt=\"Open In Colab\"/></a>"
      ]
    },
    {
      "cell_type": "code",
      "execution_count": 1,
      "metadata": {
        "colab": {
          "base_uri": "https://localhost:8080/"
        },
        "id": "p65l4G_KQPZM",
        "outputId": "6caf7b58-dbef-4688-fee6-f1f8bcd6f014"
      },
      "outputs": [
        {
          "output_type": "stream",
          "name": "stdout",
          "text": [
            "Collecting owlready2\n",
            "  Downloading owlready2-0.47.tar.gz (27.3 MB)\n",
            "\u001b[2K     \u001b[90m━━━━━━━━━━━━━━━━━━━━━━━━━━━━━━━━━━━━━━━━\u001b[0m \u001b[32m27.3/27.3 MB\u001b[0m \u001b[31m46.8 MB/s\u001b[0m eta \u001b[36m0:00:00\u001b[0m\n",
            "\u001b[?25h  Installing build dependencies ... \u001b[?25l\u001b[?25hdone\n",
            "  Getting requirements to build wheel ... \u001b[?25l\u001b[?25hdone\n",
            "  Preparing metadata (pyproject.toml) ... \u001b[?25l\u001b[?25hdone\n",
            "Building wheels for collected packages: owlready2\n",
            "  Building wheel for owlready2 (pyproject.toml) ... \u001b[?25l\u001b[?25hdone\n",
            "  Created wheel for owlready2: filename=owlready2-0.47-cp311-cp311-linux_x86_64.whl size=24521243 sha256=a6fc492bd8fa90cb5386496f3c7a104789e23a3813db5091631984fdb087ab00\n",
            "  Stored in directory: /root/.cache/pip/wheels/25/9a/a3/fb1ac6339caa859c8bb18d685736168b0b51d851af13d81d52\n",
            "Successfully built owlready2\n",
            "Installing collected packages: owlready2\n",
            "Successfully installed owlready2-0.47\n",
            "Collecting rdflib\n",
            "  Downloading rdflib-7.1.4-py3-none-any.whl.metadata (11 kB)\n",
            "Requirement already satisfied: pyparsing<4,>=2.1.0 in /usr/local/lib/python3.11/dist-packages (from rdflib) (3.2.3)\n",
            "Downloading rdflib-7.1.4-py3-none-any.whl (565 kB)\n",
            "\u001b[2K   \u001b[90m━━━━━━━━━━━━━━━━━━━━━━━━━━━━━━━━━━━━━━━━\u001b[0m \u001b[32m565.1/565.1 kB\u001b[0m \u001b[31m8.6 MB/s\u001b[0m eta \u001b[36m0:00:00\u001b[0m\n",
            "\u001b[?25hInstalling collected packages: rdflib\n",
            "Successfully installed rdflib-7.1.4\n"
          ]
        }
      ],
      "source": [
        "!pip install owlready2\n",
        "!pip install rdflib"
      ]
    },
    {
      "cell_type": "code",
      "source": [
        "# Import necessary libraries\n",
        "from owlready2 import *\n",
        "from datetime import date, datetime, timedelta\n",
        "from rdflib import Graph"
      ],
      "metadata": {
        "id": "n3omY7skQgzh"
      },
      "execution_count": 2,
      "outputs": []
    },
    {
      "cell_type": "code",
      "source": [
        "set_log_level(9)"
      ],
      "metadata": {
        "id": "Eo6WxGwWS9P4"
      },
      "execution_count": 3,
      "outputs": []
    },
    {
      "cell_type": "code",
      "source": [
        "# Define the IproK Ontology IRI and get/create the ontology\n",
        "resource_iri = \"https://w3id.org/iprok/resource#\"\n",
        "resource_iprok = get_ontology(resource_iri)"
      ],
      "metadata": {
        "id": "2-n87FWxQhgh",
        "outputId": "50c946a9-f537-4bbd-e4b8-e7d3006b7f87",
        "colab": {
          "base_uri": "https://localhost:8080/"
        }
      },
      "execution_count": 4,
      "outputs": [
        {
          "output_type": "stream",
          "name": "stderr",
          "text": [
            "* Owlready2 * Creating new ontology resource <https://w3id.org/iprok/resource#>.\n",
            "* Owlready2 * ADD TRIPLE https://w3id.org/iprok/resource http://www.w3.org/1999/02/22-rdf-syntax-ns#type http://www.w3.org/2002/07/owl#Ontology\n"
          ]
        }
      ]
    },
    {
      "cell_type": "code",
      "source": [
        "# Improt base IproK ontology\n",
        "iprok = get_ontology(\"iprok.owl\").load()\n",
        "resource_iprok.imported_ontologies.append(iprok)"
      ],
      "metadata": {
        "id": "cpCBe3uMS6sZ",
        "outputId": "ee3cb4cc-e707-44ce-e359-68698c56dfbf",
        "colab": {
          "base_uri": "https://localhost:8080/"
        }
      },
      "execution_count": 5,
      "outputs": [
        {
          "output_type": "stream",
          "name": "stderr",
          "text": [
            "* Owlready2 * Creating new ontology iprok <iprok.owl#>.\n",
            "* Owlready2 * ADD TRIPLE iprok.owl http://www.w3.org/1999/02/22-rdf-syntax-ns#type http://www.w3.org/2002/07/owl#Ontology\n",
            "* Owlready2 *     ...loading ontology iprok from iprok.owl...\n",
            "* Owlready2 *     ...6 properties found: constraintType, constraintDate, hasGlobalId, hasId, hasName, hasDescription\n",
            "* Owlready2 * ADD TRIPLE https://w3id.org/iprok/resource http://www.w3.org/2002/07/owl#imports https://w3id.org/iprok\n"
          ]
        }
      ]
    },
    {
      "cell_type": "code",
      "source": [
        "\n",
        "with resource_iprok:\n",
        "\n",
        "    # Core Classes\n",
        "    class Resource(iprok.IproKThing):\n",
        "        label = [\"Resource\"]\n",
        "        comment = [\"An asset, item, or person required for or consumed by project tasks.\"]\n",
        "        # namespace = resource_iprok # Explicitly set namespace if needed\n",
        "        pass\n",
        "\n",
        "    class ResourceType(iprok.IproKThing):\n",
        "        label = [\"Resource Type\"]\n",
        "        comment = [\"The classification of a resource (e.g., labor, equipment, material).\"]\n",
        "        # namespace = resource_iprok\n",
        "        pass\n",
        "\n",
        "    class LaborResource(ResourceType):\n",
        "        label = [\"Labor Resource\"]\n",
        "        comment = [\"A type of resource representing human effort, skills, or services.\"]\n",
        "        # namespace = resource_iprok\n",
        "        pass\n",
        "\n",
        "    class EquipmentResource(ResourceType):\n",
        "        label = [\"Equipment Resource\"]\n",
        "        comment = [\"A type of resource representing machinery, tools, or other equipment.\"]\n",
        "        # namespace = resource_iprok\n",
        "        pass\n",
        "\n",
        "    class MaterialResource(ResourceType):\n",
        "        label = [\"Material Resource\"]\n",
        "        comment = [\"A type of resource representing consumable supplies or raw materials.\"]\n",
        "        # namespace = resource_iprok\n",
        "        pass\n",
        "\n",
        "    class UserDefinedResource(ResourceType):\n",
        "        label = [\"User Defined Resource\"]\n",
        "        comment = [\"A flexible type for resources not covered by standard classifications like labor, equipment, or material.\"]\n",
        "        # namespace = resource_iprok\n",
        "        pass\n",
        "\n",
        "    # Axiom: Resource types are disjoint\n",
        "    AllDisjoint([LaborResource, EquipmentResource, MaterialResource, UserDefinedResource])\n",
        "\n",
        "    class TrackingTag(iprok.IproKThing):\n",
        "        label = [\"Tracking Tag\"]\n",
        "        comment = [\"An identifier or device (e.g., RFID, barcode) used for monitoring and tracking a resource.\"]\n",
        "        # namespace = resource_iprok\n",
        "        pass\n",
        "\n",
        "    class Units(iprok.IproKThing): # Unit of Measure\n",
        "        label = [\"Units\"]\n",
        "        comment = [\"The unit of measure for quantifying a resource's amount, capacity, or rate (e.g., hours, kg, items).\"]\n",
        "        # namespace = resource_iprok\n",
        "        pass\n",
        "\n",
        "    class ResourceConstraint(iprok.Constraint):\n",
        "        label = [\"Resource Constraint\"]\n",
        "        comment = [\"A specific limitation or condition affecting the use, availability, or allocation of a resource.\"]\n",
        "        # namespace = resource_iprok\n",
        "        pass\n",
        "\n",
        "    # Resource Module - Data Properties\n",
        "    # Reusing hasId, hasName, hasGlobalId, hasDescription defined in 'iprok'\n",
        "    # These should already be annotated in their original 'iprok' definition.\n",
        "    iprok.hasId.domain.append(Resource)\n",
        "    iprok.hasName.domain.append(Resource)\n",
        "    iprok.hasGlobalId.domain.append(Resource)\n",
        "    iprok.hasDescription.domain.append(Resource)\n",
        "    # Consider also extending domains for ResourceType, TrackingTag, Units, ResourceConstraint if they need these common properties.\n",
        "    # e.g., iprok.hasName.domain.extend([ResourceType, Units, TrackingTag])\n",
        "\n",
        "\n",
        "    class baseRate(DataProperty):\n",
        "        # namespace = resource_iprok\n",
        "        label = [\"base Rate\"]\n",
        "        comment = [\"The standard cost rate for a resource, typically per unit of time or quantity.\"]\n",
        "        domain = [Resource]\n",
        "        range = [float]\n",
        "\n",
        "    class currency(DataProperty, FunctionalProperty):\n",
        "        # namespace = resource_iprok\n",
        "        label = [\"currency\"]\n",
        "        comment = [\"The currency code (e.g., USD, EUR) for monetary values related to the resource, like its base rate.\"]\n",
        "        domain = [Resource] # This might also apply to CostItem in another module\n",
        "        range = [str]\n",
        "\n",
        "    class effectiveDateForRate(DataProperty, FunctionalProperty):\n",
        "        # namespace = resource_iprok\n",
        "        label = [\"effective Date For Rate\"]\n",
        "        comment = [\"The date from which the specified base rate for a resource becomes effective.\"]\n",
        "        domain = [Resource]\n",
        "        range = [date]\n",
        "\n",
        "    class maxUnits(DataProperty, FunctionalProperty):\n",
        "        # namespace = resource_iprok\n",
        "        label = [\"max Units\"]\n",
        "        comment = [\"The maximum available units of a resource, often per a specific time period (e.g., maximum work hours per day for a labor resource).\"]\n",
        "        domain = [Resource]\n",
        "        range = [float]\n",
        "\n",
        "    class budgetedUnits(DataProperty):\n",
        "        # namespace = resource_iprok\n",
        "        label = [\"budgeted Units\"]\n",
        "        comment = [\"The planned or budgeted quantity of resource units. (Note: Often better placed on a ResourceAllocation linking resource to task).\"]\n",
        "        domain = [Resource] # Or ResourceAllocation\n",
        "        range = [float]\n",
        "\n",
        "    class actualUnits(DataProperty):\n",
        "        # namespace = resource_iprok\n",
        "        label = [\"actual Units\"]\n",
        "        comment = [\"The actual quantity of resource units consumed or utilized. (Note: Often better placed on a ResourceAllocation).\"]\n",
        "        domain = [Resource] # Or ResourceAllocation\n",
        "        range = [float]\n",
        "\n",
        "    class remainingUnits(DataProperty):\n",
        "        # namespace = resource_iprok\n",
        "        label = [\"remaining Units\"]\n",
        "        comment = [\"The estimated quantity of resource units still required or available. (Note: Often better placed on a ResourceAllocation).\"]\n",
        "        domain = [Resource] # Or ResourceAllocation\n",
        "        range = [float]\n",
        "\n",
        "    class atCompleteUnits(DataProperty):\n",
        "        # namespace = resource_iprok\n",
        "        label = [\"at Complete Units\"]\n",
        "        comment = [\"The total estimated quantity of resource units at the completion of its assignment. (Note: Often better placed on a ResourceAllocation).\"]\n",
        "        domain = [Resource] # Or ResourceAllocation\n",
        "        range = [float]\n",
        "\n",
        "    class isPrimaryResource(DataProperty, FunctionalProperty):\n",
        "        # namespace = resource_iprok\n",
        "        label = [\"is Primary Resource\"]\n",
        "        comment = [\"A boolean flag indicating if this resource is considered the primary one for an assignment or task.\"]\n",
        "        domain = [Resource] # Or ResourceAllocation\n",
        "        range = [bool]\n",
        "\n",
        "    # ResourceConstraint data properties (like constraintType, constraintDate) are inherited from iprok.Constraint if defined there.\n",
        "\n",
        "    # Resource Module - Object Properties\n",
        "    class hasResourceType(ObjectProperty, FunctionalProperty):\n",
        "        # namespace = resource_iprok\n",
        "        label = [\"has Resource Type\"]\n",
        "        comment = [\"Links a resource to its specific classification or type (e.g., LaborResource, EquipmentResource).\"]\n",
        "        domain = [Resource]\n",
        "        range = [ResourceType]\n",
        "\n",
        "    class hasTrackingTag(ObjectProperty):\n",
        "        # namespace = resource_iprok\n",
        "        label = [\"has Tracking Tag\"]\n",
        "        comment = [\"Links a resource to one or more tracking tags used for its identification and monitoring.\"]\n",
        "        domain = [Resource]\n",
        "        range = [TrackingTag]\n",
        "\n",
        "    class measuredIn(ObjectProperty, FunctionalProperty):\n",
        "        # namespace = resource_iprok\n",
        "        label = [\"measured In\"]\n",
        "        comment = [\"Links a resource to the unit of measure used for its quantification.\"]\n",
        "        domain = [Resource]\n",
        "        range = [Units]\n",
        "\n",
        "    class hasResourceConstraints(ObjectProperty):\n",
        "        # namespace = resource_iprok\n",
        "        label = [\"has Resource Constraints\"]\n",
        "        comment = [\"Links a resource to specific constraints that apply to its availability or usage.\"]\n",
        "        domain = [Resource]\n",
        "        range = [ResourceConstraint]"
      ],
      "metadata": {
        "id": "gMluBqtBQyTS",
        "outputId": "e657e48e-baac-4136-ec41-88ac02bab19b",
        "colab": {
          "base_uri": "https://localhost:8080/"
        }
      },
      "execution_count": 6,
      "outputs": [
        {
          "output_type": "stream",
          "name": "stderr",
          "text": [
            "* Owlready2 * ADD TRIPLE https://w3id.org/iprok/resource#Resource http://www.w3.org/1999/02/22-rdf-syntax-ns#type http://www.w3.org/2002/07/owl#Class\n",
            "* Owlready2 * ADD TRIPLE https://w3id.org/iprok/resource#Resource http://www.w3.org/2000/01/rdf-schema#subClassOf https://w3id.org/iprok#IproKThing\n",
            "* Owlready2 * ADD TRIPLE https://w3id.org/iprok/resource#Resource http://www.w3.org/2000/01/rdf-schema#label Resource http://www.w3.org/2001/XMLSchema#string\n",
            "* Owlready2 * ADD TRIPLE https://w3id.org/iprok/resource#Resource http://www.w3.org/2000/01/rdf-schema#comment An asset, item, or person required for or consumed by project tasks. http://www.w3.org/2001/XMLSchema#string\n",
            "* Owlready2 * ADD TRIPLE https://w3id.org/iprok/resource#ResourceType http://www.w3.org/1999/02/22-rdf-syntax-ns#type http://www.w3.org/2002/07/owl#Class\n",
            "* Owlready2 * ADD TRIPLE https://w3id.org/iprok/resource#ResourceType http://www.w3.org/2000/01/rdf-schema#subClassOf https://w3id.org/iprok#IproKThing\n",
            "* Owlready2 * ADD TRIPLE https://w3id.org/iprok/resource#ResourceType http://www.w3.org/2000/01/rdf-schema#label Resource Type http://www.w3.org/2001/XMLSchema#string\n",
            "* Owlready2 * ADD TRIPLE https://w3id.org/iprok/resource#ResourceType http://www.w3.org/2000/01/rdf-schema#comment The classification of a resource (e.g., labor, equipment, material). http://www.w3.org/2001/XMLSchema#string\n",
            "* Owlready2 * ADD TRIPLE https://w3id.org/iprok/resource#LaborResource http://www.w3.org/1999/02/22-rdf-syntax-ns#type http://www.w3.org/2002/07/owl#Class\n",
            "* Owlready2 * ADD TRIPLE https://w3id.org/iprok/resource#LaborResource http://www.w3.org/2000/01/rdf-schema#subClassOf https://w3id.org/iprok/resource#ResourceType\n",
            "* Owlready2 * ADD TRIPLE https://w3id.org/iprok/resource#LaborResource http://www.w3.org/2000/01/rdf-schema#label Labor Resource http://www.w3.org/2001/XMLSchema#string\n",
            "* Owlready2 * ADD TRIPLE https://w3id.org/iprok/resource#LaborResource http://www.w3.org/2000/01/rdf-schema#comment A type of resource representing human effort, skills, or services. http://www.w3.org/2001/XMLSchema#string\n",
            "* Owlready2 * ADD TRIPLE https://w3id.org/iprok/resource#EquipmentResource http://www.w3.org/1999/02/22-rdf-syntax-ns#type http://www.w3.org/2002/07/owl#Class\n",
            "* Owlready2 * ADD TRIPLE https://w3id.org/iprok/resource#EquipmentResource http://www.w3.org/2000/01/rdf-schema#subClassOf https://w3id.org/iprok/resource#ResourceType\n",
            "* Owlready2 * ADD TRIPLE https://w3id.org/iprok/resource#EquipmentResource http://www.w3.org/2000/01/rdf-schema#label Equipment Resource http://www.w3.org/2001/XMLSchema#string\n",
            "* Owlready2 * ADD TRIPLE https://w3id.org/iprok/resource#EquipmentResource http://www.w3.org/2000/01/rdf-schema#comment A type of resource representing machinery, tools, or other equipment. http://www.w3.org/2001/XMLSchema#string\n",
            "* Owlready2 * ADD TRIPLE https://w3id.org/iprok/resource#MaterialResource http://www.w3.org/1999/02/22-rdf-syntax-ns#type http://www.w3.org/2002/07/owl#Class\n",
            "* Owlready2 * ADD TRIPLE https://w3id.org/iprok/resource#MaterialResource http://www.w3.org/2000/01/rdf-schema#subClassOf https://w3id.org/iprok/resource#ResourceType\n",
            "* Owlready2 * ADD TRIPLE https://w3id.org/iprok/resource#MaterialResource http://www.w3.org/2000/01/rdf-schema#label Material Resource http://www.w3.org/2001/XMLSchema#string\n",
            "* Owlready2 * ADD TRIPLE https://w3id.org/iprok/resource#MaterialResource http://www.w3.org/2000/01/rdf-schema#comment A type of resource representing consumable supplies or raw materials. http://www.w3.org/2001/XMLSchema#string\n",
            "* Owlready2 * ADD TRIPLE https://w3id.org/iprok/resource#UserDefinedResource http://www.w3.org/1999/02/22-rdf-syntax-ns#type http://www.w3.org/2002/07/owl#Class\n",
            "* Owlready2 * ADD TRIPLE https://w3id.org/iprok/resource#UserDefinedResource http://www.w3.org/2000/01/rdf-schema#subClassOf https://w3id.org/iprok/resource#ResourceType\n",
            "* Owlready2 * ADD TRIPLE https://w3id.org/iprok/resource#UserDefinedResource http://www.w3.org/2000/01/rdf-schema#label User Defined Resource http://www.w3.org/2001/XMLSchema#string\n",
            "* Owlready2 * ADD TRIPLE https://w3id.org/iprok/resource#UserDefinedResource http://www.w3.org/2000/01/rdf-schema#comment A flexible type for resources not covered by standard classifications like labor, equipment, or material. http://www.w3.org/2001/XMLSchema#string\n",
            "* Owlready2 * ADD TRIPLE -1 http://www.w3.org/1999/02/22-rdf-syntax-ns#type http://www.w3.org/2002/07/owl#AllDisjointClasses\n",
            "* Owlready2 * ADD TRIPLE -1 http://www.w3.org/2002/07/owl#members -2\n",
            "* Owlready2 * ADD TRIPLE -2 http://www.w3.org/1999/02/22-rdf-syntax-ns#first https://w3id.org/iprok/resource#LaborResource\n",
            "* Owlready2 * ADD TRIPLE -2 http://www.w3.org/1999/02/22-rdf-syntax-ns#rest -3\n",
            "* Owlready2 * ADD TRIPLE -3 http://www.w3.org/1999/02/22-rdf-syntax-ns#first https://w3id.org/iprok/resource#EquipmentResource\n",
            "* Owlready2 * ADD TRIPLE -3 http://www.w3.org/1999/02/22-rdf-syntax-ns#rest -4\n",
            "* Owlready2 * ADD TRIPLE -4 http://www.w3.org/1999/02/22-rdf-syntax-ns#first https://w3id.org/iprok/resource#MaterialResource\n",
            "* Owlready2 * ADD TRIPLE -4 http://www.w3.org/1999/02/22-rdf-syntax-ns#rest -5\n",
            "* Owlready2 * ADD TRIPLE -5 http://www.w3.org/1999/02/22-rdf-syntax-ns#first https://w3id.org/iprok/resource#UserDefinedResource\n",
            "* Owlready2 * ADD TRIPLE -5 http://www.w3.org/1999/02/22-rdf-syntax-ns#rest http://www.w3.org/1999/02/22-rdf-syntax-ns#nil\n",
            "* Owlready2 * ADD TRIPLE https://w3id.org/iprok/resource#TrackingTag http://www.w3.org/1999/02/22-rdf-syntax-ns#type http://www.w3.org/2002/07/owl#Class\n",
            "* Owlready2 * ADD TRIPLE https://w3id.org/iprok/resource#TrackingTag http://www.w3.org/2000/01/rdf-schema#subClassOf https://w3id.org/iprok#IproKThing\n",
            "* Owlready2 * ADD TRIPLE https://w3id.org/iprok/resource#TrackingTag http://www.w3.org/2000/01/rdf-schema#label Tracking Tag http://www.w3.org/2001/XMLSchema#string\n",
            "* Owlready2 * ADD TRIPLE https://w3id.org/iprok/resource#TrackingTag http://www.w3.org/2000/01/rdf-schema#comment An identifier or device (e.g., RFID, barcode) used for monitoring and tracking a resource. http://www.w3.org/2001/XMLSchema#string\n",
            "* Owlready2 * ADD TRIPLE https://w3id.org/iprok/resource#Units http://www.w3.org/1999/02/22-rdf-syntax-ns#type http://www.w3.org/2002/07/owl#Class\n",
            "* Owlready2 * ADD TRIPLE https://w3id.org/iprok/resource#Units http://www.w3.org/2000/01/rdf-schema#subClassOf https://w3id.org/iprok#IproKThing\n",
            "* Owlready2 * ADD TRIPLE https://w3id.org/iprok/resource#Units http://www.w3.org/2000/01/rdf-schema#label Units http://www.w3.org/2001/XMLSchema#string\n",
            "* Owlready2 * ADD TRIPLE https://w3id.org/iprok/resource#Units http://www.w3.org/2000/01/rdf-schema#comment The unit of measure for quantifying a resource's amount, capacity, or rate (e.g., hours, kg, items). http://www.w3.org/2001/XMLSchema#string\n",
            "* Owlready2 * ADD TRIPLE https://w3id.org/iprok/resource#ResourceConstraint http://www.w3.org/1999/02/22-rdf-syntax-ns#type http://www.w3.org/2002/07/owl#Class\n",
            "* Owlready2 * ADD TRIPLE https://w3id.org/iprok/resource#ResourceConstraint http://www.w3.org/2000/01/rdf-schema#subClassOf https://w3id.org/iprok#Constraint\n",
            "* Owlready2 * ADD TRIPLE https://w3id.org/iprok/resource#ResourceConstraint http://www.w3.org/2000/01/rdf-schema#label Resource Constraint http://www.w3.org/2001/XMLSchema#string\n",
            "* Owlready2 * ADD TRIPLE https://w3id.org/iprok/resource#ResourceConstraint http://www.w3.org/2000/01/rdf-schema#comment A specific limitation or condition affecting the use, availability, or allocation of a resource. http://www.w3.org/2001/XMLSchema#string\n",
            "* Owlready2 * ADD TRIPLE https://w3id.org/iprok#hasId http://www.w3.org/2000/01/rdf-schema#domain https://w3id.org/iprok/resource#Resource\n",
            "* Owlready2 * ADD TRIPLE https://w3id.org/iprok#hasName http://www.w3.org/2000/01/rdf-schema#domain https://w3id.org/iprok/resource#Resource\n",
            "* Owlready2 * ADD TRIPLE https://w3id.org/iprok#hasGlobalId http://www.w3.org/2000/01/rdf-schema#domain https://w3id.org/iprok/resource#Resource\n",
            "* Owlready2 * ADD TRIPLE https://w3id.org/iprok#hasDescription http://www.w3.org/2000/01/rdf-schema#domain https://w3id.org/iprok/resource#Resource\n",
            "* Owlready2 * ADD TRIPLE https://w3id.org/iprok/resource#baseRate http://www.w3.org/1999/02/22-rdf-syntax-ns#type http://www.w3.org/2002/07/owl#DatatypeProperty\n",
            "* Owlready2 * ADD TRIPLE https://w3id.org/iprok/resource#baseRate http://www.w3.org/2000/01/rdf-schema#label base Rate http://www.w3.org/2001/XMLSchema#string\n",
            "* Owlready2 * ADD TRIPLE https://w3id.org/iprok/resource#baseRate http://www.w3.org/2000/01/rdf-schema#comment The standard cost rate for a resource, typically per unit of time or quantity. http://www.w3.org/2001/XMLSchema#string\n",
            "* Owlready2 * ADD TRIPLE https://w3id.org/iprok/resource#baseRate http://www.w3.org/2000/01/rdf-schema#domain https://w3id.org/iprok/resource#Resource\n",
            "* Owlready2 * ADD TRIPLE https://w3id.org/iprok/resource#baseRate http://www.w3.org/2000/01/rdf-schema#range http://www.w3.org/2001/XMLSchema#decimal\n",
            "* Owlready2 * ADD TRIPLE https://w3id.org/iprok/resource#currency http://www.w3.org/1999/02/22-rdf-syntax-ns#type http://www.w3.org/2002/07/owl#DatatypeProperty\n",
            "* Owlready2 * ADD TRIPLE https://w3id.org/iprok/resource#currency http://www.w3.org/1999/02/22-rdf-syntax-ns#type http://www.w3.org/2002/07/owl#FunctionalProperty\n",
            "* Owlready2 * ADD TRIPLE https://w3id.org/iprok/resource#currency http://www.w3.org/2000/01/rdf-schema#label currency http://www.w3.org/2001/XMLSchema#string\n",
            "* Owlready2 * ADD TRIPLE https://w3id.org/iprok/resource#currency http://www.w3.org/2000/01/rdf-schema#comment The currency code (e.g., USD, EUR) for monetary values related to the resource, like its base rate. http://www.w3.org/2001/XMLSchema#string\n",
            "* Owlready2 * ADD TRIPLE https://w3id.org/iprok/resource#currency http://www.w3.org/2000/01/rdf-schema#domain https://w3id.org/iprok/resource#Resource\n",
            "* Owlready2 * ADD TRIPLE https://w3id.org/iprok/resource#currency http://www.w3.org/2000/01/rdf-schema#range http://www.w3.org/2001/XMLSchema#string\n",
            "* Owlready2 * ADD TRIPLE https://w3id.org/iprok/resource#effectiveDateForRate http://www.w3.org/1999/02/22-rdf-syntax-ns#type http://www.w3.org/2002/07/owl#DatatypeProperty\n",
            "* Owlready2 * ADD TRIPLE https://w3id.org/iprok/resource#effectiveDateForRate http://www.w3.org/1999/02/22-rdf-syntax-ns#type http://www.w3.org/2002/07/owl#FunctionalProperty\n",
            "* Owlready2 * ADD TRIPLE https://w3id.org/iprok/resource#effectiveDateForRate http://www.w3.org/2000/01/rdf-schema#label effective Date For Rate http://www.w3.org/2001/XMLSchema#string\n",
            "* Owlready2 * ADD TRIPLE https://w3id.org/iprok/resource#effectiveDateForRate http://www.w3.org/2000/01/rdf-schema#comment The date from which the specified base rate for a resource becomes effective. http://www.w3.org/2001/XMLSchema#string\n",
            "* Owlready2 * ADD TRIPLE https://w3id.org/iprok/resource#effectiveDateForRate http://www.w3.org/2000/01/rdf-schema#domain https://w3id.org/iprok/resource#Resource\n",
            "* Owlready2 * ADD TRIPLE https://w3id.org/iprok/resource#effectiveDateForRate http://www.w3.org/2000/01/rdf-schema#range http://www.w3.org/2001/XMLSchema#date\n",
            "* Owlready2 * ADD TRIPLE https://w3id.org/iprok/resource#maxUnits http://www.w3.org/1999/02/22-rdf-syntax-ns#type http://www.w3.org/2002/07/owl#DatatypeProperty\n",
            "* Owlready2 * ADD TRIPLE https://w3id.org/iprok/resource#maxUnits http://www.w3.org/1999/02/22-rdf-syntax-ns#type http://www.w3.org/2002/07/owl#FunctionalProperty\n",
            "* Owlready2 * ADD TRIPLE https://w3id.org/iprok/resource#maxUnits http://www.w3.org/2000/01/rdf-schema#label max Units http://www.w3.org/2001/XMLSchema#string\n",
            "* Owlready2 * ADD TRIPLE https://w3id.org/iprok/resource#maxUnits http://www.w3.org/2000/01/rdf-schema#comment The maximum available units of a resource, often per a specific time period (e.g., maximum work hours per day for a labor resource). http://www.w3.org/2001/XMLSchema#string\n",
            "* Owlready2 * ADD TRIPLE https://w3id.org/iprok/resource#maxUnits http://www.w3.org/2000/01/rdf-schema#domain https://w3id.org/iprok/resource#Resource\n",
            "* Owlready2 * ADD TRIPLE https://w3id.org/iprok/resource#maxUnits http://www.w3.org/2000/01/rdf-schema#range http://www.w3.org/2001/XMLSchema#decimal\n",
            "* Owlready2 * ADD TRIPLE https://w3id.org/iprok/resource#budgetedUnits http://www.w3.org/1999/02/22-rdf-syntax-ns#type http://www.w3.org/2002/07/owl#DatatypeProperty\n",
            "* Owlready2 * ADD TRIPLE https://w3id.org/iprok/resource#budgetedUnits http://www.w3.org/2000/01/rdf-schema#label budgeted Units http://www.w3.org/2001/XMLSchema#string\n",
            "* Owlready2 * ADD TRIPLE https://w3id.org/iprok/resource#budgetedUnits http://www.w3.org/2000/01/rdf-schema#comment The planned or budgeted quantity of resource units. (Note: Often better placed on a ResourceAllocation linking resource to task). http://www.w3.org/2001/XMLSchema#string\n",
            "* Owlready2 * ADD TRIPLE https://w3id.org/iprok/resource#budgetedUnits http://www.w3.org/2000/01/rdf-schema#domain https://w3id.org/iprok/resource#Resource\n",
            "* Owlready2 * ADD TRIPLE https://w3id.org/iprok/resource#budgetedUnits http://www.w3.org/2000/01/rdf-schema#range http://www.w3.org/2001/XMLSchema#decimal\n",
            "* Owlready2 * ADD TRIPLE https://w3id.org/iprok/resource#actualUnits http://www.w3.org/1999/02/22-rdf-syntax-ns#type http://www.w3.org/2002/07/owl#DatatypeProperty\n",
            "* Owlready2 * ADD TRIPLE https://w3id.org/iprok/resource#actualUnits http://www.w3.org/2000/01/rdf-schema#label actual Units http://www.w3.org/2001/XMLSchema#string\n",
            "* Owlready2 * ADD TRIPLE https://w3id.org/iprok/resource#actualUnits http://www.w3.org/2000/01/rdf-schema#comment The actual quantity of resource units consumed or utilized. (Note: Often better placed on a ResourceAllocation). http://www.w3.org/2001/XMLSchema#string\n",
            "* Owlready2 * ADD TRIPLE https://w3id.org/iprok/resource#actualUnits http://www.w3.org/2000/01/rdf-schema#domain https://w3id.org/iprok/resource#Resource\n",
            "* Owlready2 * ADD TRIPLE https://w3id.org/iprok/resource#actualUnits http://www.w3.org/2000/01/rdf-schema#range http://www.w3.org/2001/XMLSchema#decimal\n",
            "* Owlready2 * ADD TRIPLE https://w3id.org/iprok/resource#remainingUnits http://www.w3.org/1999/02/22-rdf-syntax-ns#type http://www.w3.org/2002/07/owl#DatatypeProperty\n",
            "* Owlready2 * ADD TRIPLE https://w3id.org/iprok/resource#remainingUnits http://www.w3.org/2000/01/rdf-schema#label remaining Units http://www.w3.org/2001/XMLSchema#string\n",
            "* Owlready2 * ADD TRIPLE https://w3id.org/iprok/resource#remainingUnits http://www.w3.org/2000/01/rdf-schema#comment The estimated quantity of resource units still required or available. (Note: Often better placed on a ResourceAllocation). http://www.w3.org/2001/XMLSchema#string\n",
            "* Owlready2 * ADD TRIPLE https://w3id.org/iprok/resource#remainingUnits http://www.w3.org/2000/01/rdf-schema#domain https://w3id.org/iprok/resource#Resource\n",
            "* Owlready2 * ADD TRIPLE https://w3id.org/iprok/resource#remainingUnits http://www.w3.org/2000/01/rdf-schema#range http://www.w3.org/2001/XMLSchema#decimal\n",
            "* Owlready2 * ADD TRIPLE https://w3id.org/iprok/resource#atCompleteUnits http://www.w3.org/1999/02/22-rdf-syntax-ns#type http://www.w3.org/2002/07/owl#DatatypeProperty\n",
            "* Owlready2 * ADD TRIPLE https://w3id.org/iprok/resource#atCompleteUnits http://www.w3.org/2000/01/rdf-schema#label at Complete Units http://www.w3.org/2001/XMLSchema#string\n",
            "* Owlready2 * ADD TRIPLE https://w3id.org/iprok/resource#atCompleteUnits http://www.w3.org/2000/01/rdf-schema#comment The total estimated quantity of resource units at the completion of its assignment. (Note: Often better placed on a ResourceAllocation). http://www.w3.org/2001/XMLSchema#string\n",
            "* Owlready2 * ADD TRIPLE https://w3id.org/iprok/resource#atCompleteUnits http://www.w3.org/2000/01/rdf-schema#domain https://w3id.org/iprok/resource#Resource\n",
            "* Owlready2 * ADD TRIPLE https://w3id.org/iprok/resource#atCompleteUnits http://www.w3.org/2000/01/rdf-schema#range http://www.w3.org/2001/XMLSchema#decimal\n",
            "* Owlready2 * ADD TRIPLE https://w3id.org/iprok/resource#isPrimaryResource http://www.w3.org/1999/02/22-rdf-syntax-ns#type http://www.w3.org/2002/07/owl#DatatypeProperty\n",
            "* Owlready2 * ADD TRIPLE https://w3id.org/iprok/resource#isPrimaryResource http://www.w3.org/1999/02/22-rdf-syntax-ns#type http://www.w3.org/2002/07/owl#FunctionalProperty\n",
            "* Owlready2 * ADD TRIPLE https://w3id.org/iprok/resource#isPrimaryResource http://www.w3.org/2000/01/rdf-schema#label is Primary Resource http://www.w3.org/2001/XMLSchema#string\n",
            "* Owlready2 * ADD TRIPLE https://w3id.org/iprok/resource#isPrimaryResource http://www.w3.org/2000/01/rdf-schema#comment A boolean flag indicating if this resource is considered the primary one for an assignment or task. http://www.w3.org/2001/XMLSchema#string\n",
            "* Owlready2 * ADD TRIPLE https://w3id.org/iprok/resource#isPrimaryResource http://www.w3.org/2000/01/rdf-schema#domain https://w3id.org/iprok/resource#Resource\n",
            "* Owlready2 * ADD TRIPLE https://w3id.org/iprok/resource#isPrimaryResource http://www.w3.org/2000/01/rdf-schema#range http://www.w3.org/2001/XMLSchema#boolean\n",
            "* Owlready2 * ADD TRIPLE https://w3id.org/iprok/resource#hasResourceType http://www.w3.org/1999/02/22-rdf-syntax-ns#type http://www.w3.org/2002/07/owl#ObjectProperty\n",
            "* Owlready2 * ADD TRIPLE https://w3id.org/iprok/resource#hasResourceType http://www.w3.org/1999/02/22-rdf-syntax-ns#type http://www.w3.org/2002/07/owl#FunctionalProperty\n",
            "* Owlready2 * ADD TRIPLE https://w3id.org/iprok/resource#hasResourceType http://www.w3.org/2000/01/rdf-schema#label has Resource Type http://www.w3.org/2001/XMLSchema#string\n",
            "* Owlready2 * ADD TRIPLE https://w3id.org/iprok/resource#hasResourceType http://www.w3.org/2000/01/rdf-schema#comment Links a resource to its specific classification or type (e.g., LaborResource, EquipmentResource). http://www.w3.org/2001/XMLSchema#string\n",
            "* Owlready2 * ADD TRIPLE https://w3id.org/iprok/resource#hasResourceType http://www.w3.org/2000/01/rdf-schema#domain https://w3id.org/iprok/resource#Resource\n",
            "* Owlready2 * ADD TRIPLE https://w3id.org/iprok/resource#hasResourceType http://www.w3.org/2000/01/rdf-schema#range https://w3id.org/iprok/resource#ResourceType\n",
            "* Owlready2 * ADD TRIPLE https://w3id.org/iprok/resource#hasTrackingTag http://www.w3.org/1999/02/22-rdf-syntax-ns#type http://www.w3.org/2002/07/owl#ObjectProperty\n",
            "* Owlready2 * ADD TRIPLE https://w3id.org/iprok/resource#hasTrackingTag http://www.w3.org/2000/01/rdf-schema#label has Tracking Tag http://www.w3.org/2001/XMLSchema#string\n",
            "* Owlready2 * ADD TRIPLE https://w3id.org/iprok/resource#hasTrackingTag http://www.w3.org/2000/01/rdf-schema#comment Links a resource to one or more tracking tags used for its identification and monitoring. http://www.w3.org/2001/XMLSchema#string\n",
            "* Owlready2 * ADD TRIPLE https://w3id.org/iprok/resource#hasTrackingTag http://www.w3.org/2000/01/rdf-schema#domain https://w3id.org/iprok/resource#Resource\n",
            "* Owlready2 * ADD TRIPLE https://w3id.org/iprok/resource#hasTrackingTag http://www.w3.org/2000/01/rdf-schema#range https://w3id.org/iprok/resource#TrackingTag\n",
            "* Owlready2 * ADD TRIPLE https://w3id.org/iprok/resource#measuredIn http://www.w3.org/1999/02/22-rdf-syntax-ns#type http://www.w3.org/2002/07/owl#ObjectProperty\n",
            "* Owlready2 * ADD TRIPLE https://w3id.org/iprok/resource#measuredIn http://www.w3.org/1999/02/22-rdf-syntax-ns#type http://www.w3.org/2002/07/owl#FunctionalProperty\n",
            "* Owlready2 * ADD TRIPLE https://w3id.org/iprok/resource#measuredIn http://www.w3.org/2000/01/rdf-schema#label measured In http://www.w3.org/2001/XMLSchema#string\n",
            "* Owlready2 * ADD TRIPLE https://w3id.org/iprok/resource#measuredIn http://www.w3.org/2000/01/rdf-schema#comment Links a resource to the unit of measure used for its quantification. http://www.w3.org/2001/XMLSchema#string\n",
            "* Owlready2 * ADD TRIPLE https://w3id.org/iprok/resource#measuredIn http://www.w3.org/2000/01/rdf-schema#domain https://w3id.org/iprok/resource#Resource\n",
            "* Owlready2 * ADD TRIPLE https://w3id.org/iprok/resource#measuredIn http://www.w3.org/2000/01/rdf-schema#range https://w3id.org/iprok/resource#Units\n",
            "* Owlready2 * ADD TRIPLE https://w3id.org/iprok/resource#hasResourceConstraints http://www.w3.org/1999/02/22-rdf-syntax-ns#type http://www.w3.org/2002/07/owl#ObjectProperty\n",
            "* Owlready2 * ADD TRIPLE https://w3id.org/iprok/resource#hasResourceConstraints http://www.w3.org/2000/01/rdf-schema#label has Resource Constraints http://www.w3.org/2001/XMLSchema#string\n",
            "* Owlready2 * ADD TRIPLE https://w3id.org/iprok/resource#hasResourceConstraints http://www.w3.org/2000/01/rdf-schema#comment Links a resource to specific constraints that apply to its availability or usage. http://www.w3.org/2001/XMLSchema#string\n",
            "* Owlready2 * ADD TRIPLE https://w3id.org/iprok/resource#hasResourceConstraints http://www.w3.org/2000/01/rdf-schema#domain https://w3id.org/iprok/resource#Resource\n",
            "* Owlready2 * ADD TRIPLE https://w3id.org/iprok/resource#hasResourceConstraints http://www.w3.org/2000/01/rdf-schema#range https://w3id.org/iprok/resource#ResourceConstraint\n"
          ]
        }
      ]
    },
    {
      "cell_type": "code",
      "source": [
        "resource_iprok.save(file=\"iprok_resource.owl\", format=\"rdfxml\")\n",
        "g = Graph()\n",
        "g.parse(\"iprok_resource.owl\", format=\"xml\")\n",
        "g.serialize(destination=\"iprok_resource.ttl\", format=\"turtle\")\n"
      ],
      "metadata": {
        "colab": {
          "base_uri": "https://localhost:8080/"
        },
        "id": "chFUCWhYTBrc",
        "outputId": "9b470c8d-3ab2-4ea2-8584-db42cfc1d03a"
      },
      "execution_count": 7,
      "outputs": [
        {
          "output_type": "stream",
          "name": "stderr",
          "text": [
            "* Owlready2 * Saving ontology resource to iprok_resource.owl...\n"
          ]
        },
        {
          "output_type": "execute_result",
          "data": {
            "text/plain": [
              "<Graph identifier=N321e00284e8e4631b7774484d178591c (<class 'rdflib.graph.Graph'>)>"
            ]
          },
          "metadata": {},
          "execution_count": 7
        }
      ]
    },
    {
      "cell_type": "code",
      "source": [],
      "metadata": {
        "id": "s-bQ3POfLos7"
      },
      "execution_count": null,
      "outputs": []
    }
  ]
}