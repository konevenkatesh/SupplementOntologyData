{
  "nbformat": 4,
  "nbformat_minor": 0,
  "metadata": {
    "colab": {
      "provenance": [],
      "authorship_tag": "ABX9TyOp5MyBP4jYpAXGpkwtD2gU",
      "include_colab_link": true
    },
    "kernelspec": {
      "name": "python3",
      "display_name": "Python 3"
    },
    "language_info": {
      "name": "python"
    }
  },
  "cells": [
    {
      "cell_type": "markdown",
      "metadata": {
        "id": "view-in-github",
        "colab_type": "text"
      },
      "source": [
        "<a href=\"https://colab.research.google.com/github/konevenkatesh/SupplementOntologyData/blob/master/test/iprok_schedule.ipynb\" target=\"_parent\"><img src=\"https://colab.research.google.com/assets/colab-badge.svg\" alt=\"Open In Colab\"/></a>"
      ]
    },
    {
      "cell_type": "code",
      "execution_count": 1,
      "metadata": {
        "id": "1GpbaXNb70jO",
        "colab": {
          "base_uri": "https://localhost:8080/"
        },
        "outputId": "8970c832-8d5c-4f3d-e3c7-ff35e0876a0c"
      },
      "outputs": [
        {
          "output_type": "stream",
          "name": "stdout",
          "text": [
            "Collecting owlready2\n",
            "  Downloading owlready2-0.47.tar.gz (27.3 MB)\n",
            "\u001b[2K     \u001b[90m━━━━━━━━━━━━━━━━━━━━━━━━━━━━━━━━━━━━━━━━\u001b[0m \u001b[32m27.3/27.3 MB\u001b[0m \u001b[31m19.4 MB/s\u001b[0m eta \u001b[36m0:00:00\u001b[0m\n",
            "\u001b[?25h  Installing build dependencies ... \u001b[?25l\u001b[?25hdone\n",
            "  Getting requirements to build wheel ... \u001b[?25l\u001b[?25hdone\n",
            "  Preparing metadata (pyproject.toml) ... \u001b[?25l\u001b[?25hdone\n",
            "Building wheels for collected packages: owlready2\n",
            "  Building wheel for owlready2 (pyproject.toml) ... \u001b[?25l\u001b[?25hdone\n",
            "  Created wheel for owlready2: filename=owlready2-0.47-cp311-cp311-linux_x86_64.whl size=24521243 sha256=93fa0dd88406fe6e67dae147b8f7df14d5a1915108c581b5a3680e05fc7c3f7e\n",
            "  Stored in directory: /root/.cache/pip/wheels/25/9a/a3/fb1ac6339caa859c8bb18d685736168b0b51d851af13d81d52\n",
            "Successfully built owlready2\n",
            "Installing collected packages: owlready2\n",
            "Successfully installed owlready2-0.47\n",
            "Collecting rdflib\n",
            "  Downloading rdflib-7.1.4-py3-none-any.whl.metadata (11 kB)\n",
            "Requirement already satisfied: pyparsing<4,>=2.1.0 in /usr/local/lib/python3.11/dist-packages (from rdflib) (3.2.3)\n",
            "Downloading rdflib-7.1.4-py3-none-any.whl (565 kB)\n",
            "\u001b[2K   \u001b[90m━━━━━━━━━━━━━━━━━━━━━━━━━━━━━━━━━━━━━━━━\u001b[0m \u001b[32m565.1/565.1 kB\u001b[0m \u001b[31m13.1 MB/s\u001b[0m eta \u001b[36m0:00:00\u001b[0m\n",
            "\u001b[?25hInstalling collected packages: rdflib\n",
            "Successfully installed rdflib-7.1.4\n"
          ]
        }
      ],
      "source": [
        "!pip install owlready2\n",
        "!pip install rdflib"
      ]
    },
    {
      "cell_type": "code",
      "source": [
        "# Import necessary libraries\n",
        "from owlready2 import *\n",
        "from datetime import  datetime\n",
        "from rdflib import Graph"
      ],
      "metadata": {
        "id": "pLdB4TwN8nwv"
      },
      "execution_count": 19,
      "outputs": []
    },
    {
      "cell_type": "code",
      "source": [
        "set_log_level(9)"
      ],
      "metadata": {
        "id": "b561JX80KhFw"
      },
      "execution_count": 20,
      "outputs": []
    },
    {
      "cell_type": "code",
      "source": [
        "# Define the IproK Schedule Ontology IRI and get/create the ontology\n",
        "schedule_iri = \"https://w3id.org/iprok/schedule#\"\n",
        "schedule_iprok = get_ontology(schedule_iri)"
      ],
      "metadata": {
        "id": "HltaN9OV83n9"
      },
      "execution_count": 21,
      "outputs": []
    },
    {
      "cell_type": "code",
      "source": [
        "# Improt base IproK ontology\n",
        "iprok = get_ontology(\"iprok.owl\").load()\n",
        "schedule_iprok.imported_ontologies.append(iprok)"
      ],
      "metadata": {
        "id": "wO5xWXeqLHqw"
      },
      "execution_count": 22,
      "outputs": []
    },
    {
      "cell_type": "code",
      "source": [
        "with schedule_iprok:\n",
        "\n",
        "    # ==========================================================================\n",
        "    # Schedule Management Module (Conceptualization based on Module.docx Fig 3)\n",
        "    # ==========================================================================\n",
        "    print(\"Defining Schedule Management Module...\")\n",
        "\n",
        "    # Core Classes\n",
        "    class Project(iprok.IproKThing):\n",
        "        \"\"\"The overarching container for all project-related information.\"\"\"\n",
        "        pass\n",
        "\n",
        "    class WBS_Element(Project):\n",
        "        \"\"\"A general class for any component within the project's Work Breakdown Structure.\"\"\"\n",
        "        pass\n",
        "\n",
        "    class WorkPackage(WBS_Element):\n",
        "        \"\"\"A significant grouping of related tasks, often a major deliverable or phase.\"\"\"\n",
        "        pass\n",
        "\n",
        "    class Task(WBS_Element):\n",
        "        \"\"\"The fundamental unit of work. Can be a summary task or a leaf-level task.\"\"\"\n",
        "        pass\n",
        "\n",
        "    class TaskTime(iprok.IproKThing):\n",
        "        \"\"\"A class to reify temporal attributes of a Task.\"\"\"\n",
        "        pass\n",
        "\n",
        "    class TaskDependency(iprok.IproKThing): # Referred to as TaskRel in Module.docx Fig 3\n",
        "        \"\"\"Represents logical relationships between tasks.\"\"\"\n",
        "        pass\n",
        "\n",
        "    class Milestone(Task): # Conceptualized as a specialized Task\n",
        "        \"\"\"A significant event in the project, often with zero duration.\"\"\"\n",
        "        pass\n",
        "    # Reusing hasId, hasName, hasGlobalId, hasDescription defined earlier\n",
        "    # Their domains can be extended here or applied generally\n",
        "    iprok.hasId.domain.append(Task)\n",
        "    iprok.hasName.domain.append(Task)\n",
        "    iprok.hasGlobalId.domain.append(Task)\n",
        "    iprok.hasDescription.domain.append(Task)\n",
        "\n",
        "    # Schedule Module - Data Properties\n",
        "    class projectCategory(DataProperty):\n",
        "        domain = [Project]\n",
        "        range = [str]\n",
        "\n",
        "    class projectOwner(DataProperty):\n",
        "        domain = [Project]\n",
        "        range = [str] # Or link to an Actor/Organization class\n",
        "\n",
        "    class projectAddress(DataProperty):\n",
        "        domain = [Project]\n",
        "        range = [str]\n",
        "\n",
        "    class isCriticalTask(DataProperty, FunctionalProperty):\n",
        "        domain = [Task]\n",
        "        range = [bool]\n",
        "\n",
        "    class isMilestone(DataProperty, FunctionalProperty): # If Milestone is not a direct subclass\n",
        "        domain = [Task]\n",
        "        range = [bool]\n",
        "\n",
        "    class taskPriority(DataProperty, FunctionalProperty):\n",
        "        domain = [Task]\n",
        "        range = [int]\n",
        "\n",
        "    class plannedStartDate(DataProperty, FunctionalProperty):\n",
        "        domain = [TaskTime]\n",
        "        range = [datetime]\n",
        "\n",
        "    class plannedFinishDate(DataProperty, FunctionalProperty):\n",
        "        domain = [TaskTime]\n",
        "        range = [datetime]\n",
        "\n",
        "    class actualStartDate(DataProperty, FunctionalProperty):\n",
        "        domain = [TaskTime]\n",
        "        range = [datetime]\n",
        "\n",
        "    class actualFinishDate(DataProperty, FunctionalProperty):\n",
        "        domain = [TaskTime]\n",
        "        range = [datetime]\n",
        "\n",
        "    class scheduleDuration(DataProperty, FunctionalProperty): # Planned duration from schedule\n",
        "        domain = [TaskTime]\n",
        "        range = [float]\n",
        "\n",
        "    class actualDuration(DataProperty, FunctionalProperty):\n",
        "        domain = [TaskTime]\n",
        "        range = [float]\n",
        "\n",
        "    class remainingDuration(DataProperty, FunctionalProperty):\n",
        "        domain = [TaskTime]\n",
        "        range = [float]\n",
        "\n",
        "    class atCompleteDuration(DataProperty, FunctionalProperty):\n",
        "        domain = [TaskTime]\n",
        "        range = [float]\n",
        "\n",
        "    class taskRelationshipType(DataProperty, FunctionalProperty): # e.g., \"FS\", \"SS\"\n",
        "        domain = [TaskDependency]\n",
        "        range = [str]\n",
        "\n",
        "    class lagTime(DataProperty, FunctionalProperty):\n",
        "        domain = [TaskDependency]\n",
        "        range = [float] # Can be positive (lag) or negative (lead)\n",
        "\n",
        "    class constraintType(DataProperty, FunctionalProperty):\n",
        "        domain = [iprok.Constraint]\n",
        "        range = [str] # e.g., \"MustStartOn\", \"FinishNoLaterThan\"\n",
        "\n",
        "    class constraintDate(DataProperty, FunctionalProperty):\n",
        "        domain = [iprok.Constraint]\n",
        "        range = [datetime]\n",
        "\n",
        "    # Schedule Module - Object Properties\n",
        "    class hasWorkPackage(ObjectProperty):\n",
        "        domain = [Project]\n",
        "        range = [WorkPackage]\n",
        "\n",
        "    class hasWBS(ObjectProperty): # Links WorkPackage to its WBS_Elements\n",
        "        domain = [WorkPackage]\n",
        "        range = [WBS_Element]\n",
        "\n",
        "    class hasTask(ObjectProperty): # Links WBS_Element to Tasks\n",
        "        domain = [WBS_Element]\n",
        "        range = [Task]\n",
        "\n",
        "    class hasSubTask(ObjectProperty): # For task decomposition\n",
        "        domain = [Task]\n",
        "        range = [Task]\n",
        "        # Consider making it transitive if appropriate, and ensure acyclicity via other means if needed\n",
        "\n",
        "    class hasTaskTime(ObjectProperty, FunctionalProperty): # A Task has one TaskTime entity\n",
        "        domain = [Task]\n",
        "        range = [TaskTime]\n",
        "\n",
        "    class hasPredecessorDependency(ObjectProperty): # Task links to a Dependency object\n",
        "        domain = [Task]\n",
        "        range = [TaskDependency]\n",
        "        inverse_property_name = \"linksToSuccessorTask\" # Conceptual inverse name\n",
        "\n",
        "    class hasSuccessorDependency(ObjectProperty): # Task links to a Dependency object\n",
        "        domain = [Task]\n",
        "        range = [TaskDependency]\n",
        "        inverse_property_name = \"linksToPredecessorTask\" # Conceptual inverse name\n",
        "\n",
        "    # Defining the actual linking properties for TaskDependency\n",
        "    class linksToPredecessorTask(ObjectProperty, FunctionalProperty):\n",
        "        domain = [TaskDependency]\n",
        "        range = [Task]\n",
        "        # inverse_property = hasSuccessorDependency # This creates a direct inverse\n",
        "\n",
        "    class linksToSuccessorTask(ObjectProperty, FunctionalProperty):\n",
        "        domain = [TaskDependency]\n",
        "        range = [Task]\n",
        "        # inverse_property = hasPredecessorDependency # This creates a direct inverse\n",
        "\n",
        "    class hasConstraint(ObjectProperty):\n",
        "        domain = [Task]\n",
        "        range = [iprok.Constraint]\n",
        "\n",
        "    class assignedTo(ObjectProperty): # From WorkPackage to Actor\n",
        "        domain = [WorkPackage, Task] # Task can also be assigned\n",
        "        range = [iprok.Actor]\n"
      ],
      "metadata": {
        "colab": {
          "base_uri": "https://localhost:8080/"
        },
        "id": "uYyxT5Fn9Vnm",
        "outputId": "cb713607-55c2-4fc1-f76d-efa4d38f3cca"
      },
      "execution_count": 23,
      "outputs": [
        {
          "output_type": "stream",
          "name": "stdout",
          "text": [
            "Defining Schedule Management Module...\n"
          ]
        }
      ]
    },
    {
      "cell_type": "code",
      "source": [
        "schedule_iprok.mer"
      ],
      "metadata": {
        "id": "u7l_2626jKf1"
      },
      "execution_count": null,
      "outputs": []
    },
    {
      "cell_type": "code",
      "source": [
        "schedule_iprok.save(file=\"iprok_schedule.owl\", format=\"rdfxml\")"
      ],
      "metadata": {
        "id": "wFMJbZtGA9FC",
        "outputId": "9256f0aa-735a-436f-c043-6f84743fdcf6",
        "colab": {
          "base_uri": "https://localhost:8080/"
        }
      },
      "execution_count": 16,
      "outputs": [
        {
          "output_type": "stream",
          "name": "stderr",
          "text": [
            "* Owlready2 * Saving ontology schedule to iprok_schedule.owl...\n"
          ]
        }
      ]
    },
    {
      "cell_type": "code",
      "source": [
        "from rdflib import Graph\n",
        "\n",
        "g= Graph()\n",
        "g.parse(\"iprok_schedule.owl\", format=\"xml\")\n",
        "g.serialize(destination=\"iprok_schedule.ttl\", format=\"ttl\")"
      ],
      "metadata": {
        "id": "ampxkQV2BSnk",
        "outputId": "fe95eaa8-8406-435e-e944-e6495c563c16",
        "colab": {
          "base_uri": "https://localhost:8080/"
        }
      },
      "execution_count": 18,
      "outputs": [
        {
          "output_type": "execute_result",
          "data": {
            "text/plain": [
              "<Graph identifier=N5036e46ec0f640199eaa8ea64ec62401 (<class 'rdflib.graph.Graph'>)>"
            ]
          },
          "metadata": {},
          "execution_count": 18
        }
      ]
    },
    {
      "cell_type": "code",
      "source": [
        "iprok.destroy()\n",
        "schedule_iprok.destroy()"
      ],
      "metadata": {
        "id": "S6eo0wpzCI6g"
      },
      "execution_count": 10,
      "outputs": []
    },
    {
      "cell_type": "code",
      "source": [],
      "metadata": {
        "id": "PwFgxrF7i9Xe"
      },
      "execution_count": null,
      "outputs": []
    }
  ]
}