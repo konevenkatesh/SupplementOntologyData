{
  "nbformat": 4,
  "nbformat_minor": 0,
  "metadata": {
    "colab": {
      "provenance": [],
      "authorship_tag": "ABX9TyO2X6ZXRciNUYii9mR3rm4F",
      "include_colab_link": true
    },
    "kernelspec": {
      "name": "python3",
      "display_name": "Python 3"
    },
    "language_info": {
      "name": "python"
    }
  },
  "cells": [
    {
      "cell_type": "markdown",
      "metadata": {
        "id": "view-in-github",
        "colab_type": "text"
      },
      "source": [
        "<a href=\"https://colab.research.google.com/github/konevenkatesh/SupplementOntologyData/blob/master/test/iprok.ipynb\" target=\"_parent\"><img src=\"https://colab.research.google.com/assets/colab-badge.svg\" alt=\"Open In Colab\"/></a>"
      ]
    },
    {
      "cell_type": "code",
      "execution_count": 1,
      "metadata": {
        "colab": {
          "base_uri": "https://localhost:8080/"
        },
        "id": "vFe0lOZcP0_2",
        "outputId": "83cb8656-5afd-47e9-b4f6-37273e6c25f8"
      },
      "outputs": [
        {
          "output_type": "stream",
          "name": "stdout",
          "text": [
            "Collecting owlready2\n",
            "  Downloading owlready2-0.47.tar.gz (27.3 MB)\n",
            "\u001b[2K     \u001b[90m━━━━━━━━━━━━━━━━━━━━━━━━━━━━━━━━━━━━━━━━\u001b[0m \u001b[32m27.3/27.3 MB\u001b[0m \u001b[31m17.7 MB/s\u001b[0m eta \u001b[36m0:00:00\u001b[0m\n",
            "\u001b[?25h  Installing build dependencies ... \u001b[?25l\u001b[?25hdone\n",
            "  Getting requirements to build wheel ... \u001b[?25l\u001b[?25hdone\n",
            "  Preparing metadata (pyproject.toml) ... \u001b[?25l\u001b[?25hdone\n",
            "Building wheels for collected packages: owlready2\n",
            "  Building wheel for owlready2 (pyproject.toml) ... \u001b[?25l\u001b[?25hdone\n",
            "  Created wheel for owlready2: filename=owlready2-0.47-cp311-cp311-linux_x86_64.whl size=24521243 sha256=ab152110fe4ed870d6e19eb3974f8c6f4ee7f010b6f8af70b6fd8e0c1ab6e363\n",
            "  Stored in directory: /root/.cache/pip/wheels/25/9a/a3/fb1ac6339caa859c8bb18d685736168b0b51d851af13d81d52\n",
            "Successfully built owlready2\n",
            "Installing collected packages: owlready2\n",
            "Successfully installed owlready2-0.47\n",
            "Collecting rdflib\n",
            "  Downloading rdflib-7.1.4-py3-none-any.whl.metadata (11 kB)\n",
            "Requirement already satisfied: pyparsing<4,>=2.1.0 in /usr/local/lib/python3.11/dist-packages (from rdflib) (3.2.3)\n",
            "Downloading rdflib-7.1.4-py3-none-any.whl (565 kB)\n",
            "\u001b[2K   \u001b[90m━━━━━━━━━━━━━━━━━━━━━━━━━━━━━━━━━━━━━━━━\u001b[0m \u001b[32m565.1/565.1 kB\u001b[0m \u001b[31m12.6 MB/s\u001b[0m eta \u001b[36m0:00:00\u001b[0m\n",
            "\u001b[?25hInstalling collected packages: rdflib\n",
            "Successfully installed rdflib-7.1.4\n"
          ]
        }
      ],
      "source": [
        "!pip install owlready2\n",
        "!pip install rdflib"
      ]
    },
    {
      "cell_type": "code",
      "source": [
        "# Import necessary libraries\n",
        "from owlready2 import *\n",
        "from datetime import date, datetime, timedelta\n",
        "from rdflib import Graph"
      ],
      "metadata": {
        "id": "uhCqbHkGQLPC"
      },
      "execution_count": 2,
      "outputs": []
    },
    {
      "cell_type": "code",
      "source": [
        "set_log_level(9)"
      ],
      "metadata": {
        "id": "dacSwaNCQOTA"
      },
      "execution_count": 3,
      "outputs": []
    },
    {
      "cell_type": "code",
      "source": [
        "# Define the IproK Ontology IRI and get/create the ontology\n",
        "iprok_iri = \"https://w3id.org/iprok#\"\n",
        "iprok = get_ontology(iprok_iri)"
      ],
      "metadata": {
        "colab": {
          "base_uri": "https://localhost:8080/"
        },
        "id": "Mntohp8WQRw1",
        "outputId": "d90a133f-4e54-46e9-e317-fe3ebd5e3260"
      },
      "execution_count": 4,
      "outputs": [
        {
          "output_type": "stream",
          "name": "stderr",
          "text": [
            "* Owlready2 * Creating new ontology iprok <https://w3id.org/iprok#>.\n",
            "* Owlready2 * ADD TRIPLE https://w3id.org/iprok http://www.w3.org/1999/02/22-rdf-syntax-ns#type http://www.w3.org/2002/07/owl#Ontology\n"
          ]
        }
      ]
    },
    {
      "cell_type": "code",
      "source": [
        "\n",
        "\n",
        "with iprok:\n",
        "    # Define a base class for all IproK specific entities\n",
        "    class IproKThing(Thing):\n",
        "        namespace = iprok # Make sure 'iprok' namespace is correctly assigned\n",
        "        label = [\"IproK Thing\"]\n",
        "        comment = [\"A base class for all entities specific to the IproK Ontology.\"]\n",
        "        pass\n",
        "\n",
        "    class Constraint(IproKThing):\n",
        "        label = [\"Constraint\"]\n",
        "        comment = [\"Represents specific date or condition constraints applied to tasks or other entities.\"]\n",
        "        pass\n",
        "\n",
        "    class Calendar(IproKThing):\n",
        "        label = [\"Calendar\"]\n",
        "        comment = [\"Defines working and non-working times, holidays, and project-specific work schedules.\"]\n",
        "        pass\n",
        "\n",
        "    # Properties for Constraint (Corrected comment from \"Common Object Properties\")\n",
        "    class constraintType(DataProperty, FunctionalProperty):\n",
        "        domain = [Constraint]\n",
        "        range = [str] # e.g., \"MustStartOn\", \"FinishNoLaterThan\"\n",
        "        label = [\"constraint Type\"]\n",
        "        comment = [\"The type of constraint (e.g., 'MustStartOn', 'FinishNoLaterThan').\"]\n",
        "\n",
        "    class constraintDate(DataProperty, FunctionalProperty):\n",
        "        domain = [Constraint]\n",
        "        range = [datetime]\n",
        "        label = [\"constraint Date\"]\n",
        "        comment = [\"The specific date associated with a constraint.\"]\n",
        "\n",
        "    # Common Data Properties\n",
        "    class hasGlobalId(DataProperty, FunctionalProperty):\n",
        "        range = [str]\n",
        "        label = [\"has Global Id\"]\n",
        "        comment = [\"A globally unique identifier for an entity.\"]\n",
        "\n",
        "    class hasId(DataProperty, FunctionalProperty):\n",
        "        range = [str]\n",
        "        label = [\"has Id\"]\n",
        "        comment = [\"A local or project-specific identifier for an entity.\"]\n",
        "\n",
        "    class hasName(DataProperty, FunctionalProperty):\n",
        "        range = [str]\n",
        "        label = [\"has Name\"]\n",
        "        comment = [\"The common or human-readable name of an entity.\"]\n",
        "\n",
        "    class hasDescription(DataProperty):\n",
        "        range = [str]\n",
        "        label = [\"has Description\"]\n",
        "        comment = [\"A textual description providing further details about an entity.\"]"
      ],
      "metadata": {
        "colab": {
          "base_uri": "https://localhost:8080/"
        },
        "id": "rfvdo-xIQ--X",
        "outputId": "9ae79e8f-dc57-424d-9ddd-48a879458da0"
      },
      "execution_count": 5,
      "outputs": [
        {
          "output_type": "stream",
          "name": "stderr",
          "text": [
            "* Owlready2 * ADD TRIPLE https://w3id.org/iprok#IproKThing http://www.w3.org/1999/02/22-rdf-syntax-ns#type http://www.w3.org/2002/07/owl#Class\n",
            "* Owlready2 * ADD TRIPLE https://w3id.org/iprok#IproKThing http://www.w3.org/2000/01/rdf-schema#subClassOf http://www.w3.org/2002/07/owl#Thing\n",
            "* Owlready2 * ADD TRIPLE https://w3id.org/iprok#IproKThing http://www.w3.org/2000/01/rdf-schema#label IproK Thing http://www.w3.org/2001/XMLSchema#string\n",
            "* Owlready2 * ADD TRIPLE https://w3id.org/iprok#IproKThing http://www.w3.org/2000/01/rdf-schema#comment A base class for all entities specific to the IproK Ontology. http://www.w3.org/2001/XMLSchema#string\n",
            "* Owlready2 * ADD TRIPLE https://w3id.org/iprok#Constraint http://www.w3.org/1999/02/22-rdf-syntax-ns#type http://www.w3.org/2002/07/owl#Class\n",
            "* Owlready2 * ADD TRIPLE https://w3id.org/iprok#Constraint http://www.w3.org/2000/01/rdf-schema#subClassOf https://w3id.org/iprok#IproKThing\n",
            "* Owlready2 * ADD TRIPLE https://w3id.org/iprok#Constraint http://www.w3.org/2000/01/rdf-schema#label Constraint http://www.w3.org/2001/XMLSchema#string\n",
            "* Owlready2 * ADD TRIPLE https://w3id.org/iprok#Constraint http://www.w3.org/2000/01/rdf-schema#comment Represents specific date or condition constraints applied to tasks or other entities. http://www.w3.org/2001/XMLSchema#string\n",
            "* Owlready2 * ADD TRIPLE https://w3id.org/iprok#Calendar http://www.w3.org/1999/02/22-rdf-syntax-ns#type http://www.w3.org/2002/07/owl#Class\n",
            "* Owlready2 * ADD TRIPLE https://w3id.org/iprok#Calendar http://www.w3.org/2000/01/rdf-schema#subClassOf https://w3id.org/iprok#IproKThing\n",
            "* Owlready2 * ADD TRIPLE https://w3id.org/iprok#Calendar http://www.w3.org/2000/01/rdf-schema#label Calendar http://www.w3.org/2001/XMLSchema#string\n",
            "* Owlready2 * ADD TRIPLE https://w3id.org/iprok#Calendar http://www.w3.org/2000/01/rdf-schema#comment Defines working and non-working times, holidays, and project-specific work schedules. http://www.w3.org/2001/XMLSchema#string\n",
            "* Owlready2 * ADD TRIPLE https://w3id.org/iprok#constraintType http://www.w3.org/1999/02/22-rdf-syntax-ns#type http://www.w3.org/2002/07/owl#DatatypeProperty\n",
            "* Owlready2 * ADD TRIPLE https://w3id.org/iprok#constraintType http://www.w3.org/1999/02/22-rdf-syntax-ns#type http://www.w3.org/2002/07/owl#FunctionalProperty\n",
            "* Owlready2 * ADD TRIPLE https://w3id.org/iprok#constraintType http://www.w3.org/2000/01/rdf-schema#label constraint Type http://www.w3.org/2001/XMLSchema#string\n",
            "* Owlready2 * ADD TRIPLE https://w3id.org/iprok#constraintType http://www.w3.org/2000/01/rdf-schema#comment The type of constraint (e.g., 'MustStartOn', 'FinishNoLaterThan'). http://www.w3.org/2001/XMLSchema#string\n",
            "* Owlready2 * ADD TRIPLE https://w3id.org/iprok#constraintType http://www.w3.org/2000/01/rdf-schema#domain https://w3id.org/iprok#Constraint\n",
            "* Owlready2 * ADD TRIPLE https://w3id.org/iprok#constraintType http://www.w3.org/2000/01/rdf-schema#range http://www.w3.org/2001/XMLSchema#string\n",
            "* Owlready2 * ADD TRIPLE https://w3id.org/iprok#constraintDate http://www.w3.org/1999/02/22-rdf-syntax-ns#type http://www.w3.org/2002/07/owl#DatatypeProperty\n",
            "* Owlready2 * ADD TRIPLE https://w3id.org/iprok#constraintDate http://www.w3.org/1999/02/22-rdf-syntax-ns#type http://www.w3.org/2002/07/owl#FunctionalProperty\n",
            "* Owlready2 * ADD TRIPLE https://w3id.org/iprok#constraintDate http://www.w3.org/2000/01/rdf-schema#label constraint Date http://www.w3.org/2001/XMLSchema#string\n",
            "* Owlready2 * ADD TRIPLE https://w3id.org/iprok#constraintDate http://www.w3.org/2000/01/rdf-schema#comment The specific date associated with a constraint. http://www.w3.org/2001/XMLSchema#string\n",
            "* Owlready2 * ADD TRIPLE https://w3id.org/iprok#constraintDate http://www.w3.org/2000/01/rdf-schema#domain https://w3id.org/iprok#Constraint\n",
            "* Owlready2 * ADD TRIPLE https://w3id.org/iprok#constraintDate http://www.w3.org/2000/01/rdf-schema#range http://www.w3.org/2001/XMLSchema#dateTime\n",
            "* Owlready2 * ADD TRIPLE https://w3id.org/iprok#hasGlobalId http://www.w3.org/1999/02/22-rdf-syntax-ns#type http://www.w3.org/2002/07/owl#DatatypeProperty\n",
            "* Owlready2 * ADD TRIPLE https://w3id.org/iprok#hasGlobalId http://www.w3.org/1999/02/22-rdf-syntax-ns#type http://www.w3.org/2002/07/owl#FunctionalProperty\n",
            "* Owlready2 * ADD TRIPLE https://w3id.org/iprok#hasGlobalId http://www.w3.org/2000/01/rdf-schema#label has Global Id http://www.w3.org/2001/XMLSchema#string\n",
            "* Owlready2 * ADD TRIPLE https://w3id.org/iprok#hasGlobalId http://www.w3.org/2000/01/rdf-schema#comment A globally unique identifier for an entity. http://www.w3.org/2001/XMLSchema#string\n",
            "* Owlready2 * ADD TRIPLE https://w3id.org/iprok#hasGlobalId http://www.w3.org/2000/01/rdf-schema#range http://www.w3.org/2001/XMLSchema#string\n",
            "* Owlready2 * ADD TRIPLE https://w3id.org/iprok#hasId http://www.w3.org/1999/02/22-rdf-syntax-ns#type http://www.w3.org/2002/07/owl#DatatypeProperty\n",
            "* Owlready2 * ADD TRIPLE https://w3id.org/iprok#hasId http://www.w3.org/1999/02/22-rdf-syntax-ns#type http://www.w3.org/2002/07/owl#FunctionalProperty\n",
            "* Owlready2 * ADD TRIPLE https://w3id.org/iprok#hasId http://www.w3.org/2000/01/rdf-schema#label has Id http://www.w3.org/2001/XMLSchema#string\n",
            "* Owlready2 * ADD TRIPLE https://w3id.org/iprok#hasId http://www.w3.org/2000/01/rdf-schema#comment A local or project-specific identifier for an entity. http://www.w3.org/2001/XMLSchema#string\n",
            "* Owlready2 * ADD TRIPLE https://w3id.org/iprok#hasId http://www.w3.org/2000/01/rdf-schema#range http://www.w3.org/2001/XMLSchema#string\n",
            "* Owlready2 * ADD TRIPLE https://w3id.org/iprok#hasName http://www.w3.org/1999/02/22-rdf-syntax-ns#type http://www.w3.org/2002/07/owl#DatatypeProperty\n",
            "* Owlready2 * ADD TRIPLE https://w3id.org/iprok#hasName http://www.w3.org/1999/02/22-rdf-syntax-ns#type http://www.w3.org/2002/07/owl#FunctionalProperty\n",
            "* Owlready2 * ADD TRIPLE https://w3id.org/iprok#hasName http://www.w3.org/2000/01/rdf-schema#label has Name http://www.w3.org/2001/XMLSchema#string\n",
            "* Owlready2 * ADD TRIPLE https://w3id.org/iprok#hasName http://www.w3.org/2000/01/rdf-schema#comment The common or human-readable name of an entity. http://www.w3.org/2001/XMLSchema#string\n",
            "* Owlready2 * ADD TRIPLE https://w3id.org/iprok#hasName http://www.w3.org/2000/01/rdf-schema#range http://www.w3.org/2001/XMLSchema#string\n",
            "* Owlready2 * ADD TRIPLE https://w3id.org/iprok#hasDescription http://www.w3.org/1999/02/22-rdf-syntax-ns#type http://www.w3.org/2002/07/owl#DatatypeProperty\n",
            "* Owlready2 * ADD TRIPLE https://w3id.org/iprok#hasDescription http://www.w3.org/2000/01/rdf-schema#label has Description http://www.w3.org/2001/XMLSchema#string\n",
            "* Owlready2 * ADD TRIPLE https://w3id.org/iprok#hasDescription http://www.w3.org/2000/01/rdf-schema#comment A textual description providing further details about an entity. http://www.w3.org/2001/XMLSchema#string\n",
            "* Owlready2 * ADD TRIPLE https://w3id.org/iprok#hasDescription http://www.w3.org/2000/01/rdf-schema#range http://www.w3.org/2001/XMLSchema#string\n"
          ]
        }
      ]
    },
    {
      "cell_type": "code",
      "source": [
        "iprok.save(file=\"iprok.owl\", format=\"rdfxml\")"
      ],
      "metadata": {
        "colab": {
          "base_uri": "https://localhost:8080/"
        },
        "id": "EGjysfvkRjMu",
        "outputId": "c0182b27-04b5-4d8b-c95e-dae7dd0b4c82"
      },
      "execution_count": 6,
      "outputs": [
        {
          "output_type": "stream",
          "name": "stderr",
          "text": [
            "* Owlready2 * Saving ontology iprok to iprok.owl...\n"
          ]
        }
      ]
    },
    {
      "cell_type": "code",
      "source": [
        "# Consistency Evaluation by HermiT, developed by the Department of Computer Science at the University of Oxford\n",
        "iprok = get_ontology(\"iprok.owl\").load()\n",
        "with iprok:\n",
        "  try:\n",
        "    sync_reasoner_hermit()\n",
        "    print(\"The ontology is consistent.\")\n",
        "  except:\n",
        "    print(\"The ontology is inconsistent.\")\n"
      ],
      "metadata": {
        "id": "isvxsTwuyATW",
        "outputId": "a10aef93-37af-493b-cd20-2270617c706d",
        "colab": {
          "base_uri": "https://localhost:8080/"
        }
      },
      "execution_count": 13,
      "outputs": [
        {
          "output_type": "stream",
          "name": "stderr",
          "text": [
            "* Owlready2 * Saving world <owlready2.namespace.World object at 0x78a37983fdd0> to /tmp/tmp8ilyevlc...\n",
            "* Owlready2 * Running HermiT...\n",
            "    java -Xmx2000M -cp /usr/local/lib/python3.11/dist-packages/owlready2/hermit:/usr/local/lib/python3.11/dist-packages/owlready2/hermit/HermiT.jar org.semanticweb.HermiT.cli.CommandLine -c -O -D -I file:////tmp/tmp8ilyevlc\n"
          ]
        },
        {
          "output_type": "stream",
          "name": "stdout",
          "text": [
            "The ontology is consistent.\n"
          ]
        },
        {
          "output_type": "stream",
          "name": "stderr",
          "text": [
            "* Owlready2 * HermiT took 1.3638696670532227 seconds\n",
            "* Owlready * (NB: only changes on entities loaded in Python are shown, other changes are done but not listed)\n"
          ]
        }
      ]
    },
    {
      "cell_type": "code",
      "source": [
        "from rdflib import Graph\n",
        "\n",
        "g= Graph()\n",
        "g.parse(\"iprok.owl\", format=\"xml\")\n",
        "g.serialize(destination=\"iprok.ttl\", format=\"ttl\")"
      ],
      "metadata": {
        "colab": {
          "base_uri": "https://localhost:8080/"
        },
        "id": "MZ58h7ZGRq8g",
        "outputId": "c4bc42b8-4fcb-42ff-9773-2fa98116666d"
      },
      "execution_count": 14,
      "outputs": [
        {
          "output_type": "execute_result",
          "data": {
            "text/plain": [
              "<Graph identifier=Nfde4e02e595c4436a41d13fddec6aeb1 (<class 'rdflib.graph.Graph'>)>"
            ]
          },
          "metadata": {},
          "execution_count": 14
        }
      ]
    },
    {
      "cell_type": "code",
      "source": [
        "iprok.destroy()"
      ],
      "metadata": {
        "id": "zrsEXKu0Ruqn"
      },
      "execution_count": 15,
      "outputs": []
    }
  ]
}