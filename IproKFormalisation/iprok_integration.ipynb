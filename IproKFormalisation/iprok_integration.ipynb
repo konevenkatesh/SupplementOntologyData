{
  "nbformat": 4,
  "nbformat_minor": 0,
  "metadata": {
    "colab": {
      "provenance": [],
      "authorship_tag": "ABX9TyO512S1BpsMoWqk4Aev1UUY",
      "include_colab_link": true
    },
    "kernelspec": {
      "name": "python3",
      "display_name": "Python 3"
    },
    "language_info": {
      "name": "python"
    }
  },
  "cells": [
    {
      "cell_type": "markdown",
      "metadata": {
        "id": "view-in-github",
        "colab_type": "text"
      },
      "source": [
        "<a href=\"https://colab.research.google.com/github/konevenkatesh/Ontology_PM/blob/main/iprok_integration.ipynb\" target=\"_parent\"><img src=\"https://colab.research.google.com/assets/colab-badge.svg\" alt=\"Open In Colab\"/></a>"
      ]
    },
    {
      "cell_type": "code",
      "execution_count": null,
      "metadata": {
        "colab": {
          "base_uri": "https://localhost:8080/"
        },
        "id": "qT1xuUx8zP_l",
        "outputId": "4257d803-6e1e-40c9-f141-be1388c30ef4"
      },
      "outputs": [
        {
          "output_type": "stream",
          "name": "stdout",
          "text": [
            "Collecting owlready2\n",
            "  Downloading owlready2-0.47.tar.gz (27.3 MB)\n",
            "\u001b[2K     \u001b[90m━━━━━━━━━━━━━━━━━━━━━━━━━━━━━━━━━━━━━━━━\u001b[0m \u001b[32m27.3/27.3 MB\u001b[0m \u001b[31m30.3 MB/s\u001b[0m eta \u001b[36m0:00:00\u001b[0m\n",
            "\u001b[?25h  Installing build dependencies ... \u001b[?25l\u001b[?25hdone\n",
            "  Getting requirements to build wheel ... \u001b[?25l\u001b[?25hdone\n",
            "  Preparing metadata (pyproject.toml) ... \u001b[?25l\u001b[?25hdone\n",
            "Building wheels for collected packages: owlready2\n",
            "  Building wheel for owlready2 (pyproject.toml) ... \u001b[?25l\u001b[?25hdone\n",
            "  Created wheel for owlready2: filename=owlready2-0.47-cp311-cp311-linux_x86_64.whl size=24521242 sha256=6da10e21428153cbd5a4cacc6baed9d705bb3367bde98fe9e7f9085815783031\n",
            "  Stored in directory: /root/.cache/pip/wheels/25/9a/a3/fb1ac6339caa859c8bb18d685736168b0b51d851af13d81d52\n",
            "Successfully built owlready2\n",
            "Installing collected packages: owlready2\n",
            "Successfully installed owlready2-0.47\n",
            "Collecting rdflib\n",
            "  Downloading rdflib-7.1.4-py3-none-any.whl.metadata (11 kB)\n",
            "Requirement already satisfied: pyparsing<4,>=2.1.0 in /usr/local/lib/python3.11/dist-packages (from rdflib) (3.2.3)\n",
            "Downloading rdflib-7.1.4-py3-none-any.whl (565 kB)\n",
            "\u001b[2K   \u001b[90m━━━━━━━━━━━━━━━━━━━━━━━━━━━━━━━━━━━━━━━━\u001b[0m \u001b[32m565.1/565.1 kB\u001b[0m \u001b[31m8.5 MB/s\u001b[0m eta \u001b[36m0:00:00\u001b[0m\n",
            "\u001b[?25hInstalling collected packages: rdflib\n",
            "Successfully installed rdflib-7.1.4\n"
          ]
        }
      ],
      "source": [
        "!pip install owlready2\n",
        "!pip install rdflib"
      ]
    },
    {
      "cell_type": "code",
      "source": [
        "# Import necessary libraries\n",
        "from owlready2 import *\n",
        "from datetime import date, datetime, timedelta\n",
        "from rdflib import Graph"
      ],
      "metadata": {
        "id": "YJa3LGGM3XVY"
      },
      "execution_count": null,
      "outputs": []
    },
    {
      "cell_type": "code",
      "source": [
        "set_log_level(9)"
      ],
      "metadata": {
        "id": "HiMxewD44N2e"
      },
      "execution_count": null,
      "outputs": []
    },
    {
      "cell_type": "code",
      "source": [
        "# Define the IproK Ontology IRI and get/create the ontology\n",
        "integrated_iri = \"https://w3id.org/IproK/integrated#\"\n",
        "integrated_iprok = get_ontology(integrated_iri)"
      ],
      "metadata": {
        "colab": {
          "base_uri": "https://localhost:8080/"
        },
        "id": "cUOlp7ta3ZTH",
        "outputId": "0f7b6f9a-dc2d-4732-8e5e-7dc6a4240617"
      },
      "execution_count": null,
      "outputs": [
        {
          "output_type": "stream",
          "name": "stderr",
          "text": [
            "* Owlready2 * Creating new ontology integrated <https://w3id.org/IproK/integrated#>.\n",
            "* Owlready2 * ADD TRIPLE https://w3id.org/IproK/integrated http://www.w3.org/1999/02/22-rdf-syntax-ns#type http://www.w3.org/2002/07/owl#Ontology\n"
          ]
        }
      ]
    },
    {
      "cell_type": "code",
      "source": [
        "# Improt base IproK ontology\n",
        "iprok = get_ontology(\"iprok.owl\").load()\n",
        "schedule_iprok = get_ontology(\"iprok_schedule.owl\").load()\n",
        "resource_iprok = get_ontology(\"iprok_resource.owl\").load()\n",
        "cost_iprok = get_ontology(\"iprok_cost.owl\").load()\n",
        "integrated_iprok.imported_ontologies.append(iprok)\n",
        "integrated_iprok.imported_ontologies.append(schedule_iprok)\n",
        "integrated_iprok.imported_ontologies.append(resource_iprok)\n",
        "integrated_iprok.imported_ontologies.append(cost_iprok)"
      ],
      "metadata": {
        "colab": {
          "base_uri": "https://localhost:8080/"
        },
        "id": "Wh0fGQdZYv1e",
        "outputId": "6fa5b960-0c5f-490f-9ad3-f199af568b9a"
      },
      "execution_count": null,
      "outputs": [
        {
          "output_type": "stream",
          "name": "stdout",
          "text": [
            "* Owlready2 * Reseting property iprok.hasGlobalId: new triples are now available.\n",
            "* Owlready2 * Reseting property iprok.hasId: new triples are now available.\n",
            "* Owlready2 * Reseting property iprok.hasName: new triples are now available.\n",
            "* Owlready2 * Reseting property iprok.hasDescription: new triples are now available.\n",
            "* Owlready2 * Reseting property iprok.hasGlobalId: new triples are now available.\n",
            "* Owlready2 * Reseting property iprok.hasId: new triples are now available.\n",
            "* Owlready2 * Reseting property iprok.hasName: new triples are now available.\n",
            "* Owlready2 * Reseting property iprok.hasDescription: new triples are now available.\n",
            "* Owlready2 * Reseting property iprok.hasId: new triples are now available.\n",
            "* Owlready2 * Reseting property iprok.hasName: new triples are now available.\n"
          ]
        },
        {
          "output_type": "stream",
          "name": "stderr",
          "text": [
            "* Owlready2 * Creating new ontology iprok <iprok.owl#>.\n",
            "* Owlready2 * ADD TRIPLE iprok.owl http://www.w3.org/1999/02/22-rdf-syntax-ns#type http://www.w3.org/2002/07/owl#Ontology\n",
            "* Owlready2 *     ...loading ontology iprok from iprok.owl...\n",
            "* Owlready2 *     ...4 properties found: hasGlobalId, hasId, hasName, hasDescription\n",
            "* Owlready2 * Creating new ontology iprok_schedule <iprok_schedule.owl#>.\n",
            "* Owlready2 * ADD TRIPLE iprok_schedule.owl http://www.w3.org/1999/02/22-rdf-syntax-ns#type http://www.w3.org/2002/07/owl#Ontology\n",
            "* Owlready2 *     ...loading ontology iprok_schedule from iprok_schedule.owl...\n",
            "* Owlready2 *     ...29 properties found: hasWorkPackage, hasWBS, hasTask, hasSubTask, hasTaskTime, hasPredecessorDependency, hasSuccessorDependency, linksToPredecessorTask, linksToSuccessorTask, hasConstraint, assignedTo, projectCategory, projectOwner, projectAddress, isCriticalTask, isMilestone, taskPriority, plannedStartDate, plannedFinishDate, actualStartDate, actualFinishDate, scheduleDuration, actualDuration, remainingDuration, atCompleteDuration, taskRelationshipType, lagTime, constraintType, constraintDate\n",
            "* Owlready2 * Creating new ontology iprok_resource <iprok_resource.owl#>.\n",
            "* Owlready2 * ADD TRIPLE iprok_resource.owl http://www.w3.org/1999/02/22-rdf-syntax-ns#type http://www.w3.org/2002/07/owl#Ontology\n",
            "* Owlready2 *     ...loading ontology iprok_resource from iprok_resource.owl...\n",
            "* Owlready2 *     ...13 properties found: hasResourceType, hasTrackingTag, measuredIn, hasResourceConstraints, baseRate, currency, effectiveDateForRate, maxUnits, budgetedUnits, actualUnits, remainingUnits, atCompleteUnits, isPrimaryResource\n",
            "* Owlready2 * Creating new ontology iprok_cost <iprok_cost.owl#>.\n",
            "* Owlready2 * ADD TRIPLE iprok_cost.owl http://www.w3.org/1999/02/22-rdf-syntax-ns#type http://www.w3.org/2002/07/owl#Ontology\n",
            "* Owlready2 *     ...loading ontology iprok_cost from iprok_cost.owl...\n",
            "* Owlready2 *     ...7 properties found: hasCostType, hasCostCategory, budgetedCostAmount, actualCostAmount, remainingCostAmount, atCompleteCostAmount, vendorName\n",
            "* Owlready2 * ADD TRIPLE https://w3id.org/IproK/integrated http://www.w3.org/2002/07/owl#imports https://w3id.org/IproK\n",
            "* Owlready2 * ADD TRIPLE https://w3id.org/IproK/integrated http://www.w3.org/2002/07/owl#imports https://w3id.org/IproK/schedule\n",
            "* Owlready2 * ADD TRIPLE https://w3id.org/IproK/integrated http://www.w3.org/2002/07/owl#imports https://w3id.org/IproK/resource\n",
            "* Owlready2 * ADD TRIPLE https://w3id.org/IproK/integrated http://www.w3.org/2002/07/owl#imports https://w3id.org/IproK/cost\n"
          ]
        }
      ]
    },
    {
      "cell_type": "code",
      "source": [
        "with integrated_iprok:\n",
        "    # =======================================================================\n",
        "    # Interrelation Module (Conceptual Links, e.g., from Module.docx Fig 6)\n",
        "    # =======================================================================\n",
        "    print(\"Defining Interrelation Properties...\")\n",
        "\n",
        "    # Key class for linking Task and Resource with allocation details\n",
        "    class ResourceAllocation(iprok.IproKThing):\n",
        "        \"\"\"Represents the assignment of a specific quantity of a resource to a task over a period.\"\"\"\n",
        "        pass\n",
        "\n",
        "    # Data properties for ResourceAllocation\n",
        "    class allocatedUnits(DataProperty, FunctionalProperty):\n",
        "        domain = [ResourceAllocation]\n",
        "        range = [float]\n",
        "\n",
        "    class allocationPlannedStartDate(DataProperty, FunctionalProperty):\n",
        "        domain = [ResourceAllocation]\n",
        "        range = [datetime]\n",
        "\n",
        "    class allocationPlannedFinishDate(DataProperty, FunctionalProperty):\n",
        "        domain = [ResourceAllocation]\n",
        "        range = [datetime]\n",
        "\n",
        "    # ... add actual/baseline dates for allocation if needed\n",
        "\n",
        "    # Object properties for ResourceAllocation\n",
        "    class allocationAssignsResource(ObjectProperty, FunctionalProperty):\n",
        "        domain = [ResourceAllocation]\n",
        "        range = [resource_iprok.Resource]\n",
        "\n",
        "    class allocationForTask(ObjectProperty, FunctionalProperty):\n",
        "        domain = [ResourceAllocation]\n",
        "        range = [schedule_iprok.Task]\n",
        "\n",
        "    # Linking Task to Resource via ResourceAllocation\n",
        "    class taskHasResourceAllocation(ObjectProperty):\n",
        "        domain = [schedule_iprok.Task]\n",
        "        range = [ResourceAllocation]\n",
        "        # Inverse: resourceAllocationIsForTask (defined on ResourceAllocation)\n",
        "        # This replaces the direct 'taskRequiresResource' for detailed allocation\n",
        "\n",
        "    # Linking Task to CostItem (already conceptualized in Schedule Module's Figure 3)\n",
        "    class taskGeneratesCostItem(ObjectProperty): # More specific than just hasCostItem\n",
        "        domain = [schedule_iprok.Task]\n",
        "        range = [cost_iprok.CostItem]\n",
        "        # Inverse: costItemGeneratedByTask\n",
        "\n",
        "    # Linking Resource (via its allocation/usage) to CostItem\n",
        "    class resourceAllocationIncursCostItem(ObjectProperty):\n",
        "        domain = [ResourceAllocation]\n",
        "        range = [cost_iprok.CostItem]\n",
        "        # Inverse: costItemFromResourceAllocation\n",
        "\n",
        "\n",
        "    print(\"IproK Ontology definition complete.\")"
      ],
      "metadata": {
        "colab": {
          "base_uri": "https://localhost:8080/"
        },
        "id": "X3EF1GXE3qFk",
        "outputId": "9dd01b2f-0592-41aa-e6ac-ad4a0f78c875"
      },
      "execution_count": null,
      "outputs": [
        {
          "output_type": "stream",
          "name": "stdout",
          "text": [
            "Defining Interrelation Properties...\n",
            "IproK Ontology definition complete.\n"
          ]
        },
        {
          "output_type": "stream",
          "name": "stderr",
          "text": [
            "* Owlready2 * ADD TRIPLE https://w3id.org/IproK/integrated#ResourceAllocation http://www.w3.org/1999/02/22-rdf-syntax-ns#type http://www.w3.org/2002/07/owl#Class\n",
            "* Owlready2 * ADD TRIPLE https://w3id.org/IproK/integrated#ResourceAllocation http://www.w3.org/2000/01/rdf-schema#subClassOf https://w3id.org/IproK#IproKThing\n",
            "* Owlready2 * ADD TRIPLE https://w3id.org/IproK/integrated#allocatedUnits http://www.w3.org/1999/02/22-rdf-syntax-ns#type http://www.w3.org/2002/07/owl#DatatypeProperty\n",
            "* Owlready2 * ADD TRIPLE https://w3id.org/IproK/integrated#allocatedUnits http://www.w3.org/1999/02/22-rdf-syntax-ns#type http://www.w3.org/2002/07/owl#FunctionalProperty\n",
            "* Owlready2 * ADD TRIPLE https://w3id.org/IproK/integrated#allocatedUnits http://www.w3.org/2000/01/rdf-schema#domain https://w3id.org/IproK/integrated#ResourceAllocation\n",
            "* Owlready2 * ADD TRIPLE https://w3id.org/IproK/integrated#allocatedUnits http://www.w3.org/2000/01/rdf-schema#range http://www.w3.org/2001/XMLSchema#decimal\n",
            "* Owlready2 * ADD TRIPLE https://w3id.org/IproK/integrated#allocationPlannedStartDate http://www.w3.org/1999/02/22-rdf-syntax-ns#type http://www.w3.org/2002/07/owl#DatatypeProperty\n",
            "* Owlready2 * ADD TRIPLE https://w3id.org/IproK/integrated#allocationPlannedStartDate http://www.w3.org/1999/02/22-rdf-syntax-ns#type http://www.w3.org/2002/07/owl#FunctionalProperty\n",
            "* Owlready2 * ADD TRIPLE https://w3id.org/IproK/integrated#allocationPlannedStartDate http://www.w3.org/2000/01/rdf-schema#domain https://w3id.org/IproK/integrated#ResourceAllocation\n",
            "* Owlready2 * ADD TRIPLE https://w3id.org/IproK/integrated#allocationPlannedStartDate http://www.w3.org/2000/01/rdf-schema#range http://www.w3.org/2001/XMLSchema#dateTime\n",
            "* Owlready2 * ADD TRIPLE https://w3id.org/IproK/integrated#allocationPlannedFinishDate http://www.w3.org/1999/02/22-rdf-syntax-ns#type http://www.w3.org/2002/07/owl#DatatypeProperty\n",
            "* Owlready2 * ADD TRIPLE https://w3id.org/IproK/integrated#allocationPlannedFinishDate http://www.w3.org/1999/02/22-rdf-syntax-ns#type http://www.w3.org/2002/07/owl#FunctionalProperty\n",
            "* Owlready2 * ADD TRIPLE https://w3id.org/IproK/integrated#allocationPlannedFinishDate http://www.w3.org/2000/01/rdf-schema#domain https://w3id.org/IproK/integrated#ResourceAllocation\n",
            "* Owlready2 * ADD TRIPLE https://w3id.org/IproK/integrated#allocationPlannedFinishDate http://www.w3.org/2000/01/rdf-schema#range http://www.w3.org/2001/XMLSchema#dateTime\n",
            "* Owlready2 * ADD TRIPLE https://w3id.org/IproK/integrated#allocationAssignsResource http://www.w3.org/1999/02/22-rdf-syntax-ns#type http://www.w3.org/2002/07/owl#ObjectProperty\n",
            "* Owlready2 * ADD TRIPLE https://w3id.org/IproK/integrated#allocationAssignsResource http://www.w3.org/1999/02/22-rdf-syntax-ns#type http://www.w3.org/2002/07/owl#FunctionalProperty\n",
            "* Owlready2 * ADD TRIPLE https://w3id.org/IproK/integrated#allocationAssignsResource http://www.w3.org/2000/01/rdf-schema#domain https://w3id.org/IproK/integrated#ResourceAllocation\n",
            "* Owlready2 * ADD TRIPLE https://w3id.org/IproK/integrated#allocationAssignsResource http://www.w3.org/2000/01/rdf-schema#range https://w3id.org/IproK/resource#Resource\n",
            "* Owlready2 * ADD TRIPLE https://w3id.org/IproK/integrated#allocationForTask http://www.w3.org/1999/02/22-rdf-syntax-ns#type http://www.w3.org/2002/07/owl#ObjectProperty\n",
            "* Owlready2 * ADD TRIPLE https://w3id.org/IproK/integrated#allocationForTask http://www.w3.org/1999/02/22-rdf-syntax-ns#type http://www.w3.org/2002/07/owl#FunctionalProperty\n",
            "* Owlready2 * ADD TRIPLE https://w3id.org/IproK/integrated#allocationForTask http://www.w3.org/2000/01/rdf-schema#domain https://w3id.org/IproK/integrated#ResourceAllocation\n",
            "* Owlready2 * ADD TRIPLE https://w3id.org/IproK/integrated#allocationForTask http://www.w3.org/2000/01/rdf-schema#range https://w3id.org/IproK/schedule#Task\n",
            "* Owlready2 * ADD TRIPLE https://w3id.org/IproK/integrated#taskHasResourceAllocation http://www.w3.org/1999/02/22-rdf-syntax-ns#type http://www.w3.org/2002/07/owl#ObjectProperty\n",
            "* Owlready2 * ADD TRIPLE https://w3id.org/IproK/integrated#taskHasResourceAllocation http://www.w3.org/2000/01/rdf-schema#domain https://w3id.org/IproK/schedule#Task\n",
            "* Owlready2 * ADD TRIPLE https://w3id.org/IproK/integrated#taskHasResourceAllocation http://www.w3.org/2000/01/rdf-schema#range https://w3id.org/IproK/integrated#ResourceAllocation\n",
            "* Owlready2 * ADD TRIPLE https://w3id.org/IproK/integrated#taskGeneratesCostItem http://www.w3.org/1999/02/22-rdf-syntax-ns#type http://www.w3.org/2002/07/owl#ObjectProperty\n",
            "* Owlready2 * ADD TRIPLE https://w3id.org/IproK/integrated#taskGeneratesCostItem http://www.w3.org/2000/01/rdf-schema#domain https://w3id.org/IproK/schedule#Task\n",
            "* Owlready2 * ADD TRIPLE https://w3id.org/IproK/integrated#taskGeneratesCostItem http://www.w3.org/2000/01/rdf-schema#range https://w3id.org/IproK/cost#CostItem\n",
            "* Owlready2 * ADD TRIPLE https://w3id.org/IproK/integrated#resourceAllocationIncursCostItem http://www.w3.org/1999/02/22-rdf-syntax-ns#type http://www.w3.org/2002/07/owl#ObjectProperty\n",
            "* Owlready2 * ADD TRIPLE https://w3id.org/IproK/integrated#resourceAllocationIncursCostItem http://www.w3.org/2000/01/rdf-schema#domain https://w3id.org/IproK/integrated#ResourceAllocation\n",
            "* Owlready2 * ADD TRIPLE https://w3id.org/IproK/integrated#resourceAllocationIncursCostItem http://www.w3.org/2000/01/rdf-schema#range https://w3id.org/IproK/cost#CostItem\n"
          ]
        }
      ]
    },
    {
      "cell_type": "code",
      "source": [
        "integrated_iprok.save(file=\"iprok_integrated.owl\", format=\"rdfxml\")"
      ],
      "metadata": {
        "colab": {
          "base_uri": "https://localhost:8080/"
        },
        "id": "_w9woHSnEywp",
        "outputId": "6558aeff-b520-456e-8717-249f6ff9d9a5"
      },
      "execution_count": null,
      "outputs": [
        {
          "output_type": "stream",
          "name": "stderr",
          "text": [
            "* Owlready2 * Saving ontology integrated to iprok_integrated.owl...\n"
          ]
        }
      ]
    },
    {
      "cell_type": "code",
      "source": [
        "integrated_iprok.destroy()"
      ],
      "metadata": {
        "id": "OOnXBEC7E7nf"
      },
      "execution_count": null,
      "outputs": []
    }
  ]
}