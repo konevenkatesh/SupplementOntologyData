{
  "nbformat": 4,
  "nbformat_minor": 0,
  "metadata": {
    "colab": {
      "provenance": [],
      "authorship_tag": "ABX9TyNrbYkZ5SZ5s8NZxlbbuje7",
      "include_colab_link": true
    },
    "kernelspec": {
      "name": "python3",
      "display_name": "Python 3"
    },
    "language_info": {
      "name": "python"
    }
  },
  "cells": [
    {
      "cell_type": "markdown",
      "metadata": {
        "id": "view-in-github",
        "colab_type": "text"
      },
      "source": [
        "<a href=\"https://colab.research.google.com/github/konevenkatesh/Ontology_PM/blob/main/iprok_schedule.ipynb\" target=\"_parent\"><img src=\"https://colab.research.google.com/assets/colab-badge.svg\" alt=\"Open In Colab\"/></a>"
      ]
    },
    {
      "cell_type": "code",
      "execution_count": 15,
      "metadata": {
        "id": "1GpbaXNb70jO",
        "colab": {
          "base_uri": "https://localhost:8080/"
        },
        "outputId": "d63de55d-da9c-46b0-d6d9-2c0bd96154ec"
      },
      "outputs": [
        {
          "output_type": "stream",
          "name": "stdout",
          "text": [
            "Requirement already satisfied: owlready2 in /usr/local/lib/python3.11/dist-packages (0.47)\n",
            "Requirement already satisfied: rdflib in /usr/local/lib/python3.11/dist-packages (7.1.4)\n",
            "Requirement already satisfied: pyparsing<4,>=2.1.0 in /usr/local/lib/python3.11/dist-packages (from rdflib) (3.2.3)\n"
          ]
        }
      ],
      "source": [
        "!pip install owlready2\n",
        "!pip install rdflib"
      ]
    },
    {
      "cell_type": "code",
      "source": [
        "# Import necessary libraries\n",
        "from owlready2 import *\n",
        "from datetime import date, datetime, timedelta\n",
        "from rdflib import Graph"
      ],
      "metadata": {
        "id": "pLdB4TwN8nwv"
      },
      "execution_count": 16,
      "outputs": []
    },
    {
      "cell_type": "code",
      "source": [
        "set_log_level(9)"
      ],
      "metadata": {
        "id": "b561JX80KhFw"
      },
      "execution_count": 17,
      "outputs": []
    },
    {
      "cell_type": "code",
      "source": [
        "# Define the IproK Schedule Ontology IRI and get/create the ontology\n",
        "schedule_iri = \"https://w3id.org/IproK/schedule#\"\n",
        "schedule_iprok = get_ontology(schedule_iri)"
      ],
      "metadata": {
        "id": "HltaN9OV83n9",
        "outputId": "c7f87b12-43bb-4148-cc21-3641bf6238a5",
        "colab": {
          "base_uri": "https://localhost:8080/"
        }
      },
      "execution_count": 18,
      "outputs": [
        {
          "output_type": "stream",
          "name": "stderr",
          "text": [
            "* Owlready2 * Creating new ontology schedule <https://w3id.org/IproK/schedule#>.\n",
            "* Owlready2 * ADD TRIPLE https://w3id.org/IproK/schedule http://www.w3.org/1999/02/22-rdf-syntax-ns#type http://www.w3.org/2002/07/owl#Ontology\n"
          ]
        }
      ]
    },
    {
      "cell_type": "code",
      "source": [
        "# Improt base IproK ontology\n",
        "iprok = get_ontology(\"iprok.owl\").load()\n",
        "schedule_iprok.imported_ontologies.append(iprok)"
      ],
      "metadata": {
        "id": "wO5xWXeqLHqw",
        "outputId": "fdb840a8-b198-4426-c615-d175664b5236",
        "colab": {
          "base_uri": "https://localhost:8080/"
        }
      },
      "execution_count": 19,
      "outputs": [
        {
          "output_type": "stream",
          "name": "stdout",
          "text": [
            "* Owlready2 * Reseting property iprok.hasGlobalId: new triples are now available.\n",
            "* Owlready2 * Reseting property iprok.hasId: new triples are now available.\n",
            "* Owlready2 * Reseting property iprok.hasName: new triples are now available.\n",
            "* Owlready2 * Reseting property iprok.hasDescription: new triples are now available.\n"
          ]
        },
        {
          "output_type": "stream",
          "name": "stderr",
          "text": [
            "* Owlready2 * Creating new ontology iprok <iprok.owl#>.\n",
            "* Owlready2 * ADD TRIPLE iprok.owl http://www.w3.org/1999/02/22-rdf-syntax-ns#type http://www.w3.org/2002/07/owl#Ontology\n",
            "* Owlready2 *     ...loading ontology iprok from iprok.owl...\n",
            "* Owlready2 *     ...4 properties found: hasGlobalId, hasId, hasName, hasDescription\n",
            "* Owlready2 * ADD TRIPLE https://w3id.org/IproK/schedule http://www.w3.org/2002/07/owl#imports https://w3id.org/IproK\n"
          ]
        }
      ]
    },
    {
      "cell_type": "code",
      "source": [
        "with schedule_iprok:\n",
        "\n",
        "    # ==========================================================================\n",
        "    # Schedule Management Module (Conceptualization based on Module.docx Fig 3)\n",
        "    # ==========================================================================\n",
        "    print(\"Defining Schedule Management Module...\")\n",
        "\n",
        "    # Core Classes\n",
        "    class Project(iprok.IproKThing):\n",
        "        \"\"\"The overarching container for all project-related information.\"\"\"\n",
        "        pass\n",
        "\n",
        "    class WBS_Element(Project):\n",
        "        \"\"\"A general class for any component within the project's Work Breakdown Structure.\"\"\"\n",
        "        pass\n",
        "\n",
        "    class WorkPackage(WBS_Element):\n",
        "        \"\"\"A significant grouping of related tasks, often a major deliverable or phase.\"\"\"\n",
        "        pass\n",
        "\n",
        "    class Task(WBS_Element):\n",
        "        \"\"\"The fundamental unit of work. Can be a summary task or a leaf-level task.\"\"\"\n",
        "        pass\n",
        "\n",
        "    class TaskTime(iprok.IproKThing):\n",
        "        \"\"\"A class to reify temporal attributes of a Task.\"\"\"\n",
        "        pass\n",
        "\n",
        "    class TaskDependency(iprok.IproKThing): # Referred to as TaskRel in Module.docx Fig 3\n",
        "        \"\"\"Represents logical relationships between tasks.\"\"\"\n",
        "        pass\n",
        "\n",
        "    class Milestone(Task): # Conceptualized as a specialized Task\n",
        "        \"\"\"A significant event in the project, often with zero duration.\"\"\"\n",
        "        pass\n",
        "    # Reusing hasId, hasName, hasGlobalId, hasDescription defined earlier\n",
        "    # Their domains can be extended here or applied generally\n",
        "    iprok.hasId.domain.append(Task)\n",
        "    iprok.hasName.domain.append(Task)\n",
        "    iprok.hasGlobalId.domain.append(Task)\n",
        "    iprok.hasDescription.domain.append(Task)\n",
        "\n",
        "    # Schedule Module - Data Properties\n",
        "    class projectCategory(DataProperty):\n",
        "        domain = [Project]\n",
        "        range = [str]\n",
        "\n",
        "    class projectOwner(DataProperty):\n",
        "        domain = [Project]\n",
        "        range = [str] # Or link to an Actor/Organization class\n",
        "\n",
        "    class projectAddress(DataProperty):\n",
        "        domain = [Project]\n",
        "        range = [str]\n",
        "\n",
        "    class isCriticalTask(DataProperty, FunctionalProperty):\n",
        "        domain = [Task]\n",
        "        range = [bool]\n",
        "\n",
        "    class isMilestone(DataProperty, FunctionalProperty): # If Milestone is not a direct subclass\n",
        "        domain = [Task]\n",
        "        range = [bool]\n",
        "\n",
        "    class taskPriority(DataProperty, FunctionalProperty):\n",
        "        domain = [Task]\n",
        "        range = [int]\n",
        "\n",
        "    class plannedStartDate(DataProperty, FunctionalProperty):\n",
        "        domain = [TaskTime]\n",
        "        range = [datetime]\n",
        "\n",
        "    class plannedFinishDate(DataProperty, FunctionalProperty):\n",
        "        domain = [TaskTime]\n",
        "        range = [datetime]\n",
        "\n",
        "    class actualStartDate(DataProperty, FunctionalProperty):\n",
        "        domain = [TaskTime]\n",
        "        range = [datetime]\n",
        "\n",
        "    class actualFinishDate(DataProperty, FunctionalProperty):\n",
        "        domain = [TaskTime]\n",
        "        range = [datetime]\n",
        "\n",
        "    class scheduleDuration(DataProperty, FunctionalProperty): # Planned duration from schedule\n",
        "        domain = [TaskTime]\n",
        "        range = [timedelta]\n",
        "\n",
        "    class actualDuration(DataProperty, FunctionalProperty):\n",
        "        domain = [TaskTime]\n",
        "        range = [timedelta]\n",
        "\n",
        "    class remainingDuration(DataProperty, FunctionalProperty):\n",
        "        domain = [TaskTime]\n",
        "        range = [timedelta]\n",
        "\n",
        "    class atCompleteDuration(DataProperty, FunctionalProperty):\n",
        "        domain = [TaskTime]\n",
        "        range = [timedelta]\n",
        "\n",
        "    class taskRelationshipType(DataProperty, FunctionalProperty): # e.g., \"FS\", \"SS\"\n",
        "        domain = [TaskDependency]\n",
        "        range = [str]\n",
        "\n",
        "    class lagTime(DataProperty, FunctionalProperty):\n",
        "        domain = [TaskDependency]\n",
        "        range = [timedelta] # Can be positive (lag) or negative (lead)\n",
        "\n",
        "    class constraintType(DataProperty, FunctionalProperty):\n",
        "        domain = [iprok.Constraint]\n",
        "        range = [str] # e.g., \"MustStartOn\", \"FinishNoLaterThan\"\n",
        "\n",
        "    class constraintDate(DataProperty, FunctionalProperty):\n",
        "        domain = [iprok.Constraint]\n",
        "        range = [datetime]\n",
        "\n",
        "    # Schedule Module - Object Properties\n",
        "    class hasWorkPackage(ObjectProperty):\n",
        "        domain = [Project]\n",
        "        range = [WorkPackage]\n",
        "\n",
        "    class hasWBS(ObjectProperty): # Links WorkPackage to its WBS_Elements\n",
        "        domain = [WorkPackage]\n",
        "        range = [WBS_Element]\n",
        "\n",
        "    class hasTask(ObjectProperty): # Links WBS_Element to Tasks\n",
        "        domain = [WBS_Element]\n",
        "        range = [Task]\n",
        "\n",
        "    class hasSubTask(ObjectProperty): # For task decomposition\n",
        "        domain = [Task]\n",
        "        range = [Task]\n",
        "        # Consider making it transitive if appropriate, and ensure acyclicity via other means if needed\n",
        "\n",
        "    class hasTaskTime(ObjectProperty, FunctionalProperty): # A Task has one TaskTime entity\n",
        "        domain = [Task]\n",
        "        range = [TaskTime]\n",
        "\n",
        "    class hasPredecessorDependency(ObjectProperty): # Task links to a Dependency object\n",
        "        domain = [Task]\n",
        "        range = [TaskDependency]\n",
        "        inverse_property_name = \"linksToSuccessorTask\" # Conceptual inverse name\n",
        "\n",
        "    class hasSuccessorDependency(ObjectProperty): # Task links to a Dependency object\n",
        "        domain = [Task]\n",
        "        range = [TaskDependency]\n",
        "        inverse_property_name = \"linksToPredecessorTask\" # Conceptual inverse name\n",
        "\n",
        "    # Defining the actual linking properties for TaskDependency\n",
        "    class linksToPredecessorTask(ObjectProperty, FunctionalProperty):\n",
        "        domain = [TaskDependency]\n",
        "        range = [Task]\n",
        "        # inverse_property = hasSuccessorDependency # This creates a direct inverse\n",
        "\n",
        "    class linksToSuccessorTask(ObjectProperty, FunctionalProperty):\n",
        "        domain = [TaskDependency]\n",
        "        range = [Task]\n",
        "        # inverse_property = hasPredecessorDependency # This creates a direct inverse\n",
        "\n",
        "    class hasConstraint(ObjectProperty):\n",
        "        domain = [Task]\n",
        "        range = [iprok.Constraint]\n",
        "\n",
        "    class assignedTo(ObjectProperty): # From WorkPackage to Actor\n",
        "        domain = [WorkPackage, Task] # Task can also be assigned\n",
        "        range = [iprok.Actor]\n"
      ],
      "metadata": {
        "colab": {
          "base_uri": "https://localhost:8080/"
        },
        "id": "uYyxT5Fn9Vnm",
        "outputId": "0cdd5c9e-10d9-4408-9072-24e5d0f272ae"
      },
      "execution_count": 20,
      "outputs": [
        {
          "output_type": "stream",
          "name": "stdout",
          "text": [
            "Defining Schedule Management Module...\n"
          ]
        },
        {
          "output_type": "stream",
          "name": "stderr",
          "text": [
            "* Owlready2 * ADD TRIPLE https://w3id.org/IproK/schedule#Project http://www.w3.org/1999/02/22-rdf-syntax-ns#type http://www.w3.org/2002/07/owl#Class\n",
            "* Owlready2 * ADD TRIPLE https://w3id.org/IproK/schedule#Project http://www.w3.org/2000/01/rdf-schema#subClassOf https://w3id.org/IproK#IproKThing\n",
            "* Owlready2 * ADD TRIPLE https://w3id.org/IproK/schedule#WBS_Element http://www.w3.org/1999/02/22-rdf-syntax-ns#type http://www.w3.org/2002/07/owl#Class\n",
            "* Owlready2 * ADD TRIPLE https://w3id.org/IproK/schedule#WBS_Element http://www.w3.org/2000/01/rdf-schema#subClassOf https://w3id.org/IproK/schedule#Project\n",
            "* Owlready2 * ADD TRIPLE https://w3id.org/IproK/schedule#WorkPackage http://www.w3.org/1999/02/22-rdf-syntax-ns#type http://www.w3.org/2002/07/owl#Class\n",
            "* Owlready2 * ADD TRIPLE https://w3id.org/IproK/schedule#WorkPackage http://www.w3.org/2000/01/rdf-schema#subClassOf https://w3id.org/IproK/schedule#WBS_Element\n",
            "* Owlready2 * ADD TRIPLE https://w3id.org/IproK/schedule#Task http://www.w3.org/1999/02/22-rdf-syntax-ns#type http://www.w3.org/2002/07/owl#Class\n",
            "* Owlready2 * ADD TRIPLE https://w3id.org/IproK/schedule#Task http://www.w3.org/2000/01/rdf-schema#subClassOf https://w3id.org/IproK/schedule#WBS_Element\n",
            "* Owlready2 * ADD TRIPLE https://w3id.org/IproK/schedule#TaskTime http://www.w3.org/1999/02/22-rdf-syntax-ns#type http://www.w3.org/2002/07/owl#Class\n",
            "* Owlready2 * ADD TRIPLE https://w3id.org/IproK/schedule#TaskTime http://www.w3.org/2000/01/rdf-schema#subClassOf https://w3id.org/IproK#IproKThing\n",
            "* Owlready2 * ADD TRIPLE https://w3id.org/IproK/schedule#TaskDependency http://www.w3.org/1999/02/22-rdf-syntax-ns#type http://www.w3.org/2002/07/owl#Class\n",
            "* Owlready2 * ADD TRIPLE https://w3id.org/IproK/schedule#TaskDependency http://www.w3.org/2000/01/rdf-schema#subClassOf https://w3id.org/IproK#IproKThing\n",
            "* Owlready2 * ADD TRIPLE https://w3id.org/IproK/schedule#Milestone http://www.w3.org/1999/02/22-rdf-syntax-ns#type http://www.w3.org/2002/07/owl#Class\n",
            "* Owlready2 * ADD TRIPLE https://w3id.org/IproK/schedule#Milestone http://www.w3.org/2000/01/rdf-schema#subClassOf https://w3id.org/IproK/schedule#Task\n",
            "* Owlready2 * ADD TRIPLE https://w3id.org/IproK#hasId http://www.w3.org/2000/01/rdf-schema#domain https://w3id.org/IproK/schedule#Task\n",
            "* Owlready2 * ADD TRIPLE https://w3id.org/IproK#hasName http://www.w3.org/2000/01/rdf-schema#domain https://w3id.org/IproK/schedule#Task\n",
            "* Owlready2 * ADD TRIPLE https://w3id.org/IproK#hasGlobalId http://www.w3.org/2000/01/rdf-schema#domain https://w3id.org/IproK/schedule#Task\n",
            "* Owlready2 * ADD TRIPLE https://w3id.org/IproK#hasDescription http://www.w3.org/2000/01/rdf-schema#domain https://w3id.org/IproK/schedule#Task\n",
            "* Owlready2 * ADD TRIPLE https://w3id.org/IproK/schedule#projectCategory http://www.w3.org/1999/02/22-rdf-syntax-ns#type http://www.w3.org/2002/07/owl#DatatypeProperty\n",
            "* Owlready2 * ADD TRIPLE https://w3id.org/IproK/schedule#projectCategory http://www.w3.org/2000/01/rdf-schema#domain https://w3id.org/IproK/schedule#Project\n",
            "* Owlready2 * ADD TRIPLE https://w3id.org/IproK/schedule#projectCategory http://www.w3.org/2000/01/rdf-schema#range http://www.w3.org/2001/XMLSchema#string\n",
            "* Owlready2 * ADD TRIPLE https://w3id.org/IproK/schedule#projectOwner http://www.w3.org/1999/02/22-rdf-syntax-ns#type http://www.w3.org/2002/07/owl#DatatypeProperty\n",
            "* Owlready2 * ADD TRIPLE https://w3id.org/IproK/schedule#projectOwner http://www.w3.org/2000/01/rdf-schema#domain https://w3id.org/IproK/schedule#Project\n",
            "* Owlready2 * ADD TRIPLE https://w3id.org/IproK/schedule#projectOwner http://www.w3.org/2000/01/rdf-schema#range http://www.w3.org/2001/XMLSchema#string\n",
            "* Owlready2 * ADD TRIPLE https://w3id.org/IproK/schedule#projectAddress http://www.w3.org/1999/02/22-rdf-syntax-ns#type http://www.w3.org/2002/07/owl#DatatypeProperty\n",
            "* Owlready2 * ADD TRIPLE https://w3id.org/IproK/schedule#projectAddress http://www.w3.org/2000/01/rdf-schema#domain https://w3id.org/IproK/schedule#Project\n",
            "* Owlready2 * ADD TRIPLE https://w3id.org/IproK/schedule#projectAddress http://www.w3.org/2000/01/rdf-schema#range http://www.w3.org/2001/XMLSchema#string\n",
            "* Owlready2 * ADD TRIPLE https://w3id.org/IproK/schedule#isCriticalTask http://www.w3.org/1999/02/22-rdf-syntax-ns#type http://www.w3.org/2002/07/owl#DatatypeProperty\n",
            "* Owlready2 * ADD TRIPLE https://w3id.org/IproK/schedule#isCriticalTask http://www.w3.org/1999/02/22-rdf-syntax-ns#type http://www.w3.org/2002/07/owl#FunctionalProperty\n",
            "* Owlready2 * ADD TRIPLE https://w3id.org/IproK/schedule#isCriticalTask http://www.w3.org/2000/01/rdf-schema#domain https://w3id.org/IproK/schedule#Task\n",
            "* Owlready2 * ADD TRIPLE https://w3id.org/IproK/schedule#isCriticalTask http://www.w3.org/2000/01/rdf-schema#range http://www.w3.org/2001/XMLSchema#boolean\n",
            "* Owlready2 * ADD TRIPLE https://w3id.org/IproK/schedule#isMilestone http://www.w3.org/1999/02/22-rdf-syntax-ns#type http://www.w3.org/2002/07/owl#DatatypeProperty\n",
            "* Owlready2 * ADD TRIPLE https://w3id.org/IproK/schedule#isMilestone http://www.w3.org/1999/02/22-rdf-syntax-ns#type http://www.w3.org/2002/07/owl#FunctionalProperty\n",
            "* Owlready2 * ADD TRIPLE https://w3id.org/IproK/schedule#isMilestone http://www.w3.org/2000/01/rdf-schema#domain https://w3id.org/IproK/schedule#Task\n",
            "* Owlready2 * ADD TRIPLE https://w3id.org/IproK/schedule#isMilestone http://www.w3.org/2000/01/rdf-schema#range http://www.w3.org/2001/XMLSchema#boolean\n",
            "* Owlready2 * ADD TRIPLE https://w3id.org/IproK/schedule#taskPriority http://www.w3.org/1999/02/22-rdf-syntax-ns#type http://www.w3.org/2002/07/owl#DatatypeProperty\n",
            "* Owlready2 * ADD TRIPLE https://w3id.org/IproK/schedule#taskPriority http://www.w3.org/1999/02/22-rdf-syntax-ns#type http://www.w3.org/2002/07/owl#FunctionalProperty\n",
            "* Owlready2 * ADD TRIPLE https://w3id.org/IproK/schedule#taskPriority http://www.w3.org/2000/01/rdf-schema#domain https://w3id.org/IproK/schedule#Task\n",
            "* Owlready2 * ADD TRIPLE https://w3id.org/IproK/schedule#taskPriority http://www.w3.org/2000/01/rdf-schema#range http://www.w3.org/2001/XMLSchema#integer\n",
            "* Owlready2 * ADD TRIPLE https://w3id.org/IproK/schedule#plannedStartDate http://www.w3.org/1999/02/22-rdf-syntax-ns#type http://www.w3.org/2002/07/owl#DatatypeProperty\n",
            "* Owlready2 * ADD TRIPLE https://w3id.org/IproK/schedule#plannedStartDate http://www.w3.org/1999/02/22-rdf-syntax-ns#type http://www.w3.org/2002/07/owl#FunctionalProperty\n",
            "* Owlready2 * ADD TRIPLE https://w3id.org/IproK/schedule#plannedStartDate http://www.w3.org/2000/01/rdf-schema#domain https://w3id.org/IproK/schedule#TaskTime\n",
            "* Owlready2 * ADD TRIPLE https://w3id.org/IproK/schedule#plannedStartDate http://www.w3.org/2000/01/rdf-schema#range http://www.w3.org/2001/XMLSchema#dateTime\n",
            "* Owlready2 * ADD TRIPLE https://w3id.org/IproK/schedule#plannedFinishDate http://www.w3.org/1999/02/22-rdf-syntax-ns#type http://www.w3.org/2002/07/owl#DatatypeProperty\n",
            "* Owlready2 * ADD TRIPLE https://w3id.org/IproK/schedule#plannedFinishDate http://www.w3.org/1999/02/22-rdf-syntax-ns#type http://www.w3.org/2002/07/owl#FunctionalProperty\n",
            "* Owlready2 * ADD TRIPLE https://w3id.org/IproK/schedule#plannedFinishDate http://www.w3.org/2000/01/rdf-schema#domain https://w3id.org/IproK/schedule#TaskTime\n",
            "* Owlready2 * ADD TRIPLE https://w3id.org/IproK/schedule#plannedFinishDate http://www.w3.org/2000/01/rdf-schema#range http://www.w3.org/2001/XMLSchema#dateTime\n",
            "* Owlready2 * ADD TRIPLE https://w3id.org/IproK/schedule#actualStartDate http://www.w3.org/1999/02/22-rdf-syntax-ns#type http://www.w3.org/2002/07/owl#DatatypeProperty\n",
            "* Owlready2 * ADD TRIPLE https://w3id.org/IproK/schedule#actualStartDate http://www.w3.org/1999/02/22-rdf-syntax-ns#type http://www.w3.org/2002/07/owl#FunctionalProperty\n",
            "* Owlready2 * ADD TRIPLE https://w3id.org/IproK/schedule#actualStartDate http://www.w3.org/2000/01/rdf-schema#domain https://w3id.org/IproK/schedule#TaskTime\n",
            "* Owlready2 * ADD TRIPLE https://w3id.org/IproK/schedule#actualStartDate http://www.w3.org/2000/01/rdf-schema#range http://www.w3.org/2001/XMLSchema#dateTime\n",
            "* Owlready2 * ADD TRIPLE https://w3id.org/IproK/schedule#actualFinishDate http://www.w3.org/1999/02/22-rdf-syntax-ns#type http://www.w3.org/2002/07/owl#DatatypeProperty\n",
            "* Owlready2 * ADD TRIPLE https://w3id.org/IproK/schedule#actualFinishDate http://www.w3.org/1999/02/22-rdf-syntax-ns#type http://www.w3.org/2002/07/owl#FunctionalProperty\n",
            "* Owlready2 * ADD TRIPLE https://w3id.org/IproK/schedule#actualFinishDate http://www.w3.org/2000/01/rdf-schema#domain https://w3id.org/IproK/schedule#TaskTime\n",
            "* Owlready2 * ADD TRIPLE https://w3id.org/IproK/schedule#actualFinishDate http://www.w3.org/2000/01/rdf-schema#range http://www.w3.org/2001/XMLSchema#dateTime\n",
            "* Owlready2 * ADD TRIPLE https://w3id.org/IproK/schedule#scheduleDuration http://www.w3.org/1999/02/22-rdf-syntax-ns#type http://www.w3.org/2002/07/owl#DatatypeProperty\n",
            "* Owlready2 * ADD TRIPLE https://w3id.org/IproK/schedule#scheduleDuration http://www.w3.org/1999/02/22-rdf-syntax-ns#type http://www.w3.org/2002/07/owl#FunctionalProperty\n",
            "* Owlready2 * ADD TRIPLE https://w3id.org/IproK/schedule#scheduleDuration http://www.w3.org/2000/01/rdf-schema#domain https://w3id.org/IproK/schedule#TaskTime\n",
            "* Owlready2 * ADD TRIPLE https://w3id.org/IproK/schedule#scheduleDuration http://www.w3.org/2000/01/rdf-schema#range http://www.w3.org/2001/XMLSchema#duration\n",
            "* Owlready2 * ADD TRIPLE https://w3id.org/IproK/schedule#actualDuration http://www.w3.org/1999/02/22-rdf-syntax-ns#type http://www.w3.org/2002/07/owl#DatatypeProperty\n",
            "* Owlready2 * ADD TRIPLE https://w3id.org/IproK/schedule#actualDuration http://www.w3.org/1999/02/22-rdf-syntax-ns#type http://www.w3.org/2002/07/owl#FunctionalProperty\n",
            "* Owlready2 * ADD TRIPLE https://w3id.org/IproK/schedule#actualDuration http://www.w3.org/2000/01/rdf-schema#domain https://w3id.org/IproK/schedule#TaskTime\n",
            "* Owlready2 * ADD TRIPLE https://w3id.org/IproK/schedule#actualDuration http://www.w3.org/2000/01/rdf-schema#range http://www.w3.org/2001/XMLSchema#duration\n",
            "* Owlready2 * ADD TRIPLE https://w3id.org/IproK/schedule#remainingDuration http://www.w3.org/1999/02/22-rdf-syntax-ns#type http://www.w3.org/2002/07/owl#DatatypeProperty\n",
            "* Owlready2 * ADD TRIPLE https://w3id.org/IproK/schedule#remainingDuration http://www.w3.org/1999/02/22-rdf-syntax-ns#type http://www.w3.org/2002/07/owl#FunctionalProperty\n",
            "* Owlready2 * ADD TRIPLE https://w3id.org/IproK/schedule#remainingDuration http://www.w3.org/2000/01/rdf-schema#domain https://w3id.org/IproK/schedule#TaskTime\n",
            "* Owlready2 * ADD TRIPLE https://w3id.org/IproK/schedule#remainingDuration http://www.w3.org/2000/01/rdf-schema#range http://www.w3.org/2001/XMLSchema#duration\n",
            "* Owlready2 * ADD TRIPLE https://w3id.org/IproK/schedule#atCompleteDuration http://www.w3.org/1999/02/22-rdf-syntax-ns#type http://www.w3.org/2002/07/owl#DatatypeProperty\n",
            "* Owlready2 * ADD TRIPLE https://w3id.org/IproK/schedule#atCompleteDuration http://www.w3.org/1999/02/22-rdf-syntax-ns#type http://www.w3.org/2002/07/owl#FunctionalProperty\n",
            "* Owlready2 * ADD TRIPLE https://w3id.org/IproK/schedule#atCompleteDuration http://www.w3.org/2000/01/rdf-schema#domain https://w3id.org/IproK/schedule#TaskTime\n",
            "* Owlready2 * ADD TRIPLE https://w3id.org/IproK/schedule#atCompleteDuration http://www.w3.org/2000/01/rdf-schema#range http://www.w3.org/2001/XMLSchema#duration\n",
            "* Owlready2 * ADD TRIPLE https://w3id.org/IproK/schedule#taskRelationshipType http://www.w3.org/1999/02/22-rdf-syntax-ns#type http://www.w3.org/2002/07/owl#DatatypeProperty\n",
            "* Owlready2 * ADD TRIPLE https://w3id.org/IproK/schedule#taskRelationshipType http://www.w3.org/1999/02/22-rdf-syntax-ns#type http://www.w3.org/2002/07/owl#FunctionalProperty\n",
            "* Owlready2 * ADD TRIPLE https://w3id.org/IproK/schedule#taskRelationshipType http://www.w3.org/2000/01/rdf-schema#domain https://w3id.org/IproK/schedule#TaskDependency\n",
            "* Owlready2 * ADD TRIPLE https://w3id.org/IproK/schedule#taskRelationshipType http://www.w3.org/2000/01/rdf-schema#range http://www.w3.org/2001/XMLSchema#string\n",
            "* Owlready2 * ADD TRIPLE https://w3id.org/IproK/schedule#lagTime http://www.w3.org/1999/02/22-rdf-syntax-ns#type http://www.w3.org/2002/07/owl#DatatypeProperty\n",
            "* Owlready2 * ADD TRIPLE https://w3id.org/IproK/schedule#lagTime http://www.w3.org/1999/02/22-rdf-syntax-ns#type http://www.w3.org/2002/07/owl#FunctionalProperty\n",
            "* Owlready2 * ADD TRIPLE https://w3id.org/IproK/schedule#lagTime http://www.w3.org/2000/01/rdf-schema#domain https://w3id.org/IproK/schedule#TaskDependency\n",
            "* Owlready2 * ADD TRIPLE https://w3id.org/IproK/schedule#lagTime http://www.w3.org/2000/01/rdf-schema#range http://www.w3.org/2001/XMLSchema#duration\n",
            "* Owlready2 * ADD TRIPLE https://w3id.org/IproK/schedule#constraintType http://www.w3.org/1999/02/22-rdf-syntax-ns#type http://www.w3.org/2002/07/owl#DatatypeProperty\n",
            "* Owlready2 * ADD TRIPLE https://w3id.org/IproK/schedule#constraintType http://www.w3.org/1999/02/22-rdf-syntax-ns#type http://www.w3.org/2002/07/owl#FunctionalProperty\n",
            "* Owlready2 * ADD TRIPLE https://w3id.org/IproK/schedule#constraintType http://www.w3.org/2000/01/rdf-schema#domain https://w3id.org/IproK#Constraint\n",
            "* Owlready2 * ADD TRIPLE https://w3id.org/IproK/schedule#constraintType http://www.w3.org/2000/01/rdf-schema#range http://www.w3.org/2001/XMLSchema#string\n",
            "* Owlready2 * ADD TRIPLE https://w3id.org/IproK/schedule#constraintDate http://www.w3.org/1999/02/22-rdf-syntax-ns#type http://www.w3.org/2002/07/owl#DatatypeProperty\n",
            "* Owlready2 * ADD TRIPLE https://w3id.org/IproK/schedule#constraintDate http://www.w3.org/1999/02/22-rdf-syntax-ns#type http://www.w3.org/2002/07/owl#FunctionalProperty\n",
            "* Owlready2 * ADD TRIPLE https://w3id.org/IproK/schedule#constraintDate http://www.w3.org/2000/01/rdf-schema#domain https://w3id.org/IproK#Constraint\n",
            "* Owlready2 * ADD TRIPLE https://w3id.org/IproK/schedule#constraintDate http://www.w3.org/2000/01/rdf-schema#range http://www.w3.org/2001/XMLSchema#dateTime\n",
            "* Owlready2 * ADD TRIPLE https://w3id.org/IproK/schedule#hasWorkPackage http://www.w3.org/1999/02/22-rdf-syntax-ns#type http://www.w3.org/2002/07/owl#ObjectProperty\n",
            "* Owlready2 * ADD TRIPLE https://w3id.org/IproK/schedule#hasWorkPackage http://www.w3.org/2000/01/rdf-schema#domain https://w3id.org/IproK/schedule#Project\n",
            "* Owlready2 * ADD TRIPLE https://w3id.org/IproK/schedule#hasWorkPackage http://www.w3.org/2000/01/rdf-schema#range https://w3id.org/IproK/schedule#WorkPackage\n",
            "* Owlready2 * ADD TRIPLE https://w3id.org/IproK/schedule#hasWBS http://www.w3.org/1999/02/22-rdf-syntax-ns#type http://www.w3.org/2002/07/owl#ObjectProperty\n",
            "* Owlready2 * ADD TRIPLE https://w3id.org/IproK/schedule#hasWBS http://www.w3.org/2000/01/rdf-schema#domain https://w3id.org/IproK/schedule#WorkPackage\n",
            "* Owlready2 * ADD TRIPLE https://w3id.org/IproK/schedule#hasWBS http://www.w3.org/2000/01/rdf-schema#range https://w3id.org/IproK/schedule#WBS_Element\n",
            "* Owlready2 * ADD TRIPLE https://w3id.org/IproK/schedule#hasTask http://www.w3.org/1999/02/22-rdf-syntax-ns#type http://www.w3.org/2002/07/owl#ObjectProperty\n",
            "* Owlready2 * ADD TRIPLE https://w3id.org/IproK/schedule#hasTask http://www.w3.org/2000/01/rdf-schema#domain https://w3id.org/IproK/schedule#WBS_Element\n",
            "* Owlready2 * ADD TRIPLE https://w3id.org/IproK/schedule#hasTask http://www.w3.org/2000/01/rdf-schema#range https://w3id.org/IproK/schedule#Task\n",
            "* Owlready2 * ADD TRIPLE https://w3id.org/IproK/schedule#hasSubTask http://www.w3.org/1999/02/22-rdf-syntax-ns#type http://www.w3.org/2002/07/owl#ObjectProperty\n",
            "* Owlready2 * ADD TRIPLE https://w3id.org/IproK/schedule#hasSubTask http://www.w3.org/2000/01/rdf-schema#domain https://w3id.org/IproK/schedule#Task\n",
            "* Owlready2 * ADD TRIPLE https://w3id.org/IproK/schedule#hasSubTask http://www.w3.org/2000/01/rdf-schema#range https://w3id.org/IproK/schedule#Task\n",
            "* Owlready2 * ADD TRIPLE https://w3id.org/IproK/schedule#hasTaskTime http://www.w3.org/1999/02/22-rdf-syntax-ns#type http://www.w3.org/2002/07/owl#ObjectProperty\n",
            "* Owlready2 * ADD TRIPLE https://w3id.org/IproK/schedule#hasTaskTime http://www.w3.org/1999/02/22-rdf-syntax-ns#type http://www.w3.org/2002/07/owl#FunctionalProperty\n",
            "* Owlready2 * ADD TRIPLE https://w3id.org/IproK/schedule#hasTaskTime http://www.w3.org/2000/01/rdf-schema#domain https://w3id.org/IproK/schedule#Task\n",
            "* Owlready2 * ADD TRIPLE https://w3id.org/IproK/schedule#hasTaskTime http://www.w3.org/2000/01/rdf-schema#range https://w3id.org/IproK/schedule#TaskTime\n",
            "* Owlready2 * ADD TRIPLE https://w3id.org/IproK/schedule#hasPredecessorDependency http://www.w3.org/1999/02/22-rdf-syntax-ns#type http://www.w3.org/2002/07/owl#ObjectProperty\n",
            "* Owlready2 * ADD TRIPLE https://w3id.org/IproK/schedule#hasPredecessorDependency http://www.w3.org/2000/01/rdf-schema#domain https://w3id.org/IproK/schedule#Task\n",
            "* Owlready2 * ADD TRIPLE https://w3id.org/IproK/schedule#hasPredecessorDependency http://www.w3.org/2000/01/rdf-schema#range https://w3id.org/IproK/schedule#TaskDependency\n",
            "* Owlready2 * ADD TRIPLE https://w3id.org/IproK/schedule#hasSuccessorDependency http://www.w3.org/1999/02/22-rdf-syntax-ns#type http://www.w3.org/2002/07/owl#ObjectProperty\n",
            "* Owlready2 * ADD TRIPLE https://w3id.org/IproK/schedule#hasSuccessorDependency http://www.w3.org/2000/01/rdf-schema#domain https://w3id.org/IproK/schedule#Task\n",
            "* Owlready2 * ADD TRIPLE https://w3id.org/IproK/schedule#hasSuccessorDependency http://www.w3.org/2000/01/rdf-schema#range https://w3id.org/IproK/schedule#TaskDependency\n",
            "* Owlready2 * ADD TRIPLE https://w3id.org/IproK/schedule#linksToPredecessorTask http://www.w3.org/1999/02/22-rdf-syntax-ns#type http://www.w3.org/2002/07/owl#ObjectProperty\n",
            "* Owlready2 * ADD TRIPLE https://w3id.org/IproK/schedule#linksToPredecessorTask http://www.w3.org/1999/02/22-rdf-syntax-ns#type http://www.w3.org/2002/07/owl#FunctionalProperty\n",
            "* Owlready2 * ADD TRIPLE https://w3id.org/IproK/schedule#linksToPredecessorTask http://www.w3.org/2000/01/rdf-schema#domain https://w3id.org/IproK/schedule#TaskDependency\n",
            "* Owlready2 * ADD TRIPLE https://w3id.org/IproK/schedule#linksToPredecessorTask http://www.w3.org/2000/01/rdf-schema#range https://w3id.org/IproK/schedule#Task\n",
            "* Owlready2 * ADD TRIPLE https://w3id.org/IproK/schedule#linksToSuccessorTask http://www.w3.org/1999/02/22-rdf-syntax-ns#type http://www.w3.org/2002/07/owl#ObjectProperty\n",
            "* Owlready2 * ADD TRIPLE https://w3id.org/IproK/schedule#linksToSuccessorTask http://www.w3.org/1999/02/22-rdf-syntax-ns#type http://www.w3.org/2002/07/owl#FunctionalProperty\n",
            "* Owlready2 * ADD TRIPLE https://w3id.org/IproK/schedule#linksToSuccessorTask http://www.w3.org/2000/01/rdf-schema#domain https://w3id.org/IproK/schedule#TaskDependency\n",
            "* Owlready2 * ADD TRIPLE https://w3id.org/IproK/schedule#linksToSuccessorTask http://www.w3.org/2000/01/rdf-schema#range https://w3id.org/IproK/schedule#Task\n",
            "* Owlready2 * ADD TRIPLE https://w3id.org/IproK/schedule#hasConstraint http://www.w3.org/1999/02/22-rdf-syntax-ns#type http://www.w3.org/2002/07/owl#ObjectProperty\n",
            "* Owlready2 * ADD TRIPLE https://w3id.org/IproK/schedule#hasConstraint http://www.w3.org/2000/01/rdf-schema#domain https://w3id.org/IproK/schedule#Task\n",
            "* Owlready2 * ADD TRIPLE https://w3id.org/IproK/schedule#hasConstraint http://www.w3.org/2000/01/rdf-schema#range https://w3id.org/IproK#Constraint\n",
            "* Owlready2 * ADD TRIPLE https://w3id.org/IproK/schedule#assignedTo http://www.w3.org/1999/02/22-rdf-syntax-ns#type http://www.w3.org/2002/07/owl#ObjectProperty\n",
            "* Owlready2 * ADD TRIPLE https://w3id.org/IproK/schedule#assignedTo http://www.w3.org/2000/01/rdf-schema#domain https://w3id.org/IproK/schedule#Task\n",
            "* Owlready2 * ADD TRIPLE https://w3id.org/IproK/schedule#assignedTo http://www.w3.org/2000/01/rdf-schema#domain https://w3id.org/IproK/schedule#WorkPackage\n",
            "* Owlready2 * ADD TRIPLE https://w3id.org/IproK/schedule#assignedTo http://www.w3.org/2000/01/rdf-schema#range https://w3id.org/IproK#Actor\n"
          ]
        }
      ]
    },
    {
      "cell_type": "code",
      "source": [
        "schedule_iprok.save(file=\"iprok_schedule.owl\", format=\"rdfxml\")"
      ],
      "metadata": {
        "id": "wFMJbZtGA9FC",
        "outputId": "9f5086d7-5103-4abb-9efb-ddfd8bb4890b",
        "colab": {
          "base_uri": "https://localhost:8080/"
        }
      },
      "execution_count": 21,
      "outputs": [
        {
          "output_type": "stream",
          "name": "stderr",
          "text": [
            "* Owlready2 * Saving ontology schedule to iprok_schedule.owl...\n"
          ]
        }
      ]
    },
    {
      "cell_type": "code",
      "source": [
        "!pip install rdflib\n"
      ],
      "metadata": {
        "id": "Ac903T7tBKHK",
        "outputId": "bc0ef81d-5272-4dc1-e003-706b102c9868",
        "colab": {
          "base_uri": "https://localhost:8080/"
        }
      },
      "execution_count": 22,
      "outputs": [
        {
          "output_type": "stream",
          "name": "stdout",
          "text": [
            "Requirement already satisfied: rdflib in /usr/local/lib/python3.11/dist-packages (7.1.4)\n",
            "Requirement already satisfied: pyparsing<4,>=2.1.0 in /usr/local/lib/python3.11/dist-packages (from rdflib) (3.2.3)\n"
          ]
        }
      ]
    },
    {
      "cell_type": "code",
      "source": [
        "from rdflib import Graph\n",
        "\n",
        "g= Graph()\n",
        "g.parse(\"iprok_schedule.owl\", format=\"xml\")\n",
        "g.serialize(destination=\"iprok_schedule.ttl\", format=\"ttl\")"
      ],
      "metadata": {
        "id": "ampxkQV2BSnk",
        "outputId": "2cab6b6e-6937-40f5-cf9e-be4424d837d0",
        "colab": {
          "base_uri": "https://localhost:8080/"
        }
      },
      "execution_count": 23,
      "outputs": [
        {
          "output_type": "execute_result",
          "data": {
            "text/plain": [
              "<Graph identifier=N3d3a5ba7afbf4957a9dd5e7b63e7f7f9 (<class 'rdflib.graph.Graph'>)>"
            ]
          },
          "metadata": {},
          "execution_count": 23
        }
      ]
    },
    {
      "cell_type": "code",
      "source": [
        "iprok.destroy()\n",
        "schedule_iprok.destroy()"
      ],
      "metadata": {
        "id": "S6eo0wpzCI6g"
      },
      "execution_count": 24,
      "outputs": []
    }
  ]
}