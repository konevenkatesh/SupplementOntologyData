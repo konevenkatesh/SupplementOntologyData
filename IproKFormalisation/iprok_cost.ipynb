{
  "nbformat": 4,
  "nbformat_minor": 0,
  "metadata": {
    "colab": {
      "provenance": [],
      "gpuType": "T4",
      "authorship_tag": "ABX9TyOXZIiVySo7kxzpHqIImR68",
      "include_colab_link": true
    },
    "kernelspec": {
      "name": "python3",
      "display_name": "Python 3"
    },
    "language_info": {
      "name": "python"
    },
    "accelerator": "GPU"
  },
  "cells": [
    {
      "cell_type": "markdown",
      "metadata": {
        "id": "view-in-github",
        "colab_type": "text"
      },
      "source": [
        "<a href=\"https://colab.research.google.com/github/konevenkatesh/Ontology_PM/blob/main/iprok_cost.ipynb\" target=\"_parent\"><img src=\"https://colab.research.google.com/assets/colab-badge.svg\" alt=\"Open In Colab\"/></a>"
      ]
    },
    {
      "cell_type": "code",
      "execution_count": 2,
      "metadata": {
        "colab": {
          "base_uri": "https://localhost:8080/"
        },
        "id": "p65l4G_KQPZM",
        "outputId": "a9dc0110-dda3-42a3-9bdd-5b27b71c561e"
      },
      "outputs": [
        {
          "output_type": "stream",
          "name": "stdout",
          "text": [
            "Collecting owlready2\n",
            "  Downloading owlready2-0.47.tar.gz (27.3 MB)\n",
            "\u001b[2K     \u001b[90m━━━━━━━━━━━━━━━━━━━━━━━━━━━━━━━━━━━━━━━━\u001b[0m \u001b[32m27.3/27.3 MB\u001b[0m \u001b[31m79.7 MB/s\u001b[0m eta \u001b[36m0:00:00\u001b[0m\n",
            "\u001b[?25h  Installing build dependencies ... \u001b[?25l\u001b[?25hdone\n",
            "  Getting requirements to build wheel ... \u001b[?25l\u001b[?25hdone\n",
            "  Preparing metadata (pyproject.toml) ... \u001b[?25l\u001b[?25hdone\n",
            "Building wheels for collected packages: owlready2\n",
            "  Building wheel for owlready2 (pyproject.toml) ... \u001b[?25l\u001b[?25hdone\n",
            "  Created wheel for owlready2: filename=owlready2-0.47-cp311-cp311-linux_x86_64.whl size=24521244 sha256=cf6b761aa56c8276323502a40e3c059b37b6058ff7494638bf41e25014130b51\n",
            "  Stored in directory: /root/.cache/pip/wheels/25/9a/a3/fb1ac6339caa859c8bb18d685736168b0b51d851af13d81d52\n",
            "Successfully built owlready2\n",
            "Installing collected packages: owlready2\n",
            "Successfully installed owlready2-0.47\n",
            "Collecting rdflib\n",
            "  Downloading rdflib-7.1.4-py3-none-any.whl.metadata (11 kB)\n",
            "Requirement already satisfied: pyparsing<4,>=2.1.0 in /usr/local/lib/python3.11/dist-packages (from rdflib) (3.2.3)\n",
            "Downloading rdflib-7.1.4-py3-none-any.whl (565 kB)\n",
            "\u001b[2K   \u001b[90m━━━━━━━━━━━━━━━━━━━━━━━━━━━━━━━━━━━━━━━━\u001b[0m \u001b[32m565.1/565.1 kB\u001b[0m \u001b[31m28.6 MB/s\u001b[0m eta \u001b[36m0:00:00\u001b[0m\n",
            "\u001b[?25hInstalling collected packages: rdflib\n",
            "Successfully installed rdflib-7.1.4\n"
          ]
        }
      ],
      "source": [
        "!pip install owlready2\n",
        "!pip install rdflib"
      ]
    },
    {
      "cell_type": "code",
      "source": [
        "# Import necessary libraries\n",
        "from owlready2 import *\n",
        "from datetime import date, datetime, timedelta\n",
        "from rdflib import Graph"
      ],
      "metadata": {
        "id": "n3omY7skQgzh"
      },
      "execution_count": 3,
      "outputs": []
    },
    {
      "cell_type": "code",
      "source": [
        "# Define the IproK Ontology IRI and get/create the ontology\n",
        "iprok_cost_ontology_iri = \"https://w3id.org/IproK/cost#\"\n",
        "iprok_cost = get_ontology(iprok_cost_ontology_iri)"
      ],
      "metadata": {
        "id": "2-n87FWxQhgh"
      },
      "execution_count": 4,
      "outputs": []
    },
    {
      "cell_type": "code",
      "source": [
        "    # =======================================================================\n",
        "    # Cost Management Module (Conceptualization based on Module.docx Fig 5)\n",
        "    # =======================================================================\n",
        "print(\"Defining Cost Management Module...\")\n",
        "\n",
        "\n",
        "  # Define a base class for all IproK specific entities\n",
        "with iprok_cost:\n",
        "  class IproKThing(Thing):\n",
        "        namespace = iprok_cost\n",
        "\n",
        "  class Constraint(IproKThing):\n",
        "        \"\"\"Represents specific date or condition constraints applied to tasks.\"\"\"\n",
        "        pass\n",
        "    # Core Classes\n",
        "  class CostItem(IproKThing):\n",
        "        \"\"\"A specific item of cost incurred or budgeted within the project.\"\"\"\n",
        "        pass\n",
        "\n",
        "  class CostType(IproKThing):\n",
        "        \"\"\"The classification of a cost based on its nature.\"\"\"\n",
        "        pass\n",
        "\n",
        "  class LaborCost(CostType): pass\n",
        "  class EquipmentCost(CostType): pass\n",
        "  class MaterialCost(CostType): pass\n",
        "  class ExpenseItem(CostType): pass # For other direct costs\n",
        "\n",
        "    # Axiom: Cost types are disjoint\n",
        "  AllDisjoint([LaborCost, EquipmentCost, MaterialCost, ExpenseItem])\n",
        "\n",
        "  class CostCategory(IproKThing):\n",
        "        \"\"\"A broader classification for costs (e.g., direct, indirect).\"\"\"\n",
        "        pass\n",
        "\n",
        "\n",
        "  class hasGlobalId(DataProperty, FunctionalProperty):\n",
        "        range = [str]\n",
        "        comment = [\"A globally unique identifier.\"]\n",
        "\n",
        "  class hasId(DataProperty, FunctionalProperty):\n",
        "        range = [str]\n",
        "        comment = [\"A local or project-specific identifier.\"]\n",
        "\n",
        "  class hasName(DataProperty, FunctionalProperty):\n",
        "        range = [str]\n",
        "        comment = [\"The common name of the entity.\"]\n",
        "\n",
        "  class hasDescription(DataProperty):\n",
        "        range = [str]\n",
        "        comment = [\"A textual description of the entity.\"]\n",
        "\n",
        "     # Cost Module - Data Properties\n",
        "    # Reusing hasId, hasName, hasGlobalId, hasDescription\n",
        "\n",
        "  hasId.domain.append(CostItem)\n",
        "  hasName.domain.append(CostItem)\n",
        "    # ... and for CostType, CostCategory\n",
        "\n",
        "  class budgetedCostAmount(DataProperty, FunctionalProperty):\n",
        "        domain = [CostItem]\n",
        "        range = [float]\n",
        "\n",
        "  class actualCostAmount(DataProperty, FunctionalProperty):\n",
        "        domain = [CostItem]\n",
        "        range = [float]\n",
        "\n",
        "  class remainingCostAmount(DataProperty, FunctionalProperty):\n",
        "        domain = [CostItem]\n",
        "        range = [float] # Often calculated\n",
        "\n",
        "  class atCompleteCostAmount(DataProperty, FunctionalProperty):\n",
        "        domain = [CostItem]\n",
        "        range = [float] # EAC\n",
        "\n",
        "  class vendorName(DataProperty):\n",
        "        domain = [CostItem]\n",
        "        range = [str]\n",
        "\n",
        "    # Cost Module - Object Properties\n",
        "  class hasCostType(ObjectProperty, FunctionalProperty):\n",
        "        domain = [CostItem]\n",
        "        range = [CostType]\n",
        "\n",
        "  class hasCostCategory(ObjectProperty, FunctionalProperty):\n",
        "        domain = [CostItem]\n",
        "        range = [CostCategory]\n",
        "\n",
        "    # currency property already defined, domain extended to CostItem"
      ],
      "metadata": {
        "colab": {
          "base_uri": "https://localhost:8080/"
        },
        "id": "9319i-5oU-4b",
        "outputId": "3fe548bc-f15b-4c6a-e0eb-f9e55f89508b"
      },
      "execution_count": 11,
      "outputs": [
        {
          "output_type": "stream",
          "name": "stdout",
          "text": [
            "Defining Cost Management Module...\n"
          ]
        }
      ]
    },
    {
      "cell_type": "code",
      "source": [
        "iprok_cost.save(file=\"iprok_cost.owl\", format=\"rdfxml\")\n",
        "g = Graph()\n",
        "g.parse(\"iprok_cost.owl\", format=\"xml\")\n",
        "g.serialize(destination=\"iprok_cost.ttl\", format=\"turtle\")"
      ],
      "metadata": {
        "colab": {
          "base_uri": "https://localhost:8080/"
        },
        "id": "fN8xO_3PWu1t",
        "outputId": "c83bc2d8-93d1-4ba2-e609-866b1124307c"
      },
      "execution_count": 12,
      "outputs": [
        {
          "output_type": "execute_result",
          "data": {
            "text/plain": [
              "<Graph identifier=N9fc52b71ea9041f4bb63e50200aefe3d (<class 'rdflib.graph.Graph'>)>"
            ]
          },
          "metadata": {},
          "execution_count": 12
        }
      ]
    },
    {
      "cell_type": "code",
      "source": [
        "iprok_cost.destroy()"
      ],
      "metadata": {
        "id": "kJ79UU_KXDC8"
      },
      "execution_count": null,
      "outputs": []
    }
  ]
}