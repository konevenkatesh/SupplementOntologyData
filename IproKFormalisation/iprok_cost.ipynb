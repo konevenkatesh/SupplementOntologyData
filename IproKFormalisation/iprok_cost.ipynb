{
  "nbformat": 4,
  "nbformat_minor": 0,
  "metadata": {
    "colab": {
      "provenance": [],
      "gpuType": "T4",
      "authorship_tag": "ABX9TyPr6A0xrd3QRyqRNTCApvRS",
      "include_colab_link": true
    },
    "kernelspec": {
      "name": "python3",
      "display_name": "Python 3"
    },
    "language_info": {
      "name": "python"
    },
    "accelerator": "GPU"
  },
  "cells": [
    {
      "cell_type": "markdown",
      "metadata": {
        "id": "view-in-github",
        "colab_type": "text"
      },
      "source": [
        "<a href=\"https://colab.research.google.com/github/konevenkatesh/SupplementOntologyData/blob/master/test/iprok_cost.ipynb\" target=\"_parent\"><img src=\"https://colab.research.google.com/assets/colab-badge.svg\" alt=\"Open In Colab\"/></a>"
      ]
    },
    {
      "cell_type": "code",
      "execution_count": 2,
      "metadata": {
        "colab": {
          "base_uri": "https://localhost:8080/"
        },
        "id": "p65l4G_KQPZM",
        "outputId": "ddd23b5e-02f2-43da-ecec-5e33f7431aef"
      },
      "outputs": [
        {
          "output_type": "stream",
          "name": "stdout",
          "text": [
            "Requirement already satisfied: owlready2 in /usr/local/lib/python3.11/dist-packages (0.47)\n",
            "Requirement already satisfied: rdflib in /usr/local/lib/python3.11/dist-packages (7.1.4)\n",
            "Requirement already satisfied: pyparsing<4,>=2.1.0 in /usr/local/lib/python3.11/dist-packages (from rdflib) (3.2.3)\n"
          ]
        }
      ],
      "source": [
        "!pip install owlready2\n",
        "!pip install rdflib"
      ]
    },
    {
      "cell_type": "code",
      "source": [
        "# Import necessary libraries\n",
        "from owlready2 import *\n",
        "from datetime import date, datetime, timedelta\n",
        "from rdflib import Graph"
      ],
      "metadata": {
        "id": "n3omY7skQgzh"
      },
      "execution_count": 25,
      "outputs": []
    },
    {
      "cell_type": "code",
      "source": [
        "set_log_level(9)"
      ],
      "metadata": {
        "id": "lrh-d-GtPweN"
      },
      "execution_count": 26,
      "outputs": []
    },
    {
      "cell_type": "code",
      "source": [
        "# Define the IproK Ontology IRI and get/create the ontology\n",
        "iprok_cost_ontology_iri = \"https://w3id.org/iprok/cost#\"\n",
        "iprok_cost = get_ontology(iprok_cost_ontology_iri)"
      ],
      "metadata": {
        "id": "2-n87FWxQhgh",
        "outputId": "3f1f5729-d7c6-47d3-dbc7-cb25e77dfe52",
        "colab": {
          "base_uri": "https://localhost:8080/"
        }
      },
      "execution_count": 27,
      "outputs": [
        {
          "output_type": "stream",
          "name": "stderr",
          "text": [
            "* Owlready2 * Creating new ontology cost <https://w3id.org/iprok/cost#>.\n",
            "* Owlready2 * ADD TRIPLE https://w3id.org/iprok/cost http://www.w3.org/1999/02/22-rdf-syntax-ns#type http://www.w3.org/2002/07/owl#Ontology\n"
          ]
        }
      ]
    },
    {
      "cell_type": "code",
      "source": [
        "# Improt base IproK ontology\n",
        "iprok = get_ontology(\"iprok.owl\").load()\n",
        "iprok_cost.imported_ontologies.append(iprok)"
      ],
      "metadata": {
        "id": "xklZisPMPzu9",
        "outputId": "0ceaf108-3970-4438-d39b-c0506b57c35c",
        "colab": {
          "base_uri": "https://localhost:8080/"
        }
      },
      "execution_count": 28,
      "outputs": [
        {
          "output_type": "stream",
          "name": "stderr",
          "text": [
            "* Owlready2 * ADD TRIPLE https://w3id.org/iprok/cost http://www.w3.org/2002/07/owl#imports https://w3id.org/iprok\n"
          ]
        }
      ]
    },
    {
      "cell_type": "code",
      "source": [
        "    # =======================================================================\n",
        "    # Cost Management Module (Conceptualization based on Module.docx Fig 5)\n",
        "    # =======================================================================\n",
        "print(\"Defining Cost Management Module...\")\n",
        "with iprok_cost:\n",
        "\n",
        "  class CostItem(iprok.IproKThing): # Inherits from iprok_cost.IproKThing\n",
        "        label = [\"Cost Item\"]\n",
        "        comment = [\"A specific item of cost incurred or budgeted within the project.\"]\n",
        "        # namespace = iprok_cost\n",
        "        pass\n",
        "\n",
        "  class CostType(iprok.IproKThing): # Inherits from iprok_cost.IproKThing\n",
        "        label = [\"Cost Type\"]\n",
        "        comment = [\"The classification of a cost based on its nature (e.g., labor, material, expense).\"]\n",
        "        # namespace = iprok_cost\n",
        "        pass\n",
        "\n",
        "  class LaborCost(CostType):\n",
        "        label = [\"Labor Cost\"]\n",
        "        comment = [\"A type of cost specifically related to human effort, wages, and salaries.\"]\n",
        "        # namespace = iprok_cost\n",
        "        pass\n",
        "\n",
        "  class EquipmentCost(CostType):\n",
        "        label = [\"Equipment Cost\"]\n",
        "        comment = [\"A type of cost associated with the rental, purchase, or operation of equipment.\"]\n",
        "        # namespace = iprok_cost\n",
        "        pass\n",
        "\n",
        "  class MaterialCost(CostType):\n",
        "        label = [\"Material Cost\"]\n",
        "        comment = [\"A type of cost related to consumable supplies, components, or raw materials.\"]\n",
        "        # namespace = iprok_cost\n",
        "        pass\n",
        "\n",
        "  class ExpenseItem(CostType): # For other direct costs\n",
        "        label = [\"Expense Item\"]\n",
        "        comment = [\"A classification for miscellaneous or other direct costs not falling under labor, equipment, or material categories.\"]\n",
        "        # namespace = iprok_cost\n",
        "        pass\n",
        "\n",
        "    # Axiom: Cost types are disjoint\n",
        "  AllDisjoint([LaborCost, EquipmentCost, MaterialCost, ExpenseItem])\n",
        "\n",
        "  class CostCategory(iprok.IproKThing): # Inherits from iprok_cost.IproKThing\n",
        "        label = [\"Cost Category\"]\n",
        "        comment = [\"A broader classification for costs, such as direct, indirect, fixed, or variable costs.\"]\n",
        "        # namespace = iprok_cost\n",
        "        pass\n",
        "\n",
        "    # Cost Module - Data Properties\n",
        "    # Extending domains for the hasId, hasName, etc. defined immediately above (in iprok_cost)\n",
        "  iprok.hasId.domain.append(CostItem)\n",
        "  iprok.hasName.domain.append(CostItem)\n",
        "    # Consider adding for CostType, CostCategory, etc.\n",
        "    # e.g., hasName.domain.extend([CostType, CostCategory])\n",
        "    # hasDescription.domain.extend([CostItem, CostType, CostCategory])\n",
        "\n",
        "\n",
        "  class budgetedCostAmount(DataProperty, FunctionalProperty):\n",
        "        # namespace = iprok_cost\n",
        "        label = [\"budgeted Cost Amount\"]\n",
        "        comment = [\"The planned or allocated monetary amount for a specific cost item.\"]\n",
        "        domain = [CostItem]\n",
        "        range = [float]\n",
        "\n",
        "  class actualCostAmount(DataProperty, FunctionalProperty):\n",
        "        # namespace = iprok_cost\n",
        "        label = [\"actual Cost Amount\"]\n",
        "        comment = [\"The actual monetary amount incurred for a specific cost item.\"]\n",
        "        domain = [CostItem]\n",
        "        range = [float]\n",
        "\n",
        "  class remainingCostAmount(DataProperty, FunctionalProperty):\n",
        "        # namespace = iprok_cost\n",
        "        label = [\"remaining Cost Amount\"]\n",
        "        comment = [\"The estimated monetary amount remaining to be spent for a cost item (often calculated).\"]\n",
        "        domain = [CostItem]\n",
        "        range = [float]\n",
        "\n",
        "  class atCompleteCostAmount(DataProperty, FunctionalProperty):\n",
        "        # namespace = iprok_cost\n",
        "        label = [\"at Complete Cost Amount\"]\n",
        "        comment = [\"The total estimated monetary amount for a cost item upon its completion (Estimate At Completion - EAC).\"]\n",
        "        domain = [CostItem]\n",
        "        range = [float]\n",
        "\n",
        "  class vendorName(DataProperty):\n",
        "        # namespace = iprok_cost\n",
        "        label = [\"vendor Name\"]\n",
        "        comment = [\"The name of the vendor or supplier associated with a specific cost item.\"]\n",
        "        domain = [CostItem]\n",
        "        range = [str]\n",
        "\n",
        "    # Cost Module - Object Properties\n",
        "  class hasCostType(ObjectProperty, FunctionalProperty):\n",
        "        # namespace = iprok_cost\n",
        "        label = [\"has Cost Type\"]\n",
        "        comment = [\"Links a cost item to its specific classification or type (e.g., LaborCost, MaterialCost).\"]\n",
        "        domain = [CostItem]\n",
        "        range = [CostType] # Refers to CostType defined in iprok_cost\n",
        "\n",
        "  class hasCostCategory(ObjectProperty, FunctionalProperty):\n",
        "        # namespace = iprok_cost\n",
        "        label = [\"has Cost Category\"]\n",
        "        comment = [\"Links a cost item to its broader cost category (e.g., direct, indirect).\"]\n",
        "        domain = [CostItem]\n",
        "        range = [CostCategory] # Refers to CostCategory defined in iprok_cost\n"
      ],
      "metadata": {
        "colab": {
          "base_uri": "https://localhost:8080/"
        },
        "id": "9319i-5oU-4b",
        "outputId": "3c1a9c23-5021-41a9-98f5-ac935ebede79"
      },
      "execution_count": 29,
      "outputs": [
        {
          "output_type": "stream",
          "name": "stdout",
          "text": [
            "Defining Cost Management Module...\n"
          ]
        },
        {
          "output_type": "stream",
          "name": "stderr",
          "text": [
            "* Owlready2 * ADD TRIPLE https://w3id.org/iprok/cost#CostItem http://www.w3.org/1999/02/22-rdf-syntax-ns#type http://www.w3.org/2002/07/owl#Class\n",
            "* Owlready2 * ADD TRIPLE https://w3id.org/iprok/cost#CostItem http://www.w3.org/2000/01/rdf-schema#subClassOf https://w3id.org/iprok#IproKThing\n",
            "* Owlready2 * ADD TRIPLE https://w3id.org/iprok/cost#CostItem http://www.w3.org/2000/01/rdf-schema#label Cost Item http://www.w3.org/2001/XMLSchema#string\n",
            "* Owlready2 * ADD TRIPLE https://w3id.org/iprok/cost#CostItem http://www.w3.org/2000/01/rdf-schema#comment A specific item of cost incurred or budgeted within the project. http://www.w3.org/2001/XMLSchema#string\n",
            "* Owlready2 * ADD TRIPLE https://w3id.org/iprok/cost#CostType http://www.w3.org/1999/02/22-rdf-syntax-ns#type http://www.w3.org/2002/07/owl#Class\n",
            "* Owlready2 * ADD TRIPLE https://w3id.org/iprok/cost#CostType http://www.w3.org/2000/01/rdf-schema#subClassOf https://w3id.org/iprok#IproKThing\n",
            "* Owlready2 * ADD TRIPLE https://w3id.org/iprok/cost#CostType http://www.w3.org/2000/01/rdf-schema#label Cost Type http://www.w3.org/2001/XMLSchema#string\n",
            "* Owlready2 * ADD TRIPLE https://w3id.org/iprok/cost#CostType http://www.w3.org/2000/01/rdf-schema#comment The classification of a cost based on its nature (e.g., labor, material, expense). http://www.w3.org/2001/XMLSchema#string\n",
            "* Owlready2 * ADD TRIPLE https://w3id.org/iprok/cost#LaborCost http://www.w3.org/1999/02/22-rdf-syntax-ns#type http://www.w3.org/2002/07/owl#Class\n",
            "* Owlready2 * ADD TRIPLE https://w3id.org/iprok/cost#LaborCost http://www.w3.org/2000/01/rdf-schema#subClassOf https://w3id.org/iprok/cost#CostType\n",
            "* Owlready2 * ADD TRIPLE https://w3id.org/iprok/cost#LaborCost http://www.w3.org/2000/01/rdf-schema#label Labor Cost http://www.w3.org/2001/XMLSchema#string\n",
            "* Owlready2 * ADD TRIPLE https://w3id.org/iprok/cost#LaborCost http://www.w3.org/2000/01/rdf-schema#comment A type of cost specifically related to human effort, wages, and salaries. http://www.w3.org/2001/XMLSchema#string\n",
            "* Owlready2 * ADD TRIPLE https://w3id.org/iprok/cost#EquipmentCost http://www.w3.org/1999/02/22-rdf-syntax-ns#type http://www.w3.org/2002/07/owl#Class\n",
            "* Owlready2 * ADD TRIPLE https://w3id.org/iprok/cost#EquipmentCost http://www.w3.org/2000/01/rdf-schema#subClassOf https://w3id.org/iprok/cost#CostType\n",
            "* Owlready2 * ADD TRIPLE https://w3id.org/iprok/cost#EquipmentCost http://www.w3.org/2000/01/rdf-schema#label Equipment Cost http://www.w3.org/2001/XMLSchema#string\n",
            "* Owlready2 * ADD TRIPLE https://w3id.org/iprok/cost#EquipmentCost http://www.w3.org/2000/01/rdf-schema#comment A type of cost associated with the rental, purchase, or operation of equipment. http://www.w3.org/2001/XMLSchema#string\n",
            "* Owlready2 * ADD TRIPLE https://w3id.org/iprok/cost#MaterialCost http://www.w3.org/1999/02/22-rdf-syntax-ns#type http://www.w3.org/2002/07/owl#Class\n",
            "* Owlready2 * ADD TRIPLE https://w3id.org/iprok/cost#MaterialCost http://www.w3.org/2000/01/rdf-schema#subClassOf https://w3id.org/iprok/cost#CostType\n",
            "* Owlready2 * ADD TRIPLE https://w3id.org/iprok/cost#MaterialCost http://www.w3.org/2000/01/rdf-schema#label Material Cost http://www.w3.org/2001/XMLSchema#string\n",
            "* Owlready2 * ADD TRIPLE https://w3id.org/iprok/cost#MaterialCost http://www.w3.org/2000/01/rdf-schema#comment A type of cost related to consumable supplies, components, or raw materials. http://www.w3.org/2001/XMLSchema#string\n",
            "* Owlready2 * ADD TRIPLE https://w3id.org/iprok/cost#ExpenseItem http://www.w3.org/1999/02/22-rdf-syntax-ns#type http://www.w3.org/2002/07/owl#Class\n",
            "* Owlready2 * ADD TRIPLE https://w3id.org/iprok/cost#ExpenseItem http://www.w3.org/2000/01/rdf-schema#subClassOf https://w3id.org/iprok/cost#CostType\n",
            "* Owlready2 * ADD TRIPLE https://w3id.org/iprok/cost#ExpenseItem http://www.w3.org/2000/01/rdf-schema#label Expense Item http://www.w3.org/2001/XMLSchema#string\n",
            "* Owlready2 * ADD TRIPLE https://w3id.org/iprok/cost#ExpenseItem http://www.w3.org/2000/01/rdf-schema#comment A classification for miscellaneous or other direct costs not falling under labor, equipment, or material categories. http://www.w3.org/2001/XMLSchema#string\n",
            "* Owlready2 * ADD TRIPLE -16 http://www.w3.org/1999/02/22-rdf-syntax-ns#type http://www.w3.org/2002/07/owl#AllDisjointClasses\n",
            "* Owlready2 * ADD TRIPLE -16 http://www.w3.org/2002/07/owl#members -17\n",
            "* Owlready2 * ADD TRIPLE -17 http://www.w3.org/1999/02/22-rdf-syntax-ns#first https://w3id.org/iprok/cost#LaborCost\n",
            "* Owlready2 * ADD TRIPLE -17 http://www.w3.org/1999/02/22-rdf-syntax-ns#rest -18\n",
            "* Owlready2 * ADD TRIPLE -18 http://www.w3.org/1999/02/22-rdf-syntax-ns#first https://w3id.org/iprok/cost#EquipmentCost\n",
            "* Owlready2 * ADD TRIPLE -18 http://www.w3.org/1999/02/22-rdf-syntax-ns#rest -19\n",
            "* Owlready2 * ADD TRIPLE -19 http://www.w3.org/1999/02/22-rdf-syntax-ns#first https://w3id.org/iprok/cost#MaterialCost\n",
            "* Owlready2 * ADD TRIPLE -19 http://www.w3.org/1999/02/22-rdf-syntax-ns#rest -20\n",
            "* Owlready2 * ADD TRIPLE -20 http://www.w3.org/1999/02/22-rdf-syntax-ns#first https://w3id.org/iprok/cost#ExpenseItem\n",
            "* Owlready2 * ADD TRIPLE -20 http://www.w3.org/1999/02/22-rdf-syntax-ns#rest http://www.w3.org/1999/02/22-rdf-syntax-ns#nil\n",
            "* Owlready2 * ADD TRIPLE https://w3id.org/iprok/cost#CostCategory http://www.w3.org/1999/02/22-rdf-syntax-ns#type http://www.w3.org/2002/07/owl#Class\n",
            "* Owlready2 * ADD TRIPLE https://w3id.org/iprok/cost#CostCategory http://www.w3.org/2000/01/rdf-schema#subClassOf https://w3id.org/iprok#IproKThing\n",
            "* Owlready2 * ADD TRIPLE https://w3id.org/iprok/cost#CostCategory http://www.w3.org/2000/01/rdf-schema#label Cost Category http://www.w3.org/2001/XMLSchema#string\n",
            "* Owlready2 * ADD TRIPLE https://w3id.org/iprok/cost#CostCategory http://www.w3.org/2000/01/rdf-schema#comment A broader classification for costs, such as direct, indirect, fixed, or variable costs. http://www.w3.org/2001/XMLSchema#string\n",
            "* Owlready2 * ADD TRIPLE https://w3id.org/iprok#hasId http://www.w3.org/2000/01/rdf-schema#domain https://w3id.org/iprok/cost#CostItem\n",
            "* Owlready2 * ADD TRIPLE https://w3id.org/iprok#hasName http://www.w3.org/2000/01/rdf-schema#domain https://w3id.org/iprok/cost#CostItem\n",
            "* Owlready2 * ADD TRIPLE https://w3id.org/iprok/cost#budgetedCostAmount http://www.w3.org/1999/02/22-rdf-syntax-ns#type http://www.w3.org/2002/07/owl#DatatypeProperty\n",
            "* Owlready2 * ADD TRIPLE https://w3id.org/iprok/cost#budgetedCostAmount http://www.w3.org/1999/02/22-rdf-syntax-ns#type http://www.w3.org/2002/07/owl#FunctionalProperty\n",
            "* Owlready2 * ADD TRIPLE https://w3id.org/iprok/cost#budgetedCostAmount http://www.w3.org/2000/01/rdf-schema#label budgeted Cost Amount http://www.w3.org/2001/XMLSchema#string\n",
            "* Owlready2 * ADD TRIPLE https://w3id.org/iprok/cost#budgetedCostAmount http://www.w3.org/2000/01/rdf-schema#comment The planned or allocated monetary amount for a specific cost item. http://www.w3.org/2001/XMLSchema#string\n",
            "* Owlready2 * ADD TRIPLE https://w3id.org/iprok/cost#budgetedCostAmount http://www.w3.org/2000/01/rdf-schema#domain https://w3id.org/iprok/cost#CostItem\n",
            "* Owlready2 * ADD TRIPLE https://w3id.org/iprok/cost#budgetedCostAmount http://www.w3.org/2000/01/rdf-schema#range http://www.w3.org/2001/XMLSchema#decimal\n",
            "* Owlready2 * ADD TRIPLE https://w3id.org/iprok/cost#actualCostAmount http://www.w3.org/1999/02/22-rdf-syntax-ns#type http://www.w3.org/2002/07/owl#DatatypeProperty\n",
            "* Owlready2 * ADD TRIPLE https://w3id.org/iprok/cost#actualCostAmount http://www.w3.org/1999/02/22-rdf-syntax-ns#type http://www.w3.org/2002/07/owl#FunctionalProperty\n",
            "* Owlready2 * ADD TRIPLE https://w3id.org/iprok/cost#actualCostAmount http://www.w3.org/2000/01/rdf-schema#label actual Cost Amount http://www.w3.org/2001/XMLSchema#string\n",
            "* Owlready2 * ADD TRIPLE https://w3id.org/iprok/cost#actualCostAmount http://www.w3.org/2000/01/rdf-schema#comment The actual monetary amount incurred for a specific cost item. http://www.w3.org/2001/XMLSchema#string\n",
            "* Owlready2 * ADD TRIPLE https://w3id.org/iprok/cost#actualCostAmount http://www.w3.org/2000/01/rdf-schema#domain https://w3id.org/iprok/cost#CostItem\n",
            "* Owlready2 * ADD TRIPLE https://w3id.org/iprok/cost#actualCostAmount http://www.w3.org/2000/01/rdf-schema#range http://www.w3.org/2001/XMLSchema#decimal\n",
            "* Owlready2 * ADD TRIPLE https://w3id.org/iprok/cost#remainingCostAmount http://www.w3.org/1999/02/22-rdf-syntax-ns#type http://www.w3.org/2002/07/owl#DatatypeProperty\n",
            "* Owlready2 * ADD TRIPLE https://w3id.org/iprok/cost#remainingCostAmount http://www.w3.org/1999/02/22-rdf-syntax-ns#type http://www.w3.org/2002/07/owl#FunctionalProperty\n",
            "* Owlready2 * ADD TRIPLE https://w3id.org/iprok/cost#remainingCostAmount http://www.w3.org/2000/01/rdf-schema#label remaining Cost Amount http://www.w3.org/2001/XMLSchema#string\n",
            "* Owlready2 * ADD TRIPLE https://w3id.org/iprok/cost#remainingCostAmount http://www.w3.org/2000/01/rdf-schema#comment The estimated monetary amount remaining to be spent for a cost item (often calculated). http://www.w3.org/2001/XMLSchema#string\n",
            "* Owlready2 * ADD TRIPLE https://w3id.org/iprok/cost#remainingCostAmount http://www.w3.org/2000/01/rdf-schema#domain https://w3id.org/iprok/cost#CostItem\n",
            "* Owlready2 * ADD TRIPLE https://w3id.org/iprok/cost#remainingCostAmount http://www.w3.org/2000/01/rdf-schema#range http://www.w3.org/2001/XMLSchema#decimal\n",
            "* Owlready2 * ADD TRIPLE https://w3id.org/iprok/cost#atCompleteCostAmount http://www.w3.org/1999/02/22-rdf-syntax-ns#type http://www.w3.org/2002/07/owl#DatatypeProperty\n",
            "* Owlready2 * ADD TRIPLE https://w3id.org/iprok/cost#atCompleteCostAmount http://www.w3.org/1999/02/22-rdf-syntax-ns#type http://www.w3.org/2002/07/owl#FunctionalProperty\n",
            "* Owlready2 * ADD TRIPLE https://w3id.org/iprok/cost#atCompleteCostAmount http://www.w3.org/2000/01/rdf-schema#label at Complete Cost Amount http://www.w3.org/2001/XMLSchema#string\n",
            "* Owlready2 * ADD TRIPLE https://w3id.org/iprok/cost#atCompleteCostAmount http://www.w3.org/2000/01/rdf-schema#comment The total estimated monetary amount for a cost item upon its completion (Estimate At Completion - EAC). http://www.w3.org/2001/XMLSchema#string\n",
            "* Owlready2 * ADD TRIPLE https://w3id.org/iprok/cost#atCompleteCostAmount http://www.w3.org/2000/01/rdf-schema#domain https://w3id.org/iprok/cost#CostItem\n",
            "* Owlready2 * ADD TRIPLE https://w3id.org/iprok/cost#atCompleteCostAmount http://www.w3.org/2000/01/rdf-schema#range http://www.w3.org/2001/XMLSchema#decimal\n",
            "* Owlready2 * ADD TRIPLE https://w3id.org/iprok/cost#vendorName http://www.w3.org/1999/02/22-rdf-syntax-ns#type http://www.w3.org/2002/07/owl#DatatypeProperty\n",
            "* Owlready2 * ADD TRIPLE https://w3id.org/iprok/cost#vendorName http://www.w3.org/2000/01/rdf-schema#label vendor Name http://www.w3.org/2001/XMLSchema#string\n",
            "* Owlready2 * ADD TRIPLE https://w3id.org/iprok/cost#vendorName http://www.w3.org/2000/01/rdf-schema#comment The name of the vendor or supplier associated with a specific cost item. http://www.w3.org/2001/XMLSchema#string\n",
            "* Owlready2 * ADD TRIPLE https://w3id.org/iprok/cost#vendorName http://www.w3.org/2000/01/rdf-schema#domain https://w3id.org/iprok/cost#CostItem\n",
            "* Owlready2 * ADD TRIPLE https://w3id.org/iprok/cost#vendorName http://www.w3.org/2000/01/rdf-schema#range http://www.w3.org/2001/XMLSchema#string\n",
            "* Owlready2 * ADD TRIPLE https://w3id.org/iprok/cost#hasCostType http://www.w3.org/1999/02/22-rdf-syntax-ns#type http://www.w3.org/2002/07/owl#ObjectProperty\n",
            "* Owlready2 * ADD TRIPLE https://w3id.org/iprok/cost#hasCostType http://www.w3.org/1999/02/22-rdf-syntax-ns#type http://www.w3.org/2002/07/owl#FunctionalProperty\n",
            "* Owlready2 * ADD TRIPLE https://w3id.org/iprok/cost#hasCostType http://www.w3.org/2000/01/rdf-schema#label has Cost Type http://www.w3.org/2001/XMLSchema#string\n",
            "* Owlready2 * ADD TRIPLE https://w3id.org/iprok/cost#hasCostType http://www.w3.org/2000/01/rdf-schema#comment Links a cost item to its specific classification or type (e.g., LaborCost, MaterialCost). http://www.w3.org/2001/XMLSchema#string\n",
            "* Owlready2 * ADD TRIPLE https://w3id.org/iprok/cost#hasCostType http://www.w3.org/2000/01/rdf-schema#domain https://w3id.org/iprok/cost#CostItem\n",
            "* Owlready2 * ADD TRIPLE https://w3id.org/iprok/cost#hasCostType http://www.w3.org/2000/01/rdf-schema#range https://w3id.org/iprok/cost#CostType\n",
            "* Owlready2 * ADD TRIPLE https://w3id.org/iprok/cost#hasCostCategory http://www.w3.org/1999/02/22-rdf-syntax-ns#type http://www.w3.org/2002/07/owl#ObjectProperty\n",
            "* Owlready2 * ADD TRIPLE https://w3id.org/iprok/cost#hasCostCategory http://www.w3.org/1999/02/22-rdf-syntax-ns#type http://www.w3.org/2002/07/owl#FunctionalProperty\n",
            "* Owlready2 * ADD TRIPLE https://w3id.org/iprok/cost#hasCostCategory http://www.w3.org/2000/01/rdf-schema#label has Cost Category http://www.w3.org/2001/XMLSchema#string\n",
            "* Owlready2 * ADD TRIPLE https://w3id.org/iprok/cost#hasCostCategory http://www.w3.org/2000/01/rdf-schema#comment Links a cost item to its broader cost category (e.g., direct, indirect). http://www.w3.org/2001/XMLSchema#string\n",
            "* Owlready2 * ADD TRIPLE https://w3id.org/iprok/cost#hasCostCategory http://www.w3.org/2000/01/rdf-schema#domain https://w3id.org/iprok/cost#CostItem\n",
            "* Owlready2 * ADD TRIPLE https://w3id.org/iprok/cost#hasCostCategory http://www.w3.org/2000/01/rdf-schema#range https://w3id.org/iprok/cost#CostCategory\n"
          ]
        }
      ]
    },
    {
      "cell_type": "code",
      "source": [
        "iprok_cost.save(file=\"iprok_cost.owl\", format=\"rdfxml\")\n",
        "g = Graph()\n",
        "g.parse(\"iprok_cost.owl\", format=\"xml\")\n",
        "g.serialize(destination=\"iprok_cost.ttl\", format=\"turtle\")"
      ],
      "metadata": {
        "colab": {
          "base_uri": "https://localhost:8080/"
        },
        "id": "fN8xO_3PWu1t",
        "outputId": "cb9318e3-26bc-455e-9c82-063de99bbedd"
      },
      "execution_count": 30,
      "outputs": [
        {
          "output_type": "stream",
          "name": "stderr",
          "text": [
            "* Owlready2 * Saving ontology cost to iprok_cost.owl...\n"
          ]
        },
        {
          "output_type": "execute_result",
          "data": {
            "text/plain": [
              "<Graph identifier=N75680140f16545d49d7f31a28a577aa4 (<class 'rdflib.graph.Graph'>)>"
            ]
          },
          "metadata": {},
          "execution_count": 30
        }
      ]
    },
    {
      "cell_type": "code",
      "source": [
        "iprok_cost.destroy()"
      ],
      "metadata": {
        "id": "kJ79UU_KXDC8"
      },
      "execution_count": 31,
      "outputs": []
    }
  ]
}