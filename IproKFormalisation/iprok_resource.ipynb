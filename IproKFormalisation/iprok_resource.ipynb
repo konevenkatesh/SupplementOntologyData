{
  "nbformat": 4,
  "nbformat_minor": 0,
  "metadata": {
    "colab": {
      "provenance": [],
      "authorship_tag": "ABX9TyNN1dNTwxFJb2AeRoA8RZHE",
      "include_colab_link": true
    },
    "kernelspec": {
      "name": "python3",
      "display_name": "Python 3"
    },
    "language_info": {
      "name": "python"
    }
  },
  "cells": [
    {
      "cell_type": "markdown",
      "metadata": {
        "id": "view-in-github",
        "colab_type": "text"
      },
      "source": [
        "<a href=\"https://colab.research.google.com/github/konevenkatesh/Ontology_PM/blob/main/iprok_resource.ipynb\" target=\"_parent\"><img src=\"https://colab.research.google.com/assets/colab-badge.svg\" alt=\"Open In Colab\"/></a>"
      ]
    },
    {
      "cell_type": "code",
      "execution_count": 1,
      "metadata": {
        "colab": {
          "base_uri": "https://localhost:8080/"
        },
        "id": "p65l4G_KQPZM",
        "outputId": "ac51e3bd-0a00-4618-b2be-387a00ba4051"
      },
      "outputs": [
        {
          "output_type": "stream",
          "name": "stdout",
          "text": [
            "Collecting owlready2\n",
            "  Downloading owlready2-0.47.tar.gz (27.3 MB)\n",
            "\u001b[2K     \u001b[90m━━━━━━━━━━━━━━━━━━━━━━━━━━━━━━━━━━━━━━━━\u001b[0m \u001b[32m27.3/27.3 MB\u001b[0m \u001b[31m11.8 MB/s\u001b[0m eta \u001b[36m0:00:00\u001b[0m\n",
            "\u001b[?25h  Installing build dependencies ... \u001b[?25l\u001b[?25hdone\n",
            "  Getting requirements to build wheel ... \u001b[?25l\u001b[?25hdone\n",
            "  Preparing metadata (pyproject.toml) ... \u001b[?25l\u001b[?25hdone\n",
            "Building wheels for collected packages: owlready2\n",
            "  Building wheel for owlready2 (pyproject.toml) ... \u001b[?25l\u001b[?25hdone\n",
            "  Created wheel for owlready2: filename=owlready2-0.47-cp311-cp311-linux_x86_64.whl size=24521243 sha256=e33eab6491fc9e46246c3b6ba235ef4912e25ee74ef4e19d4072ec3b5b947b9b\n",
            "  Stored in directory: /root/.cache/pip/wheels/25/9a/a3/fb1ac6339caa859c8bb18d685736168b0b51d851af13d81d52\n",
            "Successfully built owlready2\n",
            "Installing collected packages: owlready2\n",
            "Successfully installed owlready2-0.47\n",
            "Collecting rdflib\n",
            "  Downloading rdflib-7.1.4-py3-none-any.whl.metadata (11 kB)\n",
            "Requirement already satisfied: pyparsing<4,>=2.1.0 in /usr/local/lib/python3.11/dist-packages (from rdflib) (3.2.3)\n",
            "Downloading rdflib-7.1.4-py3-none-any.whl (565 kB)\n",
            "\u001b[2K   \u001b[90m━━━━━━━━━━━━━━━━━━━━━━━━━━━━━━━━━━━━━━━━\u001b[0m \u001b[32m565.1/565.1 kB\u001b[0m \u001b[31m8.7 MB/s\u001b[0m eta \u001b[36m0:00:00\u001b[0m\n",
            "\u001b[?25hInstalling collected packages: rdflib\n",
            "Successfully installed rdflib-7.1.4\n"
          ]
        }
      ],
      "source": [
        "!pip install owlready2\n",
        "!pip install rdflib"
      ]
    },
    {
      "cell_type": "code",
      "source": [
        "# Import necessary libraries\n",
        "from owlready2 import *\n",
        "from datetime import date, datetime, timedelta\n",
        "from rdflib import Graph"
      ],
      "metadata": {
        "id": "n3omY7skQgzh"
      },
      "execution_count": 2,
      "outputs": []
    },
    {
      "cell_type": "code",
      "source": [
        "set_log_level(9)"
      ],
      "metadata": {
        "id": "Eo6WxGwWS9P4"
      },
      "execution_count": 3,
      "outputs": []
    },
    {
      "cell_type": "code",
      "source": [
        "# Define the IproK Ontology IRI and get/create the ontology\n",
        "resource_iri = \"https://w3id.org/IproK/resource#\"\n",
        "resource_iprok = get_ontology(resource_iri)"
      ],
      "metadata": {
        "id": "2-n87FWxQhgh",
        "outputId": "85018e9a-b8cb-47de-f10f-360de5dc996b",
        "colab": {
          "base_uri": "https://localhost:8080/"
        }
      },
      "execution_count": 4,
      "outputs": [
        {
          "output_type": "stream",
          "name": "stderr",
          "text": [
            "* Owlready2 * Creating new ontology resource <https://w3id.org/IproK/resource#>.\n",
            "* Owlready2 * ADD TRIPLE https://w3id.org/IproK/resource http://www.w3.org/1999/02/22-rdf-syntax-ns#type http://www.w3.org/2002/07/owl#Ontology\n"
          ]
        }
      ]
    },
    {
      "cell_type": "code",
      "source": [
        "# Improt base IproK ontology\n",
        "iprok = get_ontology(\"iprok.owl\").load()\n",
        "resource_iprok.imported_ontologies.append(iprok)"
      ],
      "metadata": {
        "id": "cpCBe3uMS6sZ",
        "outputId": "addc24a0-4c4a-4250-a9e2-af37145343d9",
        "colab": {
          "base_uri": "https://localhost:8080/"
        }
      },
      "execution_count": 5,
      "outputs": [
        {
          "output_type": "stream",
          "name": "stderr",
          "text": [
            "* Owlready2 * Creating new ontology iprok <iprok.owl#>.\n",
            "* Owlready2 * ADD TRIPLE iprok.owl http://www.w3.org/1999/02/22-rdf-syntax-ns#type http://www.w3.org/2002/07/owl#Ontology\n",
            "* Owlready2 *     ...loading ontology iprok from iprok.owl...\n",
            "* Owlready2 *     ...4 properties found: hasGlobalId, hasId, hasName, hasDescription\n",
            "* Owlready2 * ADD TRIPLE https://w3id.org/IproK/resource http://www.w3.org/2002/07/owl#imports https://w3id.org/IproK\n"
          ]
        }
      ]
    },
    {
      "cell_type": "code",
      "source": [
        "# ==========================================================================\n",
        "    # Resource Management Module (Conceptualization based on Module.docx Fig 4)\n",
        "    # ==========================================================================\n",
        "print(\"Defining Resource Management Module...\")\n",
        "with resource_iprok:\n",
        "\n",
        "    # Core Classes\n",
        "    class Resource(iprok.IproKThing):\n",
        "        \"\"\"An asset, item, or person required for or consumed by project tasks.\"\"\"\n",
        "        pass\n",
        "\n",
        "    class ResourceType(iprok.IproKThing):\n",
        "        \"\"\"The classification of a resource.\"\"\"\n",
        "        pass\n",
        "\n",
        "    class LaborResource(ResourceType): pass\n",
        "    class EquipmentResource(ResourceType): pass\n",
        "    class MaterialResource(ResourceType): pass\n",
        "    class UserDefinedResource(ResourceType): pass # For other types\n",
        "\n",
        "    # Axiom: Resource types are disjoint\n",
        "    AllDisjoint([LaborResource, EquipmentResource, MaterialResource, UserDefinedResource])\n",
        "\n",
        "    class TrackingTag(iprok.IproKThing):\n",
        "        \"\"\"An identifier or device used for monitoring a resource.\"\"\"\n",
        "        pass\n",
        "\n",
        "    class Units(iprok.IproKThing): # Unit of Measure\n",
        "        \"\"\"The unit of measure for a resource quantity or rate.\"\"\"\n",
        "        pass\n",
        "\n",
        "    class ResourceConstraint(iprok.Constraint): # Can inherit from general Constraint or be distinct\n",
        "        \"\"\"A limitation or condition affecting the use or availability of a resource.\"\"\"\n",
        "        pass\n",
        "\n",
        "\n",
        "    # Resource Module - Data Properties\n",
        "    # Reusing hasId, hasName, hasGlobalId, hasDescription defined earlier\n",
        "    # Their domains can be extended here or applied generally\n",
        "    iprok.hasId.domain.append(Resource)\n",
        "    iprok.hasName.domain.append(Resource)\n",
        "    iprok.hasGlobalId.domain.append(Resource)\n",
        "    iprok.hasDescription.domain.append(Resource)\n",
        "    # Similar for ResourceType, TrackingTag, Units, ResourceConstraint\n",
        "\n",
        "    class baseRate(DataProperty): # Simplified from baseRate_onDate for this example\n",
        "        domain = [Resource]\n",
        "        range = [float] # Assuming a numeric rate, currency can be another property or context\n",
        "\n",
        "    class currency(DataProperty, FunctionalProperty): # Added for cost context\n",
        "        domain = [Resource]\n",
        "        range = [str] # e.g., \"USD\", \"EUR\"\n",
        "\n",
        "    class effectiveDateForRate(DataProperty, FunctionalProperty): # For baseRate_onDate context\n",
        "        domain = [Resource]\n",
        "        range = [date]\n",
        "\n",
        "    class maxUnits(DataProperty, FunctionalProperty): # e.g., max units available per day\n",
        "        domain = [Resource]\n",
        "        range = [float]\n",
        "\n",
        "    # Allocation-specific units are better on a ResourceAllocation class (Interrelation Module)\n",
        "    # For now, these are conceptual placeholders if directly on Resource\n",
        "    class budgetedUnits(DataProperty):\n",
        "        domain = [Resource] # Or ResourceAllocation\n",
        "        range = [float]\n",
        "\n",
        "    class actualUnits(DataProperty):\n",
        "        domain = [Resource] # Or ResourceAllocation\n",
        "        range = [float]\n",
        "\n",
        "    class remainingUnits(DataProperty):\n",
        "        domain = [Resource] # Or ResourceAllocation\n",
        "        range = [float]\n",
        "\n",
        "    class atCompleteUnits(DataProperty):\n",
        "        domain = [Resource] # Or ResourceAllocation\n",
        "        range = [float]\n",
        "\n",
        "    class isPrimaryResource(DataProperty, FunctionalProperty):\n",
        "        domain = [Resource] # Or ResourceAllocation\n",
        "        range = [bool]\n",
        "\n",
        "    # ResourceConstraint data properties already covered by general Constraint type\n",
        "\n",
        "    # Resource Module - Object Properties\n",
        "    class hasResourceType(ObjectProperty, FunctionalProperty):\n",
        "        domain = [Resource]\n",
        "        range = [ResourceType]\n",
        "\n",
        "    class hasTrackingTag(ObjectProperty):\n",
        "        domain = [Resource]\n",
        "        range = [TrackingTag]\n",
        "\n",
        "    class measuredIn(ObjectProperty, FunctionalProperty):\n",
        "        domain = [Resource]\n",
        "        range = [Units]\n",
        "\n",
        "    class hasResourceConstraints(ObjectProperty): # Renamed from hasConstraint for clarity\n",
        "        domain = [Resource]\n",
        "        range = [ResourceConstraint]\n",
        "\n",
        "    # 'assignsToActor' can be reused from Schedule module if domain is broadened,\n",
        "    # or a specific one like 'resourceManagedBy' Actor can be defined.\n"
      ],
      "metadata": {
        "id": "gMluBqtBQyTS",
        "outputId": "79b773ef-dc0e-4ecc-f014-62a5739fbc18",
        "colab": {
          "base_uri": "https://localhost:8080/"
        }
      },
      "execution_count": 6,
      "outputs": [
        {
          "output_type": "stream",
          "name": "stdout",
          "text": [
            "Defining Resource Management Module...\n"
          ]
        },
        {
          "output_type": "stream",
          "name": "stderr",
          "text": [
            "* Owlready2 * ADD TRIPLE https://w3id.org/IproK/resource#Resource http://www.w3.org/1999/02/22-rdf-syntax-ns#type http://www.w3.org/2002/07/owl#Class\n",
            "* Owlready2 * ADD TRIPLE https://w3id.org/IproK/resource#Resource http://www.w3.org/2000/01/rdf-schema#subClassOf https://w3id.org/IproK#IproKThing\n",
            "* Owlready2 * ADD TRIPLE https://w3id.org/IproK/resource#ResourceType http://www.w3.org/1999/02/22-rdf-syntax-ns#type http://www.w3.org/2002/07/owl#Class\n",
            "* Owlready2 * ADD TRIPLE https://w3id.org/IproK/resource#ResourceType http://www.w3.org/2000/01/rdf-schema#subClassOf https://w3id.org/IproK#IproKThing\n",
            "* Owlready2 * ADD TRIPLE https://w3id.org/IproK/resource#LaborResource http://www.w3.org/1999/02/22-rdf-syntax-ns#type http://www.w3.org/2002/07/owl#Class\n",
            "* Owlready2 * ADD TRIPLE https://w3id.org/IproK/resource#LaborResource http://www.w3.org/2000/01/rdf-schema#subClassOf https://w3id.org/IproK/resource#ResourceType\n",
            "* Owlready2 * ADD TRIPLE https://w3id.org/IproK/resource#EquipmentResource http://www.w3.org/1999/02/22-rdf-syntax-ns#type http://www.w3.org/2002/07/owl#Class\n",
            "* Owlready2 * ADD TRIPLE https://w3id.org/IproK/resource#EquipmentResource http://www.w3.org/2000/01/rdf-schema#subClassOf https://w3id.org/IproK/resource#ResourceType\n",
            "* Owlready2 * ADD TRIPLE https://w3id.org/IproK/resource#MaterialResource http://www.w3.org/1999/02/22-rdf-syntax-ns#type http://www.w3.org/2002/07/owl#Class\n",
            "* Owlready2 * ADD TRIPLE https://w3id.org/IproK/resource#MaterialResource http://www.w3.org/2000/01/rdf-schema#subClassOf https://w3id.org/IproK/resource#ResourceType\n",
            "* Owlready2 * ADD TRIPLE https://w3id.org/IproK/resource#UserDefinedResource http://www.w3.org/1999/02/22-rdf-syntax-ns#type http://www.w3.org/2002/07/owl#Class\n",
            "* Owlready2 * ADD TRIPLE https://w3id.org/IproK/resource#UserDefinedResource http://www.w3.org/2000/01/rdf-schema#subClassOf https://w3id.org/IproK/resource#ResourceType\n",
            "* Owlready2 * ADD TRIPLE -1 http://www.w3.org/1999/02/22-rdf-syntax-ns#type http://www.w3.org/2002/07/owl#AllDisjointClasses\n",
            "* Owlready2 * ADD TRIPLE -1 http://www.w3.org/2002/07/owl#members -2\n",
            "* Owlready2 * ADD TRIPLE -2 http://www.w3.org/1999/02/22-rdf-syntax-ns#first https://w3id.org/IproK/resource#LaborResource\n",
            "* Owlready2 * ADD TRIPLE -2 http://www.w3.org/1999/02/22-rdf-syntax-ns#rest -3\n",
            "* Owlready2 * ADD TRIPLE -3 http://www.w3.org/1999/02/22-rdf-syntax-ns#first https://w3id.org/IproK/resource#EquipmentResource\n",
            "* Owlready2 * ADD TRIPLE -3 http://www.w3.org/1999/02/22-rdf-syntax-ns#rest -4\n",
            "* Owlready2 * ADD TRIPLE -4 http://www.w3.org/1999/02/22-rdf-syntax-ns#first https://w3id.org/IproK/resource#MaterialResource\n",
            "* Owlready2 * ADD TRIPLE -4 http://www.w3.org/1999/02/22-rdf-syntax-ns#rest -5\n",
            "* Owlready2 * ADD TRIPLE -5 http://www.w3.org/1999/02/22-rdf-syntax-ns#first https://w3id.org/IproK/resource#UserDefinedResource\n",
            "* Owlready2 * ADD TRIPLE -5 http://www.w3.org/1999/02/22-rdf-syntax-ns#rest http://www.w3.org/1999/02/22-rdf-syntax-ns#nil\n",
            "* Owlready2 * ADD TRIPLE https://w3id.org/IproK/resource#TrackingTag http://www.w3.org/1999/02/22-rdf-syntax-ns#type http://www.w3.org/2002/07/owl#Class\n",
            "* Owlready2 * ADD TRIPLE https://w3id.org/IproK/resource#TrackingTag http://www.w3.org/2000/01/rdf-schema#subClassOf https://w3id.org/IproK#IproKThing\n",
            "* Owlready2 * ADD TRIPLE https://w3id.org/IproK/resource#Units http://www.w3.org/1999/02/22-rdf-syntax-ns#type http://www.w3.org/2002/07/owl#Class\n",
            "* Owlready2 * ADD TRIPLE https://w3id.org/IproK/resource#Units http://www.w3.org/2000/01/rdf-schema#subClassOf https://w3id.org/IproK#IproKThing\n",
            "* Owlready2 * ADD TRIPLE https://w3id.org/IproK/resource#ResourceConstraint http://www.w3.org/1999/02/22-rdf-syntax-ns#type http://www.w3.org/2002/07/owl#Class\n",
            "* Owlready2 * ADD TRIPLE https://w3id.org/IproK/resource#ResourceConstraint http://www.w3.org/2000/01/rdf-schema#subClassOf https://w3id.org/IproK#Constraint\n",
            "* Owlready2 * ADD TRIPLE https://w3id.org/IproK#hasId http://www.w3.org/2000/01/rdf-schema#domain https://w3id.org/IproK/resource#Resource\n",
            "* Owlready2 * ADD TRIPLE https://w3id.org/IproK#hasName http://www.w3.org/2000/01/rdf-schema#domain https://w3id.org/IproK/resource#Resource\n",
            "* Owlready2 * ADD TRIPLE https://w3id.org/IproK#hasGlobalId http://www.w3.org/2000/01/rdf-schema#domain https://w3id.org/IproK/resource#Resource\n",
            "* Owlready2 * ADD TRIPLE https://w3id.org/IproK#hasDescription http://www.w3.org/2000/01/rdf-schema#domain https://w3id.org/IproK/resource#Resource\n",
            "* Owlready2 * ADD TRIPLE https://w3id.org/IproK/resource#baseRate http://www.w3.org/1999/02/22-rdf-syntax-ns#type http://www.w3.org/2002/07/owl#DatatypeProperty\n",
            "* Owlready2 * ADD TRIPLE https://w3id.org/IproK/resource#baseRate http://www.w3.org/2000/01/rdf-schema#domain https://w3id.org/IproK/resource#Resource\n",
            "* Owlready2 * ADD TRIPLE https://w3id.org/IproK/resource#baseRate http://www.w3.org/2000/01/rdf-schema#range http://www.w3.org/2001/XMLSchema#decimal\n",
            "* Owlready2 * ADD TRIPLE https://w3id.org/IproK/resource#currency http://www.w3.org/1999/02/22-rdf-syntax-ns#type http://www.w3.org/2002/07/owl#DatatypeProperty\n",
            "* Owlready2 * ADD TRIPLE https://w3id.org/IproK/resource#currency http://www.w3.org/1999/02/22-rdf-syntax-ns#type http://www.w3.org/2002/07/owl#FunctionalProperty\n",
            "* Owlready2 * ADD TRIPLE https://w3id.org/IproK/resource#currency http://www.w3.org/2000/01/rdf-schema#domain https://w3id.org/IproK/resource#Resource\n",
            "* Owlready2 * ADD TRIPLE https://w3id.org/IproK/resource#currency http://www.w3.org/2000/01/rdf-schema#range http://www.w3.org/2001/XMLSchema#string\n",
            "* Owlready2 * ADD TRIPLE https://w3id.org/IproK/resource#effectiveDateForRate http://www.w3.org/1999/02/22-rdf-syntax-ns#type http://www.w3.org/2002/07/owl#DatatypeProperty\n",
            "* Owlready2 * ADD TRIPLE https://w3id.org/IproK/resource#effectiveDateForRate http://www.w3.org/1999/02/22-rdf-syntax-ns#type http://www.w3.org/2002/07/owl#FunctionalProperty\n",
            "* Owlready2 * ADD TRIPLE https://w3id.org/IproK/resource#effectiveDateForRate http://www.w3.org/2000/01/rdf-schema#domain https://w3id.org/IproK/resource#Resource\n",
            "* Owlready2 * ADD TRIPLE https://w3id.org/IproK/resource#effectiveDateForRate http://www.w3.org/2000/01/rdf-schema#range http://www.w3.org/2001/XMLSchema#date\n",
            "* Owlready2 * ADD TRIPLE https://w3id.org/IproK/resource#maxUnits http://www.w3.org/1999/02/22-rdf-syntax-ns#type http://www.w3.org/2002/07/owl#DatatypeProperty\n",
            "* Owlready2 * ADD TRIPLE https://w3id.org/IproK/resource#maxUnits http://www.w3.org/1999/02/22-rdf-syntax-ns#type http://www.w3.org/2002/07/owl#FunctionalProperty\n",
            "* Owlready2 * ADD TRIPLE https://w3id.org/IproK/resource#maxUnits http://www.w3.org/2000/01/rdf-schema#domain https://w3id.org/IproK/resource#Resource\n",
            "* Owlready2 * ADD TRIPLE https://w3id.org/IproK/resource#maxUnits http://www.w3.org/2000/01/rdf-schema#range http://www.w3.org/2001/XMLSchema#decimal\n",
            "* Owlready2 * ADD TRIPLE https://w3id.org/IproK/resource#budgetedUnits http://www.w3.org/1999/02/22-rdf-syntax-ns#type http://www.w3.org/2002/07/owl#DatatypeProperty\n",
            "* Owlready2 * ADD TRIPLE https://w3id.org/IproK/resource#budgetedUnits http://www.w3.org/2000/01/rdf-schema#domain https://w3id.org/IproK/resource#Resource\n",
            "* Owlready2 * ADD TRIPLE https://w3id.org/IproK/resource#budgetedUnits http://www.w3.org/2000/01/rdf-schema#range http://www.w3.org/2001/XMLSchema#decimal\n",
            "* Owlready2 * ADD TRIPLE https://w3id.org/IproK/resource#actualUnits http://www.w3.org/1999/02/22-rdf-syntax-ns#type http://www.w3.org/2002/07/owl#DatatypeProperty\n",
            "* Owlready2 * ADD TRIPLE https://w3id.org/IproK/resource#actualUnits http://www.w3.org/2000/01/rdf-schema#domain https://w3id.org/IproK/resource#Resource\n",
            "* Owlready2 * ADD TRIPLE https://w3id.org/IproK/resource#actualUnits http://www.w3.org/2000/01/rdf-schema#range http://www.w3.org/2001/XMLSchema#decimal\n",
            "* Owlready2 * ADD TRIPLE https://w3id.org/IproK/resource#remainingUnits http://www.w3.org/1999/02/22-rdf-syntax-ns#type http://www.w3.org/2002/07/owl#DatatypeProperty\n",
            "* Owlready2 * ADD TRIPLE https://w3id.org/IproK/resource#remainingUnits http://www.w3.org/2000/01/rdf-schema#domain https://w3id.org/IproK/resource#Resource\n",
            "* Owlready2 * ADD TRIPLE https://w3id.org/IproK/resource#remainingUnits http://www.w3.org/2000/01/rdf-schema#range http://www.w3.org/2001/XMLSchema#decimal\n",
            "* Owlready2 * ADD TRIPLE https://w3id.org/IproK/resource#atCompleteUnits http://www.w3.org/1999/02/22-rdf-syntax-ns#type http://www.w3.org/2002/07/owl#DatatypeProperty\n",
            "* Owlready2 * ADD TRIPLE https://w3id.org/IproK/resource#atCompleteUnits http://www.w3.org/2000/01/rdf-schema#domain https://w3id.org/IproK/resource#Resource\n",
            "* Owlready2 * ADD TRIPLE https://w3id.org/IproK/resource#atCompleteUnits http://www.w3.org/2000/01/rdf-schema#range http://www.w3.org/2001/XMLSchema#decimal\n",
            "* Owlready2 * ADD TRIPLE https://w3id.org/IproK/resource#isPrimaryResource http://www.w3.org/1999/02/22-rdf-syntax-ns#type http://www.w3.org/2002/07/owl#DatatypeProperty\n",
            "* Owlready2 * ADD TRIPLE https://w3id.org/IproK/resource#isPrimaryResource http://www.w3.org/1999/02/22-rdf-syntax-ns#type http://www.w3.org/2002/07/owl#FunctionalProperty\n",
            "* Owlready2 * ADD TRIPLE https://w3id.org/IproK/resource#isPrimaryResource http://www.w3.org/2000/01/rdf-schema#domain https://w3id.org/IproK/resource#Resource\n",
            "* Owlready2 * ADD TRIPLE https://w3id.org/IproK/resource#isPrimaryResource http://www.w3.org/2000/01/rdf-schema#range http://www.w3.org/2001/XMLSchema#boolean\n",
            "* Owlready2 * ADD TRIPLE https://w3id.org/IproK/resource#hasResourceType http://www.w3.org/1999/02/22-rdf-syntax-ns#type http://www.w3.org/2002/07/owl#ObjectProperty\n",
            "* Owlready2 * ADD TRIPLE https://w3id.org/IproK/resource#hasResourceType http://www.w3.org/1999/02/22-rdf-syntax-ns#type http://www.w3.org/2002/07/owl#FunctionalProperty\n",
            "* Owlready2 * ADD TRIPLE https://w3id.org/IproK/resource#hasResourceType http://www.w3.org/2000/01/rdf-schema#domain https://w3id.org/IproK/resource#Resource\n",
            "* Owlready2 * ADD TRIPLE https://w3id.org/IproK/resource#hasResourceType http://www.w3.org/2000/01/rdf-schema#range https://w3id.org/IproK/resource#ResourceType\n",
            "* Owlready2 * ADD TRIPLE https://w3id.org/IproK/resource#hasTrackingTag http://www.w3.org/1999/02/22-rdf-syntax-ns#type http://www.w3.org/2002/07/owl#ObjectProperty\n",
            "* Owlready2 * ADD TRIPLE https://w3id.org/IproK/resource#hasTrackingTag http://www.w3.org/2000/01/rdf-schema#domain https://w3id.org/IproK/resource#Resource\n",
            "* Owlready2 * ADD TRIPLE https://w3id.org/IproK/resource#hasTrackingTag http://www.w3.org/2000/01/rdf-schema#range https://w3id.org/IproK/resource#TrackingTag\n",
            "* Owlready2 * ADD TRIPLE https://w3id.org/IproK/resource#measuredIn http://www.w3.org/1999/02/22-rdf-syntax-ns#type http://www.w3.org/2002/07/owl#ObjectProperty\n",
            "* Owlready2 * ADD TRIPLE https://w3id.org/IproK/resource#measuredIn http://www.w3.org/1999/02/22-rdf-syntax-ns#type http://www.w3.org/2002/07/owl#FunctionalProperty\n",
            "* Owlready2 * ADD TRIPLE https://w3id.org/IproK/resource#measuredIn http://www.w3.org/2000/01/rdf-schema#domain https://w3id.org/IproK/resource#Resource\n",
            "* Owlready2 * ADD TRIPLE https://w3id.org/IproK/resource#measuredIn http://www.w3.org/2000/01/rdf-schema#range https://w3id.org/IproK/resource#Units\n",
            "* Owlready2 * ADD TRIPLE https://w3id.org/IproK/resource#hasResourceConstraints http://www.w3.org/1999/02/22-rdf-syntax-ns#type http://www.w3.org/2002/07/owl#ObjectProperty\n",
            "* Owlready2 * ADD TRIPLE https://w3id.org/IproK/resource#hasResourceConstraints http://www.w3.org/2000/01/rdf-schema#domain https://w3id.org/IproK/resource#Resource\n",
            "* Owlready2 * ADD TRIPLE https://w3id.org/IproK/resource#hasResourceConstraints http://www.w3.org/2000/01/rdf-schema#range https://w3id.org/IproK/resource#ResourceConstraint\n"
          ]
        }
      ]
    },
    {
      "cell_type": "code",
      "source": [
        "resource_iprok.save(file=\"iprok_resource.owl\", format=\"rdfxml\")\n",
        "g = Graph()\n",
        "g.parse(\"iprok_resource.owl\", format=\"xml\")\n",
        "g.serialize(destination=\"iprok_resource.ttl\", format=\"turtle\")\n"
      ],
      "metadata": {
        "colab": {
          "base_uri": "https://localhost:8080/"
        },
        "id": "chFUCWhYTBrc",
        "outputId": "70a22149-4b51-4c1d-b8dd-4de8ec187b5c"
      },
      "execution_count": 7,
      "outputs": [
        {
          "output_type": "stream",
          "name": "stderr",
          "text": [
            "* Owlready2 * Saving ontology resource to iprok_resource.owl...\n"
          ]
        },
        {
          "output_type": "execute_result",
          "data": {
            "text/plain": [
              "<Graph identifier=N326182a6edbb40a0a67700c804ced1f5 (<class 'rdflib.graph.Graph'>)>"
            ]
          },
          "metadata": {},
          "execution_count": 7
        }
      ]
    }
  ]
}