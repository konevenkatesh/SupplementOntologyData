{
  "nbformat": 4,
  "nbformat_minor": 0,
  "metadata": {
    "colab": {
      "provenance": [],
      "authorship_tag": "ABX9TyOTpG8TA4jNQ6yq79HPUWj9",
      "include_colab_link": true
    },
    "kernelspec": {
      "name": "python3",
      "display_name": "Python 3"
    },
    "language_info": {
      "name": "python"
    }
  },
  "cells": [
    {
      "cell_type": "markdown",
      "metadata": {
        "id": "view-in-github",
        "colab_type": "text"
      },
      "source": [
        "<a href=\"https://colab.research.google.com/github/konevenkatesh/SupplementOntologyData/blob/master/test/iprok.ipynb\" target=\"_parent\"><img src=\"https://colab.research.google.com/assets/colab-badge.svg\" alt=\"Open In Colab\"/></a>"
      ]
    },
    {
      "cell_type": "code",
      "execution_count": 17,
      "metadata": {
        "colab": {
          "base_uri": "https://localhost:8080/"
        },
        "id": "vFe0lOZcP0_2",
        "outputId": "6c02b325-d975-4ff0-ca74-03de258dd6b5"
      },
      "outputs": [
        {
          "output_type": "stream",
          "name": "stdout",
          "text": [
            "Requirement already satisfied: owlready2 in /usr/local/lib/python3.11/dist-packages (0.47)\n",
            "Requirement already satisfied: rdflib in /usr/local/lib/python3.11/dist-packages (7.1.4)\n",
            "Requirement already satisfied: pyparsing<4,>=2.1.0 in /usr/local/lib/python3.11/dist-packages (from rdflib) (3.2.3)\n"
          ]
        }
      ],
      "source": [
        "!pip install owlready2\n",
        "!pip install rdflib"
      ]
    },
    {
      "cell_type": "code",
      "source": [
        "# Import necessary libraries\n",
        "from owlready2 import *\n",
        "from datetime import date, datetime, timedelta\n",
        "from rdflib import Graph"
      ],
      "metadata": {
        "id": "uhCqbHkGQLPC"
      },
      "execution_count": 18,
      "outputs": []
    },
    {
      "cell_type": "code",
      "source": [
        "set_log_level(9)"
      ],
      "metadata": {
        "id": "dacSwaNCQOTA"
      },
      "execution_count": 19,
      "outputs": []
    },
    {
      "cell_type": "code",
      "source": [
        "# Define the IproK Ontology IRI and get/create the ontology\n",
        "iprok_iri = \"https://w3id.org/iprok#\"\n",
        "iprok = get_ontology(iprok_iri)"
      ],
      "metadata": {
        "colab": {
          "base_uri": "https://localhost:8080/"
        },
        "id": "Mntohp8WQRw1",
        "outputId": "f57be08c-c9d0-4903-a84b-17b93fada9c7"
      },
      "execution_count": 20,
      "outputs": [
        {
          "output_type": "stream",
          "name": "stdout",
          "text": [
            "* Owlready2 * Reseting property iprok.constraintType: new triples are now available.\n",
            "* Owlready2 * Reseting property iprok.constraintDate: new triples are now available.\n",
            "* Owlready2 * Reseting property iprok.hasGlobalId: new triples are now available.\n",
            "* Owlready2 * Reseting property iprok.hasId: new triples are now available.\n",
            "* Owlready2 * Reseting property iprok.hasName: new triples are now available.\n",
            "* Owlready2 * Reseting property iprok.hasDescription: new triples are now available.\n"
          ]
        },
        {
          "output_type": "stream",
          "name": "stderr",
          "text": [
            "* Owlready2 *     ...6 properties found: constraintType, constraintDate, hasGlobalId, hasId, hasName, hasDescription\n",
            "* Owlready2 * Creating new ontology iprok <https://w3id.org/iprok#>.\n"
          ]
        }
      ]
    },
    {
      "cell_type": "code",
      "source": [
        "\n",
        "\n",
        "with iprok:\n",
        "    # Define a base class for all IproK specific entities\n",
        "    class IproKThing(Thing):\n",
        "        namespace = iprok # Make sure 'iprok' namespace is correctly assigned\n",
        "        label = [\"IproK Thing\"]\n",
        "        comment = [\"A base class for all entities specific to the IproK Ontology.\"]\n",
        "        pass\n",
        "\n",
        "    class Constraint(IproKThing):\n",
        "        label = [\"Constraint\"]\n",
        "        comment = [\"Represents specific date or condition constraints applied to tasks or other entities.\"]\n",
        "        pass\n",
        "\n",
        "    class Calendar(IproKThing):\n",
        "        label = [\"Calendar\"]\n",
        "        comment = [\"Defines working and non-working times, holidays, and project-specific work schedules.\"]\n",
        "        pass\n",
        "\n",
        "    class Actor(IproKThing):\n",
        "        label = [\"Actor\"]\n",
        "        comment = [\"Represents an individual, group, organization, or system that participates in or is responsible for processes, tasks, or owns resources.\"]\n",
        "        pass\n",
        "\n",
        "    # Properties for Constraint (Corrected comment from \"Common Object Properties\")\n",
        "    class constraintType(DataProperty, FunctionalProperty):\n",
        "        domain = [Constraint]\n",
        "        range = [str] # e.g., \"MustStartOn\", \"FinishNoLaterThan\"\n",
        "        label = [\"constraint Type\"]\n",
        "        comment = [\"The type of constraint (e.g., 'MustStartOn', 'FinishNoLaterThan').\"]\n",
        "\n",
        "    class constraintDate(DataProperty, FunctionalProperty):\n",
        "        domain = [Constraint]\n",
        "        range = [datetime]\n",
        "        label = [\"constraint Date\"]\n",
        "        comment = [\"The specific date associated with a constraint.\"]\n",
        "\n",
        "    # Common Data Properties\n",
        "    class hasGlobalId(DataProperty, FunctionalProperty):\n",
        "        range = [str]\n",
        "        label = [\"has Global Id\"]\n",
        "        comment = [\"A globally unique identifier for an entity.\"]\n",
        "\n",
        "    class hasId(DataProperty, FunctionalProperty):\n",
        "        range = [str]\n",
        "        label = [\"has Id\"]\n",
        "        comment = [\"A local or project-specific identifier for an entity.\"]\n",
        "\n",
        "    class hasName(DataProperty, FunctionalProperty):\n",
        "        range = [str]\n",
        "        label = [\"has Name\"]\n",
        "        comment = [\"The common or human-readable name of an entity.\"]\n",
        "\n",
        "    class hasDescription(DataProperty):\n",
        "        range = [str]\n",
        "        label = [\"has Description\"]\n",
        "        comment = [\"A textual description providing further details about an entity.\"]"
      ],
      "metadata": {
        "colab": {
          "base_uri": "https://localhost:8080/"
        },
        "id": "rfvdo-xIQ--X",
        "outputId": "955bc46d-f9d4-4125-a915-139c897290c2"
      },
      "execution_count": 21,
      "outputs": [
        {
          "output_type": "stream",
          "name": "stderr",
          "text": [
            "* Owlready2 * ADD TRIPLE https://w3id.org/iprok#Actor http://www.w3.org/1999/02/22-rdf-syntax-ns#type http://www.w3.org/2002/07/owl#Class\n",
            "* Owlready2 * ADD TRIPLE https://w3id.org/iprok#Actor http://www.w3.org/2000/01/rdf-schema#subClassOf https://w3id.org/iprok#IproKThing\n",
            "* Owlready2 * ADD TRIPLE https://w3id.org/iprok#Actor http://www.w3.org/2000/01/rdf-schema#label Actor http://www.w3.org/2001/XMLSchema#string\n",
            "* Owlready2 * ADD TRIPLE https://w3id.org/iprok#Actor http://www.w3.org/2000/01/rdf-schema#comment Represents an individual, group, organization, or system that participates in or is responsible for processes, tasks, or owns resources. http://www.w3.org/2001/XMLSchema#string\n"
          ]
        }
      ]
    },
    {
      "cell_type": "code",
      "source": [
        "iprok.save(file=\"iprok.owl\", format=\"rdfxml\")"
      ],
      "metadata": {
        "colab": {
          "base_uri": "https://localhost:8080/"
        },
        "id": "EGjysfvkRjMu",
        "outputId": "a5cf8a46-0726-4eba-f4a4-db75f3dae095"
      },
      "execution_count": 22,
      "outputs": [
        {
          "output_type": "stream",
          "name": "stderr",
          "text": [
            "* Owlready2 * Saving ontology iprok to iprok.owl...\n"
          ]
        }
      ]
    },
    {
      "cell_type": "code",
      "source": [
        "# Consistency Evaluation by HermiT, developed by the Department of Computer Science at the University of Oxford\n",
        "iprok = get_ontology(\"iprok.owl\").load()\n",
        "with iprok:\n",
        "  try:\n",
        "    sync_reasoner_hermit()\n",
        "    print(\"The ontology is consistent.\")\n",
        "  except:\n",
        "    print(\"The ontology is inconsistent.\")\n"
      ],
      "metadata": {
        "colab": {
          "base_uri": "https://localhost:8080/"
        },
        "id": "isvxsTwuyATW",
        "outputId": "639b8153-9fa4-4846-a668-95becca6591c"
      },
      "execution_count": 23,
      "outputs": [
        {
          "output_type": "stream",
          "name": "stdout",
          "text": [
            "* Owlready2 * Reseting property iprok.constraintType: new triples are now available.\n",
            "* Owlready2 * Reseting property iprok.constraintDate: new triples are now available.\n",
            "* Owlready2 * Reseting property iprok.hasGlobalId: new triples are now available.\n",
            "* Owlready2 * Reseting property iprok.hasId: new triples are now available.\n",
            "* Owlready2 * Reseting property iprok.hasName: new triples are now available.\n",
            "* Owlready2 * Reseting property iprok.hasDescription: new triples are now available.\n",
            "* Owlready2 * Reseting property iprok.constraintType: new triples are now available.\n",
            "* Owlready2 * Reseting property iprok.constraintDate: new triples are now available.\n",
            "* Owlready2 * Reseting property iprok.hasGlobalId: new triples are now available.\n",
            "* Owlready2 * Reseting property iprok.hasId: new triples are now available.\n",
            "* Owlready2 * Reseting property iprok.hasName: new triples are now available.\n",
            "* Owlready2 * Reseting property iprok.hasDescription: new triples are now available.\n"
          ]
        },
        {
          "output_type": "stream",
          "name": "stderr",
          "text": [
            "* Owlready2 *     ...6 properties found: constraintType, constraintDate, hasGlobalId, hasId, hasName, hasDescription\n",
            "* Owlready2 * Creating new ontology iprok <iprok.owl#>.\n",
            "* Owlready2 * ADD TRIPLE iprok.owl http://www.w3.org/1999/02/22-rdf-syntax-ns#type http://www.w3.org/2002/07/owl#Ontology\n",
            "* Owlready2 *     ...loading ontology iprok (cached)...\n",
            "* Owlready2 *     ...6 properties found: constraintType, constraintDate, hasGlobalId, hasId, hasName, hasDescription\n",
            "* Owlready2 * Saving world <owlready2.namespace.World object at 0x78a37983fdd0> to /tmp/tmpkan8gt1v...\n",
            "* Owlready2 * Running HermiT...\n",
            "    java -Xmx2000M -cp /usr/local/lib/python3.11/dist-packages/owlready2/hermit:/usr/local/lib/python3.11/dist-packages/owlready2/hermit/HermiT.jar org.semanticweb.HermiT.cli.CommandLine -c -O -D -I file:////tmp/tmpkan8gt1v\n"
          ]
        },
        {
          "output_type": "stream",
          "name": "stdout",
          "text": [
            "The ontology is consistent.\n"
          ]
        },
        {
          "output_type": "stream",
          "name": "stderr",
          "text": [
            "* Owlready2 * HermiT took 2.089509963989258 seconds\n",
            "* Owlready * (NB: only changes on entities loaded in Python are shown, other changes are done but not listed)\n"
          ]
        }
      ]
    },
    {
      "cell_type": "code",
      "source": [
        "from rdflib import Graph\n",
        "\n",
        "g= Graph()\n",
        "g.parse(\"iprok.owl\", format=\"xml\")\n",
        "g.serialize(destination=\"iprok.ttl\", format=\"ttl\")"
      ],
      "metadata": {
        "colab": {
          "base_uri": "https://localhost:8080/"
        },
        "id": "MZ58h7ZGRq8g",
        "outputId": "c8803b6a-5570-4279-9241-9a3d19804668"
      },
      "execution_count": 24,
      "outputs": [
        {
          "output_type": "execute_result",
          "data": {
            "text/plain": [
              "<Graph identifier=N0402ace4f11747e3a7c26d6b0615f8f2 (<class 'rdflib.graph.Graph'>)>"
            ]
          },
          "metadata": {},
          "execution_count": 24
        }
      ]
    },
    {
      "cell_type": "code",
      "source": [
        "iprok.destroy()"
      ],
      "metadata": {
        "id": "zrsEXKu0Ruqn"
      },
      "execution_count": 25,
      "outputs": []
    }
  ]
}